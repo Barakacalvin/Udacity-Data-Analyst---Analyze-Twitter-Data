{
 "cells": [
  {
   "cell_type": "markdown",
   "metadata": {},
   "source": [
    "> # Project 02 - Wrangle and Analyze Data\n",
    "\n",
    "\n",
    "Report prepared by: Calvin Baraka    \n",
    "Project: Wrangle and Analyze Data  \n",
    "\n",
    "***\n",
    "\n",
    "> ## Table of Contents\n",
    "<ul>\n",
    "<li><a href=\"#Executive Summary\">Executive Summary</a></li>\n",
    "<li><a href=\"#Introduction\">1. Introduction</a></li>\n",
    "<li><a href=\"#Gathering of Data\">2. Gathering of Data</a></li>\n",
    "<li><a href=\"#Assessment of Data\">3. Assessment of Data</a></li>\n",
    "<li><a href=\"#Cleaning of Data\">4. Cleaning of Data</a></li>\n",
    "<li><a href=\"#Analysis and Visualizaton of Data<\">5. Analysis and Visualizaton of Data</a></li>\n",
    "<li><a href=\"#Conclusions Drawn\">6. Conclusions Drawn</a></li>\n",
    "<li><a href=\"#References\">7. References</a></li>\n",
    "</ul>\n",
    "\n",
    "***"
   ]
  },
  {
   "cell_type": "markdown",
   "metadata": {},
   "source": [
    "> ## Executive Summary: <a id='Executive Summary'></a>\n",
    "\n",
    "The project aimed to give to the student a real case of how to gather, assess, clean, and analyze the data, in other words its englobes the Data Wrangling and Exploratory Data Analysis. The database used as an example is about the [@dog_rate][dog_rate] user from Twitter, as known as [WeRateDogs™][dog_rate], this account has more than 7,572,000 followers, 9,500 tweets, and 141,000 likes.\n",
    "\n",
    "The Data Gathering process bundled three different tasks, the first one download file from URL and later loading to the Jupyter Notebook, which requires a manual step, the second downloading a file programmatically, and the third gathering data from the Twitter API. This step has also required to save these data in a local machine.\n",
    "\n",
    "The final data frame was stored as `twitter_archive_master.csv`.\n",
    "\n",
    "In the Data Analysis and Visualization, which I have interpreted as Exploratory Analysis, I have posed few questions to guide my analysis, which lead me to found strong evidence of:\n",
    "\n",
    "* Seasonality in the number of tweets along the week and along the year;\n",
    "* A positive correlation between the number of retweets and the number of favourites, and;\n",
    "* No correlation between the algorithms output used to predict the dog breed.\n",
    "\n",
    "Inferences drawn from the data include:\n",
    "* correlation between the retweet_count and favourite_count are positively correlated\n",
    "* the Golden Retriever and Labrador Retriever were the most popoular dog breeds"
   ]
  },
  {
   "cell_type": "markdown",
   "metadata": {},
   "source": [
    "> ## 1. Introduction  <a id='Introduction'></a>\n",
    "\n",
    "This Jupyter Notebook aims to document the process of Gathering, Assessing, and Cleaning of Data Science Foundations II Nanodegree Program Project 02.\n",
    "\n",
    "#### For this project the softwares used were:\n",
    "* VS Code\n",
    "* Anaconda3 Base Python v.3.9.12\n",
    "\n",
    "\n",
    "N/B. all references will be listed at the end of the project that is all websites accesssed and videos used for reference\n",
    "\n"
   ]
  },
  {
   "cell_type": "markdown",
   "metadata": {},
   "source": [
    "> ### 1(a). Reproducibility and Future Proofing\n",
    "This project will be published as a .ipynb code document to enable for it to be reproduced in future instances. I will try my level best to document each step used in the analysis and explain what each step entails and what goals were achieved in each step.\n",
    "The document will also be published in pdf and I will pose research questions to be answwered in this document so as to guide the nalysis process. \n",
    "The cleaning process will als be highlighted with any issues encountered clearly highlighted and worked on.\n",
    "\n",
    "\n",
    "#### Repository\n",
    "\n",
    "You can access all files of this report in this repository:\n",
    "\n",
    "* #https://github.com/Barakacalvin/Udacity-Data-Analyst---Analyze-Twitter-Data.git\n",
    "\n",
    "### Other key deliverables can be accessed fron the following links:\n",
    "* Act Report and;\n",
    "* Wrangle Report\n",
    "\n",
    "[dog_rate]: https://twitter.com/dog_rates\n",
    "\n",
    "\n",
    "\n",
    "\n",
    "\n"
   ]
  },
  {
   "cell_type": "markdown",
   "metadata": {},
   "source": [
    "> ### 1(b) Importing Libraries\n",
    "\n",
    "A couple of libraries will be used to manage the data that will be gathered. Notably is the Tweepy library thatenables us to work with the Twitter API. any library that I didnt have before was installed prior to this final report. For reference purposes, the liraries used are:\n",
    "* Pandas\n",
    "* Matplotlib\n",
    "* Numpy\n",
    "* os\n",
    "* Tweepy\n",
    "* Requests\n",
    "* Seaborn\n",
    "* re\n",
    "* json\n",
    "* time"
   ]
  },
  {
   "cell_type": "code",
   "execution_count": 2,
   "metadata": {},
   "outputs": [],
   "source": [
    "# Importing Library.\n",
    "\n",
    "# Importing pandas to work with DataFrames.\n",
    "import pandas as pd\n",
    "pd.set_option('mode.chained_assignment','raise')\n",
    "\n",
    "# Importing numpy to general methods.\n",
    "import numpy as np\n",
    "\n",
    "# Importing the time package to calculate the elapse time to access the Twitter API\n",
    "import time\n",
    "\n",
    "# We import seaborn to enable us to get better vizualisations.\n",
    "import seaborn as sns\n",
    "\n",
    "# Importing the re package to use the regular expressions.\n",
    "import re\n",
    "\n",
    "# The OS package enables us to write and open files.\n",
    "import os\n",
    "\n",
    "# Requests enables us to create a object from a given URL.\n",
    "import requests\n",
    "\n",
    "import tweepy # Importing the Client Code to use the Twitter API.\n",
    "from tweepy import OAuthHandler\n",
    "\n",
    "import json # Json eases the workaround json files\n",
    "from timeit import default_timer as timer\n",
    "\n",
    "\n",
    "# matplotlib enables us ro run grapical outputs while inline prints the outputs in the document.\n",
    "import matplotlib.pyplot as plt\n",
    "%matplotlib inline\n"
   ]
  },
  {
   "cell_type": "markdown",
   "metadata": {},
   "source": [
    "***"
   ]
  },
  {
   "cell_type": "markdown",
   "metadata": {},
   "source": [
    "> ## 2. Data Gathering <a id='gathering'></a>\n",
    "\n",
    "This project requires the use of a couple of datasets provided by Udacity. the following datasets are provided by udcity and will have to be gathered and stored locally. \n",
    "\n",
    "* `image-predictions.tsv`, and; `twitter-archive-enhanced.csv`. The project wll als require us to access the twitter API in order to garther additional data to be used alongside the provided data in order to avail for proper and indepth analysis amd also enable us to draw conclusions that are well researched and supported by indepth analysis.\n",
    "\n",
    "First, I will create a folder to store the data and later I will download each file."
   ]
  },
  {
   "cell_type": "markdown",
   "metadata": {},
   "source": [
    "> ### 2a. Downloading data from Udacity"
   ]
  },
  {
   "cell_type": "markdown",
   "metadata": {},
   "source": [
    "For this section we will download data the data that will be used in the project. The data is hosted in the the Udacity website and will be downloaded programatically.\n",
    "* we'll create folders to host the data and download the needed files into the folder\n",
    "* we'll also access the twitter API in order to create the tweet_jason.txt and clean the data."
   ]
  },
  {
   "cell_type": "code",
   "execution_count": 3,
   "metadata": {},
   "outputs": [],
   "source": [
    "# First we will create a list of files to be downloaded:\n",
    "urls_list = ['https://video.udacity-data.com/topher/2018/November/5bf60c1e_twitter-archive-enhanced-2/twitter-archive-enhanced-2.csv',\n",
    "            'https://video.udacity-data.com/topher/2018/November/5bf60c69_image-predictions-3/image-predictions-3.tsv']\n",
    "\n",
    "# We will then create the folder where the dataset will be downloaded and saved. The code will check for the existence of the file and if not pesent,\n",
    "# the codeblock below will create a file\n",
    "fl_name = 'Twitter Dataset'\n",
    "if not os.path.exists(fl_name): \n",
    "    os.mkdir(fl_name)\n",
    "\n",
    "\n",
    "# we will then create a loop that will download the files from the URLS listed above.\n",
    "for lnk in urls_list:\n",
    "    if not lnk.split('/')[-1].replace('-','_') in os.listdir(fl_name):                              # Check if the files already exist.\n",
    "        feedback = requests.get(lnk)                                                               # Creating an object of the given URL.\n",
    "        with open(os.path.join(fl_name,lnk.split('/')[-1].replace('-','_')), mode = 'wb') as file:  # Defining the file name.\n",
    "            file.write(feedback.content)                                                           # Saving the object.\n",
    "\n"
   ]
  },
  {
   "cell_type": "code",
   "execution_count": null,
   "metadata": {},
   "outputs": [],
   "source": []
  },
  {
   "cell_type": "markdown",
   "metadata": {},
   "source": [
    " We need to load the downloaded files into the jupyter notebook. The files are currently saved in the local machine at the Twitter `Dataset folder`. \n",
    "*  To note is that the Image predictions file is a `.tsv files` (separated by tabs) and we need to read it as such. while the other is a regular csv file\n",
    "*  For both these files we use foward slashes instead of backs lashes in order to avoid the occurence of a syntax erros that would occur if the latter was used that is `(SyntaxError: (unicode error) 'unicodeescape' codec can't decode bytes in position 2-3: truncated \\UXXXXXXXX escape)`."
   ]
  },
  {
   "cell_type": "code",
   "execution_count": 4,
   "metadata": {},
   "outputs": [
    {
     "data": {
      "text/html": [
       "<div>\n",
       "<style scoped>\n",
       "    .dataframe tbody tr th:only-of-type {\n",
       "        vertical-align: middle;\n",
       "    }\n",
       "\n",
       "    .dataframe tbody tr th {\n",
       "        vertical-align: top;\n",
       "    }\n",
       "\n",
       "    .dataframe thead th {\n",
       "        text-align: right;\n",
       "    }\n",
       "</style>\n",
       "<table border=\"1\" class=\"dataframe\">\n",
       "  <thead>\n",
       "    <tr style=\"text-align: right;\">\n",
       "      <th></th>\n",
       "      <th>tweet_id</th>\n",
       "      <th>in_reply_to_status_id</th>\n",
       "      <th>in_reply_to_user_id</th>\n",
       "      <th>timestamp</th>\n",
       "      <th>source</th>\n",
       "      <th>text</th>\n",
       "      <th>retweeted_status_id</th>\n",
       "      <th>retweeted_status_user_id</th>\n",
       "      <th>retweeted_status_timestamp</th>\n",
       "      <th>expanded_urls</th>\n",
       "      <th>rating_numerator</th>\n",
       "      <th>rating_denominator</th>\n",
       "      <th>name</th>\n",
       "      <th>doggo</th>\n",
       "      <th>floofer</th>\n",
       "      <th>pupper</th>\n",
       "      <th>puppo</th>\n",
       "    </tr>\n",
       "  </thead>\n",
       "  <tbody>\n",
       "    <tr>\n",
       "      <th>0</th>\n",
       "      <td>892420643555336193</td>\n",
       "      <td>NaN</td>\n",
       "      <td>NaN</td>\n",
       "      <td>2017-08-01 16:23:56 +0000</td>\n",
       "      <td>&lt;a href=\"http://twitter.com/download/iphone\" r...</td>\n",
       "      <td>This is Phineas. He's a mystical boy. Only eve...</td>\n",
       "      <td>NaN</td>\n",
       "      <td>NaN</td>\n",
       "      <td>NaN</td>\n",
       "      <td>https://twitter.com/dog_rates/status/892420643...</td>\n",
       "      <td>13</td>\n",
       "      <td>10</td>\n",
       "      <td>Phineas</td>\n",
       "      <td>None</td>\n",
       "      <td>None</td>\n",
       "      <td>None</td>\n",
       "      <td>None</td>\n",
       "    </tr>\n",
       "    <tr>\n",
       "      <th>1</th>\n",
       "      <td>892177421306343426</td>\n",
       "      <td>NaN</td>\n",
       "      <td>NaN</td>\n",
       "      <td>2017-08-01 00:17:27 +0000</td>\n",
       "      <td>&lt;a href=\"http://twitter.com/download/iphone\" r...</td>\n",
       "      <td>This is Tilly. She's just checking pup on you....</td>\n",
       "      <td>NaN</td>\n",
       "      <td>NaN</td>\n",
       "      <td>NaN</td>\n",
       "      <td>https://twitter.com/dog_rates/status/892177421...</td>\n",
       "      <td>13</td>\n",
       "      <td>10</td>\n",
       "      <td>Tilly</td>\n",
       "      <td>None</td>\n",
       "      <td>None</td>\n",
       "      <td>None</td>\n",
       "      <td>None</td>\n",
       "    </tr>\n",
       "    <tr>\n",
       "      <th>2</th>\n",
       "      <td>891815181378084864</td>\n",
       "      <td>NaN</td>\n",
       "      <td>NaN</td>\n",
       "      <td>2017-07-31 00:18:03 +0000</td>\n",
       "      <td>&lt;a href=\"http://twitter.com/download/iphone\" r...</td>\n",
       "      <td>This is Archie. He is a rare Norwegian Pouncin...</td>\n",
       "      <td>NaN</td>\n",
       "      <td>NaN</td>\n",
       "      <td>NaN</td>\n",
       "      <td>https://twitter.com/dog_rates/status/891815181...</td>\n",
       "      <td>12</td>\n",
       "      <td>10</td>\n",
       "      <td>Archie</td>\n",
       "      <td>None</td>\n",
       "      <td>None</td>\n",
       "      <td>None</td>\n",
       "      <td>None</td>\n",
       "    </tr>\n",
       "    <tr>\n",
       "      <th>3</th>\n",
       "      <td>891689557279858688</td>\n",
       "      <td>NaN</td>\n",
       "      <td>NaN</td>\n",
       "      <td>2017-07-30 15:58:51 +0000</td>\n",
       "      <td>&lt;a href=\"http://twitter.com/download/iphone\" r...</td>\n",
       "      <td>This is Darla. She commenced a snooze mid meal...</td>\n",
       "      <td>NaN</td>\n",
       "      <td>NaN</td>\n",
       "      <td>NaN</td>\n",
       "      <td>https://twitter.com/dog_rates/status/891689557...</td>\n",
       "      <td>13</td>\n",
       "      <td>10</td>\n",
       "      <td>Darla</td>\n",
       "      <td>None</td>\n",
       "      <td>None</td>\n",
       "      <td>None</td>\n",
       "      <td>None</td>\n",
       "    </tr>\n",
       "    <tr>\n",
       "      <th>4</th>\n",
       "      <td>891327558926688256</td>\n",
       "      <td>NaN</td>\n",
       "      <td>NaN</td>\n",
       "      <td>2017-07-29 16:00:24 +0000</td>\n",
       "      <td>&lt;a href=\"http://twitter.com/download/iphone\" r...</td>\n",
       "      <td>This is Franklin. He would like you to stop ca...</td>\n",
       "      <td>NaN</td>\n",
       "      <td>NaN</td>\n",
       "      <td>NaN</td>\n",
       "      <td>https://twitter.com/dog_rates/status/891327558...</td>\n",
       "      <td>12</td>\n",
       "      <td>10</td>\n",
       "      <td>Franklin</td>\n",
       "      <td>None</td>\n",
       "      <td>None</td>\n",
       "      <td>None</td>\n",
       "      <td>None</td>\n",
       "    </tr>\n",
       "  </tbody>\n",
       "</table>\n",
       "</div>"
      ],
      "text/plain": [
       "             tweet_id  in_reply_to_status_id  in_reply_to_user_id  \\\n",
       "0  892420643555336193                    NaN                  NaN   \n",
       "1  892177421306343426                    NaN                  NaN   \n",
       "2  891815181378084864                    NaN                  NaN   \n",
       "3  891689557279858688                    NaN                  NaN   \n",
       "4  891327558926688256                    NaN                  NaN   \n",
       "\n",
       "                   timestamp  \\\n",
       "0  2017-08-01 16:23:56 +0000   \n",
       "1  2017-08-01 00:17:27 +0000   \n",
       "2  2017-07-31 00:18:03 +0000   \n",
       "3  2017-07-30 15:58:51 +0000   \n",
       "4  2017-07-29 16:00:24 +0000   \n",
       "\n",
       "                                              source  \\\n",
       "0  <a href=\"http://twitter.com/download/iphone\" r...   \n",
       "1  <a href=\"http://twitter.com/download/iphone\" r...   \n",
       "2  <a href=\"http://twitter.com/download/iphone\" r...   \n",
       "3  <a href=\"http://twitter.com/download/iphone\" r...   \n",
       "4  <a href=\"http://twitter.com/download/iphone\" r...   \n",
       "\n",
       "                                                text  retweeted_status_id  \\\n",
       "0  This is Phineas. He's a mystical boy. Only eve...                  NaN   \n",
       "1  This is Tilly. She's just checking pup on you....                  NaN   \n",
       "2  This is Archie. He is a rare Norwegian Pouncin...                  NaN   \n",
       "3  This is Darla. She commenced a snooze mid meal...                  NaN   \n",
       "4  This is Franklin. He would like you to stop ca...                  NaN   \n",
       "\n",
       "   retweeted_status_user_id retweeted_status_timestamp  \\\n",
       "0                       NaN                        NaN   \n",
       "1                       NaN                        NaN   \n",
       "2                       NaN                        NaN   \n",
       "3                       NaN                        NaN   \n",
       "4                       NaN                        NaN   \n",
       "\n",
       "                                       expanded_urls  rating_numerator  \\\n",
       "0  https://twitter.com/dog_rates/status/892420643...                13   \n",
       "1  https://twitter.com/dog_rates/status/892177421...                13   \n",
       "2  https://twitter.com/dog_rates/status/891815181...                12   \n",
       "3  https://twitter.com/dog_rates/status/891689557...                13   \n",
       "4  https://twitter.com/dog_rates/status/891327558...                12   \n",
       "\n",
       "   rating_denominator      name doggo floofer pupper puppo  \n",
       "0                  10   Phineas  None    None   None  None  \n",
       "1                  10     Tilly  None    None   None  None  \n",
       "2                  10    Archie  None    None   None  None  \n",
       "3                  10     Darla  None    None   None  None  \n",
       "4                  10  Franklin  None    None   None  None  "
      ]
     },
     "execution_count": 4,
     "metadata": {},
     "output_type": "execute_result"
    }
   ],
   "source": [
    "# Loading the WeRateDogs archive.\n",
    "df_arch = pd.read_csv(\"C:/Users/calvi/OneDrive/Documents/Jupyter Notebooks/Udacity/Datat science foundations 2/Twitter Dataset/twitter_archive_enhanced_2.csv\") \n",
    "\n",
    "# Loading the Image predictions (.tsv file)  \n",
    "df_image = pd.read_csv('C:/Users/calvi/OneDrive/Documents/Jupyter Notebooks/Udacity/Datat science foundations 2/Twitter Dataset/image_predictions_3.tsv', sep = '\\t') \n",
    "\n",
    "df_arch.head(5)"
   ]
  },
  {
   "cell_type": "code",
   "execution_count": 5,
   "metadata": {},
   "outputs": [
    {
     "data": {
      "text/html": [
       "<div>\n",
       "<style scoped>\n",
       "    .dataframe tbody tr th:only-of-type {\n",
       "        vertical-align: middle;\n",
       "    }\n",
       "\n",
       "    .dataframe tbody tr th {\n",
       "        vertical-align: top;\n",
       "    }\n",
       "\n",
       "    .dataframe thead th {\n",
       "        text-align: right;\n",
       "    }\n",
       "</style>\n",
       "<table border=\"1\" class=\"dataframe\">\n",
       "  <thead>\n",
       "    <tr style=\"text-align: right;\">\n",
       "      <th></th>\n",
       "      <th>tweet_id</th>\n",
       "      <th>jpg_url</th>\n",
       "      <th>img_num</th>\n",
       "      <th>p1</th>\n",
       "      <th>p1_conf</th>\n",
       "      <th>p1_dog</th>\n",
       "      <th>p2</th>\n",
       "      <th>p2_conf</th>\n",
       "      <th>p2_dog</th>\n",
       "      <th>p3</th>\n",
       "      <th>p3_conf</th>\n",
       "      <th>p3_dog</th>\n",
       "    </tr>\n",
       "  </thead>\n",
       "  <tbody>\n",
       "    <tr>\n",
       "      <th>0</th>\n",
       "      <td>666020888022790149</td>\n",
       "      <td>https://pbs.twimg.com/media/CT4udn0WwAA0aMy.jpg</td>\n",
       "      <td>1</td>\n",
       "      <td>Welsh_springer_spaniel</td>\n",
       "      <td>0.465074</td>\n",
       "      <td>True</td>\n",
       "      <td>collie</td>\n",
       "      <td>0.156665</td>\n",
       "      <td>True</td>\n",
       "      <td>Shetland_sheepdog</td>\n",
       "      <td>0.061428</td>\n",
       "      <td>True</td>\n",
       "    </tr>\n",
       "    <tr>\n",
       "      <th>1</th>\n",
       "      <td>666029285002620928</td>\n",
       "      <td>https://pbs.twimg.com/media/CT42GRgUYAA5iDo.jpg</td>\n",
       "      <td>1</td>\n",
       "      <td>redbone</td>\n",
       "      <td>0.506826</td>\n",
       "      <td>True</td>\n",
       "      <td>miniature_pinscher</td>\n",
       "      <td>0.074192</td>\n",
       "      <td>True</td>\n",
       "      <td>Rhodesian_ridgeback</td>\n",
       "      <td>0.072010</td>\n",
       "      <td>True</td>\n",
       "    </tr>\n",
       "    <tr>\n",
       "      <th>2</th>\n",
       "      <td>666033412701032449</td>\n",
       "      <td>https://pbs.twimg.com/media/CT4521TWwAEvMyu.jpg</td>\n",
       "      <td>1</td>\n",
       "      <td>German_shepherd</td>\n",
       "      <td>0.596461</td>\n",
       "      <td>True</td>\n",
       "      <td>malinois</td>\n",
       "      <td>0.138584</td>\n",
       "      <td>True</td>\n",
       "      <td>bloodhound</td>\n",
       "      <td>0.116197</td>\n",
       "      <td>True</td>\n",
       "    </tr>\n",
       "    <tr>\n",
       "      <th>3</th>\n",
       "      <td>666044226329800704</td>\n",
       "      <td>https://pbs.twimg.com/media/CT5Dr8HUEAA-lEu.jpg</td>\n",
       "      <td>1</td>\n",
       "      <td>Rhodesian_ridgeback</td>\n",
       "      <td>0.408143</td>\n",
       "      <td>True</td>\n",
       "      <td>redbone</td>\n",
       "      <td>0.360687</td>\n",
       "      <td>True</td>\n",
       "      <td>miniature_pinscher</td>\n",
       "      <td>0.222752</td>\n",
       "      <td>True</td>\n",
       "    </tr>\n",
       "    <tr>\n",
       "      <th>4</th>\n",
       "      <td>666049248165822465</td>\n",
       "      <td>https://pbs.twimg.com/media/CT5IQmsXIAAKY4A.jpg</td>\n",
       "      <td>1</td>\n",
       "      <td>miniature_pinscher</td>\n",
       "      <td>0.560311</td>\n",
       "      <td>True</td>\n",
       "      <td>Rottweiler</td>\n",
       "      <td>0.243682</td>\n",
       "      <td>True</td>\n",
       "      <td>Doberman</td>\n",
       "      <td>0.154629</td>\n",
       "      <td>True</td>\n",
       "    </tr>\n",
       "  </tbody>\n",
       "</table>\n",
       "</div>"
      ],
      "text/plain": [
       "             tweet_id                                          jpg_url  \\\n",
       "0  666020888022790149  https://pbs.twimg.com/media/CT4udn0WwAA0aMy.jpg   \n",
       "1  666029285002620928  https://pbs.twimg.com/media/CT42GRgUYAA5iDo.jpg   \n",
       "2  666033412701032449  https://pbs.twimg.com/media/CT4521TWwAEvMyu.jpg   \n",
       "3  666044226329800704  https://pbs.twimg.com/media/CT5Dr8HUEAA-lEu.jpg   \n",
       "4  666049248165822465  https://pbs.twimg.com/media/CT5IQmsXIAAKY4A.jpg   \n",
       "\n",
       "   img_num                      p1   p1_conf  p1_dog                  p2  \\\n",
       "0        1  Welsh_springer_spaniel  0.465074    True              collie   \n",
       "1        1                 redbone  0.506826    True  miniature_pinscher   \n",
       "2        1         German_shepherd  0.596461    True            malinois   \n",
       "3        1     Rhodesian_ridgeback  0.408143    True             redbone   \n",
       "4        1      miniature_pinscher  0.560311    True          Rottweiler   \n",
       "\n",
       "    p2_conf  p2_dog                   p3   p3_conf  p3_dog  \n",
       "0  0.156665    True    Shetland_sheepdog  0.061428    True  \n",
       "1  0.074192    True  Rhodesian_ridgeback  0.072010    True  \n",
       "2  0.138584    True           bloodhound  0.116197    True  \n",
       "3  0.360687    True   miniature_pinscher  0.222752    True  \n",
       "4  0.243682    True             Doberman  0.154629    True  "
      ]
     },
     "execution_count": 5,
     "metadata": {},
     "output_type": "execute_result"
    }
   ],
   "source": [
    "df_image.head(5)"
   ]
  },
  {
   "cell_type": "markdown",
   "metadata": {},
   "source": [
    "> ### 2b. Twitter API & JSON\n",
    "\n",
    "As a requirement, the project requires for us to create the `tweet_json.txt` and consequently complete some missing and wrong values of the same file. Through online research, I found out that the easiest packages to use is the `tweepy package` and the `Twython package` that is a client code that accesses the Twitter API. \n",
    "The package that we'll use is the `tweepy package`\n",
    "The package was installed earlier trough the terminal using the Terminal by caling the `pip install` command.\n",
    "\n",
    "#### tweet_json access\n",
    "To access the the data  from twitter, we'll access the specific tweets using their id with the `statuses/show/:id API route`. \n",
    "we'll use the following to fill up our data:\n",
    "* `consumer_key` \n",
    "* `consumer_secret` \n",
    "* `access_token` \n",
    "* `access_secret`\n",
    "\n",
    "This will enable us to gather data that is missing from the `twitter_archive_enhanced.csv` file. This fills in the gaps and allows us to have credible and verifiable results."
   ]
  },
  {
   "cell_type": "code",
   "execution_count": null,
   "metadata": {},
   "outputs": [],
   "source": []
  },
  {
   "cell_type": "markdown",
   "metadata": {},
   "source": [
    "<em> N/B.: The above authentification chunk of code has a default configuration of the API,  the [`wait_on_rate_limit`][tweet], is set as `True`.</em>\n",
    "\n",
    "[tweet]: https://www.loginradius.com/blog/engineering/beginners-guide-to-tweepy/#:~:text=But%20keep%20in%20mind%20that,anything%20above%20that%20an%20error.\n",
    "\n",
    "<em> For reference, the following [tweepy documentation][tweepy_docs] was accessed and used for reference.<em>\n",
    "\n",
    "[tweepy_docs]: https://docs.tweepy.org/en/stable/api.html"
   ]
  },
  {
   "cell_type": "markdown",
   "metadata": {},
   "source": [
    "We need to identify `unique tweet_id` from the `df_arch` database so as to reduce time taken to loop through the tweets to return a json text document.\n",
    "This also reduces unnecessary repetitions.\n",
    "\n",
    "This will then be appended into a list for iteration later."
   ]
  },
  {
   "cell_type": "code",
   "execution_count": 6,
   "metadata": {},
   "outputs": [
    {
     "name": "stdout",
     "output_type": "stream",
     "text": [
      "We have 2356 unique tweet IDs.\n"
     ]
    }
   ],
   "source": [
    "# getting unique twitter ids.\n",
    "uniq_id = df_arch.tweet_id.tolist()\n",
    "\n",
    "# Print the number of unique tweets.\n",
    "print(\"We have {} unique tweet IDs.\" .format (len(uniq_id)))"
   ]
  },
  {
   "cell_type": "code",
   "execution_count": 7,
   "metadata": {},
   "outputs": [
    {
     "data": {
      "text/plain": [
       "[892420643555336193,\n",
       " 892177421306343426,\n",
       " 891815181378084864,\n",
       " 891689557279858688,\n",
       " 891327558926688256]"
      ]
     },
     "execution_count": 7,
     "metadata": {},
     "output_type": "execute_result"
    }
   ],
   "source": [
    "uniq_id[:5] #prints the first 5 unique ids"
   ]
  },
  {
   "cell_type": "markdown",
   "metadata": {},
   "source": [
    "> ### NOTE:\n",
    "* We will the use the Unique IDs to then download the tweepy status object based on tweet ids and then store in another list containing tweets fetched.\n",
    "* we also need to check the time taken to run the loop\n",
    "* To note is that twitter has a rate limit and considering we have 2356 ubique tweet ids, this will probably raise the `TweepError` requiring the API to wait some minutes before resuming gathering data.\n",
    "* Twitter has a charecter limit of 280 characters this is an increase from the previous 140 characters. We will need to figure out how to get the entire tweet without the epipsis `(...)` at the end of the tweet.\n",
    "<em> For this we will use the `tweet_mode='extended'` function. This is referenced from this [link][tweepy_extended] <em>\n",
    "\n",
    "[tweepy_extended]: https://docs.tweepy.org/en/stable/extended_tweets.html"
   ]
  },
  {
   "cell_type": "code",
   "execution_count": 8,
   "metadata": {},
   "outputs": [],
   "source": [
    "# we'll comlete with keys and secrets from our data.\n",
    "#client = tweepy.Client(\n",
    "#    bearer_token =\"AAAAAAAAAAAAAAAAAAAAAMtJhAEAAAAAuA%2FarpWYmiyJXimznQ1%2BAmmy%2FBw%3DtpSZM3J3627IGyHKNdxQGljvJyyYkWLhHcuGTKx7bo8PkxrAD6\"\n",
    "#    access_token = 'kcP9RYj5JUZO40nq4kEvQfvZe'      # API key\n",
    "#    consumer_secret = 'Y6ehg3pU9u1OJj1QNvBICp0DikiF3dP8wlZ8dwgJ0Gy10VL32g'   # API secret key\n",
    "#    consumer_key = '1092337801-EY9faztLOCn4Ma2IiEX4e5ARyg7dODCNgdbMy1s'      # Access token\n",
    "#    access_secret = 'Sd28Gv2cpjHlzMEN8nqMP5W7sqtFaeuSn5Lva3CfXNnJx'     # Access token secret\n",
    "#)\n",
    "# token for twitter developers\n",
    "#client = tweepy.Client(\n",
    "#    bearer_token='',\n",
    "#    consumer_key=\"\",\n",
    "#    consumer_secret=\"\",\n",
    "#    access_token=\"\",\n",
    "#    access_token_secret=\"\",\n",
    "#)\n",
    "#tweet_dct = {}\n",
    "#tweet_dct = client.get_tweet(id=uniq_id,wait_on_rate_limit = True,  \n",
    "#                                    tweet_mode = 'extended')\n",
    "#Authentification: \n",
    "#auth = tweepy.OAuthHandler(consumer_key, consumer_secret)\n",
    "#auth.set_access_token(access_token, access_secret)\n",
    "#api = tweepy.API(auth, \n",
    "#                 parser = tweepy.parsers.JSONParser(), \n",
    "#                 wait_on_rate_limit = True)\n",
    "\n",
    "#auth = tweepy.OAuthHandler('5Uur0mo4ol2kB8yhtZ1VxXS0u', 'h8E7fSpXWiMoBel7G1ZOAeu4Mgru0v0MtxH5ehYE1RKM89SiBH')\n",
    "#auth.set_access_token('303562412-ct9aNnU0FQR0UKJVn1i1W3Y8omqSewiQWUcRaygB', 'D3qslrbdOU5fqTOp951kOIuZbkeTPBodnjNYoEGFR63Ft')\n",
    "#api = tweepy.API(auth, \n",
    "#                 parser = tweepy.parsers.JSONParser(), \n",
    "#                 wait_on_rate_limit = True, \n",
    "#                 wait_on_rate_limit_notify = True)"
   ]
  },
  {
   "cell_type": "code",
   "execution_count": 9,
   "metadata": {},
   "outputs": [],
   "source": [
    "\n",
    "#access_token = ''      # API key\n",
    "#consumer_secret = ''   # API secret key\n",
    "#consumer_key = ''      # Access token\n",
    "#access_secret = ''     # Access token secret"
   ]
  },
  {
   "cell_type": "code",
   "execution_count": 10,
   "metadata": {},
   "outputs": [],
   "source": [
    "# Authentication (default configuration).\n",
    "#auth = tweepy.OAuthHandler(consumer_key, consumer_secret)\n",
    "#auth.set_access_token(access_token, access_secret)\n",
    "#api = tweepy.API(auth, wait_on_rate_limit = True)"
   ]
  },
  {
   "cell_type": "markdown",
   "metadata": {},
   "source": [
    "#### The following code block was run and consequently returned errors in that there was no tweet associated with the Unique IDs:\n"
   ]
  },
  {
   "cell_type": "code",
   "execution_count": 11,
   "metadata": {},
   "outputs": [],
   "source": [
    "\n",
    "# Dict to store twitter data\n",
    "#rawtwt_dct = {} \n",
    "# This is the list of errors.\n",
    "#df_err = [] \n",
    "# Current time when the Twitter API starts.\n",
    "#start = time.time() \n",
    "\n",
    "##### Loop to find each tweet_id of uniq_id list.\n",
    "#for tweet in uniq_id:\n",
    "     #This is necessary to avoid an interruption if any tweet_id is not find.\n",
    "#    try:\n",
    "        # The get_status will find a specific tweet_id and return all the tweet.\n",
    "#        twt_status = api.get_status(tweet,tweet_mode = 'extended')           \n",
    "        # The data I want is the -json dictionary.\n",
    "#        rawtwt_dct[str(tweet)] = twt_status._json                     # -json is a dictionary.\n",
    "    # In case of a problem, a message will be printed.\n",
    "#    except:\n",
    "#        df_err.append(str(tweet))                                    # Update df_err list.\n",
    "#        print(\"tweet of id {} was not found\" .format(str(tweet)))\n",
    "\n",
    "# Current time when the Twitter API ends.\n",
    "#end = time.time()\n",
    "\n",
    "# this stops the timer            \n",
    "#end = time.time()\n",
    "\n",
    "#print(end - start)"
   ]
  },
  {
   "cell_type": "code",
   "execution_count": 12,
   "metadata": {},
   "outputs": [],
   "source": [
    "# Writing the tweet_json.txt in the Twitter Dataset folder.\n",
    "#with open('Twitter Dataset/tweet_json.txt', mode = 'w') as file:\n",
    "#    json.dump(rawtwt_dct, file)"
   ]
  },
  {
   "cell_type": "code",
   "execution_count": 13,
   "metadata": {},
   "outputs": [],
   "source": [
    "# Loading the tweet_json.txt as a panda DataFrame.\n",
    "#df_api = pd.read_json('Twitter Dataset/tweet_json.txt', orient = 'index') # Atention to the orient defined as index.\n",
    "\n",
    "# Printing the first 2 rows.\n",
    "#df_api.head(2)"
   ]
  },
  {
   "cell_type": "markdown",
   "metadata": {},
   "source": [
    "* The total running time of the codeblock was around 27 minutes and returned an empty list. \n",
    "* I therefore decided to download the data and open the data locally. With the codeblock below to avoid erors that were constantly coming up.\n",
    "\n",
    "Upon further consultation I realised that I hadn't applued for twitter API Keys hence the method wouldnt work."
   ]
  },
  {
   "cell_type": "markdown",
   "metadata": {},
   "source": [
    "`Update: I got my api keys but still tweets were not found`"
   ]
  },
  {
   "cell_type": "markdown",
   "metadata": {},
   "source": [
    "I therefore shifted my focus to downloading the json file and extracting the data "
   ]
  },
  {
   "cell_type": "code",
   "execution_count": 14,
   "metadata": {},
   "outputs": [],
   "source": [
    "api_data = []\n",
    "\n",
    "\n",
    "with open(\"tweet-json.txt\", \"r\") as f: #read the downloaded file\n",
    "    for line in f:\n",
    "        try: \n",
    "            tweet = json.loads(line) #append a dictionary to the created list           \n",
    "            api_data.append({\n",
    "                \"tweet_id\": tweet[\"id\"],\n",
    "                \"retweet_count\": tweet[\"retweet_count\"],\n",
    "                \"favorite_count\": tweet[\"favorite_count\"],\n",
    "                \"retweeted\": tweet[\"retweeted\"],\n",
    "                \"display_text_range\": tweet[\"display_text_range\"]                \n",
    "            })               \n",
    "                \n",
    "           #tweet[\"entities\"][\"media\"][0][\"media_url\"]\n",
    "        except:\n",
    "            print(\"Error.\") \n",
    "            \n",
    "df_api = pd.DataFrame(api_data, columns = [\"tweet_id\", \"retweet_count\", \"favorite_count\", \"retweeted\", \"display_text_range\"])"
   ]
  },
  {
   "cell_type": "markdown",
   "metadata": {},
   "source": [
    "Finally, I have gathered all three datasets:\n",
    "\n",
    "* `tweet_json.txt` as `df_api`;\n",
    "* `image_predictions.tsv` as `df_image`, and;\n",
    "* `twitter_archive_enhanced.csv` as `df_arch`.\n",
    "\n",
    "***"
   ]
  },
  {
   "cell_type": "markdown",
   "metadata": {},
   "source": [
    "> ## 3. Assessment of Data <a id='Assessment of Data'></a>\n",
    "\n",
    "Data can have issues that can broadly be categorized in two broad categories that is Quality and Tidiness:\n",
    "\n",
    "* Quality issues: Dirty data;\n",
    "* Completeness: missing data?\n",
    "* Validity: does the data make sense?\n",
    "* Accuracy: inaccurate data? (wrong data can still show up as valid)\n",
    "Consistency: standardization?\n",
    "* Tidiness Issues:\n",
    "* Structural issues.\n",
    "\n",
    "from the project rubric, we are supposed to have:\n",
    "At least eight (8) data quality issues and two (2) tidiness issues are detected, and include the issues to clean to satisfy the Project Motivation. Each issue is documented in one to a few sentences each._\n",
    "I will do an assesment of the data both programatically and visually to detect and document issues that require cleaning. I will do tha for each dataset separately and proceed on to the cleaning process.\n"
   ]
  },
  {
   "cell_type": "markdown",
   "metadata": {},
   "source": [
    "`We'll do the assessments across the 3 different datasets looking for any issues arising;`\n",
    "* df_arch\n",
    "* df_image\n",
    "* df_api"
   ]
  },
  {
   "cell_type": "markdown",
   "metadata": {},
   "source": [
    "> ### 3a. DF_ARCH"
   ]
  },
  {
   "cell_type": "markdown",
   "metadata": {},
   "source": [
    "> ##### i) `Taking snippets of the data using the head and/or tail methods`\n",
    "We'll start with the df_arch dataset which is the twitter archive dataset provided. Here we'll be looking for issues with the dataset "
   ]
  },
  {
   "cell_type": "code",
   "execution_count": 15,
   "metadata": {},
   "outputs": [
    {
     "data": {
      "text/html": [
       "<div>\n",
       "<style scoped>\n",
       "    .dataframe tbody tr th:only-of-type {\n",
       "        vertical-align: middle;\n",
       "    }\n",
       "\n",
       "    .dataframe tbody tr th {\n",
       "        vertical-align: top;\n",
       "    }\n",
       "\n",
       "    .dataframe thead th {\n",
       "        text-align: right;\n",
       "    }\n",
       "</style>\n",
       "<table border=\"1\" class=\"dataframe\">\n",
       "  <thead>\n",
       "    <tr style=\"text-align: right;\">\n",
       "      <th></th>\n",
       "      <th>tweet_id</th>\n",
       "      <th>in_reply_to_status_id</th>\n",
       "      <th>in_reply_to_user_id</th>\n",
       "      <th>timestamp</th>\n",
       "      <th>source</th>\n",
       "      <th>text</th>\n",
       "      <th>retweeted_status_id</th>\n",
       "      <th>retweeted_status_user_id</th>\n",
       "      <th>retweeted_status_timestamp</th>\n",
       "      <th>expanded_urls</th>\n",
       "      <th>rating_numerator</th>\n",
       "      <th>rating_denominator</th>\n",
       "      <th>name</th>\n",
       "      <th>doggo</th>\n",
       "      <th>floofer</th>\n",
       "      <th>pupper</th>\n",
       "      <th>puppo</th>\n",
       "    </tr>\n",
       "  </thead>\n",
       "  <tbody>\n",
       "    <tr>\n",
       "      <th>0</th>\n",
       "      <td>892420643555336193</td>\n",
       "      <td>NaN</td>\n",
       "      <td>NaN</td>\n",
       "      <td>2017-08-01 16:23:56 +0000</td>\n",
       "      <td>&lt;a href=\"http://twitter.com/download/iphone\" r...</td>\n",
       "      <td>This is Phineas. He's a mystical boy. Only eve...</td>\n",
       "      <td>NaN</td>\n",
       "      <td>NaN</td>\n",
       "      <td>NaN</td>\n",
       "      <td>https://twitter.com/dog_rates/status/892420643...</td>\n",
       "      <td>13</td>\n",
       "      <td>10</td>\n",
       "      <td>Phineas</td>\n",
       "      <td>None</td>\n",
       "      <td>None</td>\n",
       "      <td>None</td>\n",
       "      <td>None</td>\n",
       "    </tr>\n",
       "    <tr>\n",
       "      <th>1</th>\n",
       "      <td>892177421306343426</td>\n",
       "      <td>NaN</td>\n",
       "      <td>NaN</td>\n",
       "      <td>2017-08-01 00:17:27 +0000</td>\n",
       "      <td>&lt;a href=\"http://twitter.com/download/iphone\" r...</td>\n",
       "      <td>This is Tilly. She's just checking pup on you....</td>\n",
       "      <td>NaN</td>\n",
       "      <td>NaN</td>\n",
       "      <td>NaN</td>\n",
       "      <td>https://twitter.com/dog_rates/status/892177421...</td>\n",
       "      <td>13</td>\n",
       "      <td>10</td>\n",
       "      <td>Tilly</td>\n",
       "      <td>None</td>\n",
       "      <td>None</td>\n",
       "      <td>None</td>\n",
       "      <td>None</td>\n",
       "    </tr>\n",
       "    <tr>\n",
       "      <th>2</th>\n",
       "      <td>891815181378084864</td>\n",
       "      <td>NaN</td>\n",
       "      <td>NaN</td>\n",
       "      <td>2017-07-31 00:18:03 +0000</td>\n",
       "      <td>&lt;a href=\"http://twitter.com/download/iphone\" r...</td>\n",
       "      <td>This is Archie. He is a rare Norwegian Pouncin...</td>\n",
       "      <td>NaN</td>\n",
       "      <td>NaN</td>\n",
       "      <td>NaN</td>\n",
       "      <td>https://twitter.com/dog_rates/status/891815181...</td>\n",
       "      <td>12</td>\n",
       "      <td>10</td>\n",
       "      <td>Archie</td>\n",
       "      <td>None</td>\n",
       "      <td>None</td>\n",
       "      <td>None</td>\n",
       "      <td>None</td>\n",
       "    </tr>\n",
       "  </tbody>\n",
       "</table>\n",
       "</div>"
      ],
      "text/plain": [
       "             tweet_id  in_reply_to_status_id  in_reply_to_user_id  \\\n",
       "0  892420643555336193                    NaN                  NaN   \n",
       "1  892177421306343426                    NaN                  NaN   \n",
       "2  891815181378084864                    NaN                  NaN   \n",
       "\n",
       "                   timestamp  \\\n",
       "0  2017-08-01 16:23:56 +0000   \n",
       "1  2017-08-01 00:17:27 +0000   \n",
       "2  2017-07-31 00:18:03 +0000   \n",
       "\n",
       "                                              source  \\\n",
       "0  <a href=\"http://twitter.com/download/iphone\" r...   \n",
       "1  <a href=\"http://twitter.com/download/iphone\" r...   \n",
       "2  <a href=\"http://twitter.com/download/iphone\" r...   \n",
       "\n",
       "                                                text  retweeted_status_id  \\\n",
       "0  This is Phineas. He's a mystical boy. Only eve...                  NaN   \n",
       "1  This is Tilly. She's just checking pup on you....                  NaN   \n",
       "2  This is Archie. He is a rare Norwegian Pouncin...                  NaN   \n",
       "\n",
       "   retweeted_status_user_id retweeted_status_timestamp  \\\n",
       "0                       NaN                        NaN   \n",
       "1                       NaN                        NaN   \n",
       "2                       NaN                        NaN   \n",
       "\n",
       "                                       expanded_urls  rating_numerator  \\\n",
       "0  https://twitter.com/dog_rates/status/892420643...                13   \n",
       "1  https://twitter.com/dog_rates/status/892177421...                13   \n",
       "2  https://twitter.com/dog_rates/status/891815181...                12   \n",
       "\n",
       "   rating_denominator     name doggo floofer pupper puppo  \n",
       "0                  10  Phineas  None    None   None  None  \n",
       "1                  10    Tilly  None    None   None  None  \n",
       "2                  10   Archie  None    None   None  None  "
      ]
     },
     "execution_count": 15,
     "metadata": {},
     "output_type": "execute_result"
    }
   ],
   "source": [
    "# Print the first 3 rows of the df_arch data set.\n",
    "df_arch.head(3)"
   ]
  },
  {
   "cell_type": "markdown",
   "metadata": {},
   "source": [
    "`Well run the .head() method on the df_image to display the first three rows off the data and check for any issues`\n"
   ]
  },
  {
   "cell_type": "code",
   "execution_count": 16,
   "metadata": {},
   "outputs": [
    {
     "data": {
      "image/png": "[encoded data removed]",
      "text/plain": [
       "<Figure size 1440x504 with 2 Axes>"
      ]
     },
     "metadata": {
      "needs_background": "light"
     },
     "output_type": "display_data"
    }
   ],
   "source": [
    "fig, ax = plt.subplots(figsize = (20,7))\n",
    "ax = sns.heatmap(df_arch.isnull(), vmin=0, vmax = 1)\n",
    "plt.title('Heatmap of data distribution', color = 'black', fontsize = '15')\n",
    "plt.xlabel('Column Labels', color = 'black', fontsize = '13')\n",
    "plt.ylabel('Data Counts', color = 'black', fontsize = '13');"
   ]
  },
  {
   "cell_type": "markdown",
   "metadata": {},
   "source": [
    "As can be visibly seen, there are columns that have alot of missing data and will have to be dropped. That is according to this heatmap the lighter areas in the data"
   ]
  },
  {
   "cell_type": "code",
   "execution_count": 17,
   "metadata": {},
   "outputs": [
    {
     "name": "stdout",
     "output_type": "stream",
     "text": [
      "<class 'pandas.core.frame.DataFrame'>\n",
      "RangeIndex: 2356 entries, 0 to 2355\n",
      "Data columns (total 17 columns):\n",
      " #   Column                      Non-Null Count  Dtype  \n",
      "---  ------                      --------------  -----  \n",
      " 0   tweet_id                    2356 non-null   int64  \n",
      " 1   in_reply_to_status_id       78 non-null     float64\n",
      " 2   in_reply_to_user_id         78 non-null     float64\n",
      " 3   timestamp                   2356 non-null   object \n",
      " 4   source                      2356 non-null   object \n",
      " 5   text                        2356 non-null   object \n",
      " 6   retweeted_status_id         181 non-null    float64\n",
      " 7   retweeted_status_user_id    181 non-null    float64\n",
      " 8   retweeted_status_timestamp  181 non-null    object \n",
      " 9   expanded_urls               2297 non-null   object \n",
      " 10  rating_numerator            2356 non-null   int64  \n",
      " 11  rating_denominator          2356 non-null   int64  \n",
      " 12  name                        2356 non-null   object \n",
      " 13  doggo                       2356 non-null   object \n",
      " 14  floofer                     2356 non-null   object \n",
      " 15  pupper                      2356 non-null   object \n",
      " 16  puppo                       2356 non-null   object \n",
      "dtypes: float64(4), int64(3), object(10)\n",
      "memory usage: 313.0+ KB\n"
     ]
    }
   ],
   "source": [
    "df_arch.info()"
   ]
  },
  {
   "cell_type": "code",
   "execution_count": 18,
   "metadata": {},
   "outputs": [
    {
     "data": {
      "text/plain": [
       "None          745\n",
       "a              55\n",
       "Charlie        12\n",
       "Cooper         11\n",
       "Lucy           11\n",
       "             ... \n",
       "Dex             1\n",
       "Ace             1\n",
       "Tayzie          1\n",
       "Grizzie         1\n",
       "Christoper      1\n",
       "Name: name, Length: 957, dtype: int64"
      ]
     },
     "execution_count": 18,
     "metadata": {},
     "output_type": "execute_result"
    }
   ],
   "source": [
    "# What is the most commom name to a Dog!?\n",
    "df_arch[\"name\"].value_counts()"
   ]
  },
  {
   "cell_type": "markdown",
   "metadata": {},
   "source": [
    "The `.value_counts()` method applied to the `name`'s columns shows a higher number of weird and probably wrong dogs names.\n",
    "\n",
    "* 745 occurences on None;\n",
    "* 55 occurrences of a;\n",
    "* 8 occurrences of the;\n",
    "* 7 occurrences of an, etc.\n",
    "\n",
    "Fromm this list we can clearly see what we had noted earlier on the visual representations of the data and as thus we need to work on the same and clean the mess up."
   ]
  },
  {
   "cell_type": "markdown",
   "metadata": {},
   "source": [
    "We'll now dive into the `rating_denominator` and `rating_numerator` in order to assess their cleanliness."
   ]
  },
  {
   "cell_type": "code",
   "execution_count": 19,
   "metadata": {},
   "outputs": [
    {
     "data": {
      "text/plain": [
       "10     2333\n",
       "11        3\n",
       "50        3\n",
       "20        2\n",
       "80        2\n",
       "70        1\n",
       "7         1\n",
       "15        1\n",
       "150       1\n",
       "170       1\n",
       "0         1\n",
       "90        1\n",
       "40        1\n",
       "130       1\n",
       "110       1\n",
       "16        1\n",
       "120       1\n",
       "2         1\n",
       "Name: rating_denominator, dtype: int64"
      ]
     },
     "execution_count": 19,
     "metadata": {},
     "output_type": "execute_result"
    }
   ],
   "source": [
    "# We want to find out the most common denominator for the ratings\n",
    "df_arch[\"rating_denominator\"].value_counts()"
   ]
  },
  {
   "cell_type": "code",
   "execution_count": 20,
   "metadata": {},
   "outputs": [
    {
     "data": {
      "text/plain": [
       "12      558\n",
       "11      464\n",
       "10      461\n",
       "13      351\n",
       "9       158\n",
       "8       102\n",
       "7        55\n",
       "14       54\n",
       "5        37\n",
       "6        32\n",
       "3        19\n",
       "4        17\n",
       "2         9\n",
       "1         9\n",
       "75        2\n",
       "15        2\n",
       "420       2\n",
       "0         2\n",
       "80        1\n",
       "144       1\n",
       "17        1\n",
       "26        1\n",
       "20        1\n",
       "121       1\n",
       "143       1\n",
       "44        1\n",
       "60        1\n",
       "45        1\n",
       "50        1\n",
       "99        1\n",
       "204       1\n",
       "1776      1\n",
       "165       1\n",
       "666       1\n",
       "27        1\n",
       "182       1\n",
       "24        1\n",
       "960       1\n",
       "84        1\n",
       "88        1\n",
       "Name: rating_numerator, dtype: int64"
      ]
     },
     "execution_count": 20,
     "metadata": {},
     "output_type": "execute_result"
    }
   ],
   "source": [
    "# The dog rates should normally between 0-10.\n",
    "df_arch[\"rating_numerator\"].value_counts()"
   ]
  },
  {
   "cell_type": "code",
   "execution_count": 21,
   "metadata": {},
   "outputs": [
    {
     "data": {
      "text/html": [
       "<div>\n",
       "<style scoped>\n",
       "    .dataframe tbody tr th:only-of-type {\n",
       "        vertical-align: middle;\n",
       "    }\n",
       "\n",
       "    .dataframe tbody tr th {\n",
       "        vertical-align: top;\n",
       "    }\n",
       "\n",
       "    .dataframe thead th {\n",
       "        text-align: right;\n",
       "    }\n",
       "</style>\n",
       "<table border=\"1\" class=\"dataframe\">\n",
       "  <thead>\n",
       "    <tr style=\"text-align: right;\">\n",
       "      <th></th>\n",
       "      <th>tweet_id</th>\n",
       "      <th>in_reply_to_status_id</th>\n",
       "      <th>in_reply_to_user_id</th>\n",
       "      <th>retweeted_status_id</th>\n",
       "      <th>retweeted_status_user_id</th>\n",
       "      <th>rating_numerator</th>\n",
       "      <th>rating_denominator</th>\n",
       "    </tr>\n",
       "  </thead>\n",
       "  <tbody>\n",
       "    <tr>\n",
       "      <th>count</th>\n",
       "      <td>2356.00000</td>\n",
       "      <td>78.00000</td>\n",
       "      <td>78.00000</td>\n",
       "      <td>181.00000</td>\n",
       "      <td>181.00000</td>\n",
       "      <td>2356.00000</td>\n",
       "      <td>2356.00000</td>\n",
       "    </tr>\n",
       "    <tr>\n",
       "      <th>mean</th>\n",
       "      <td>742771590321719808.00000</td>\n",
       "      <td>745507917855750656.00000</td>\n",
       "      <td>20141706360873208.00000</td>\n",
       "      <td>772039961038007040.00000</td>\n",
       "      <td>12416983653017580.00000</td>\n",
       "      <td>13.12649</td>\n",
       "      <td>10.45543</td>\n",
       "    </tr>\n",
       "    <tr>\n",
       "      <th>std</th>\n",
       "      <td>68567047444761032.00000</td>\n",
       "      <td>75824920044192880.00000</td>\n",
       "      <td>125279666255236320.00000</td>\n",
       "      <td>62369278105055600.00000</td>\n",
       "      <td>95992535331517536.00000</td>\n",
       "      <td>45.87665</td>\n",
       "      <td>6.74524</td>\n",
       "    </tr>\n",
       "    <tr>\n",
       "      <th>min</th>\n",
       "      <td>666020888022790144.00000</td>\n",
       "      <td>665814696700723200.00000</td>\n",
       "      <td>11856342.00000</td>\n",
       "      <td>666104133288665088.00000</td>\n",
       "      <td>783214.00000</td>\n",
       "      <td>0.00000</td>\n",
       "      <td>0.00000</td>\n",
       "    </tr>\n",
       "    <tr>\n",
       "      <th>25%</th>\n",
       "      <td>678398938214475776.00000</td>\n",
       "      <td>675741911993464832.00000</td>\n",
       "      <td>308637448.75000</td>\n",
       "      <td>718631497683582976.00000</td>\n",
       "      <td>4196983835.00000</td>\n",
       "      <td>10.00000</td>\n",
       "      <td>10.00000</td>\n",
       "    </tr>\n",
       "    <tr>\n",
       "      <th>50%</th>\n",
       "      <td>719627934716235776.00000</td>\n",
       "      <td>703870840226598912.00000</td>\n",
       "      <td>4196983835.00000</td>\n",
       "      <td>780465709297995776.00000</td>\n",
       "      <td>4196983835.00000</td>\n",
       "      <td>11.00000</td>\n",
       "      <td>10.00000</td>\n",
       "    </tr>\n",
       "    <tr>\n",
       "      <th>75%</th>\n",
       "      <td>799337304954252288.00000</td>\n",
       "      <td>825780371286566912.00000</td>\n",
       "      <td>4196983835.00000</td>\n",
       "      <td>820314633777061888.00000</td>\n",
       "      <td>4196983835.00000</td>\n",
       "      <td>12.00000</td>\n",
       "      <td>10.00000</td>\n",
       "    </tr>\n",
       "    <tr>\n",
       "      <th>max</th>\n",
       "      <td>892420643555336192.00000</td>\n",
       "      <td>886266357075128320.00000</td>\n",
       "      <td>840547864354918400.00000</td>\n",
       "      <td>887473957103951872.00000</td>\n",
       "      <td>787461778435289088.00000</td>\n",
       "      <td>1776.00000</td>\n",
       "      <td>170.00000</td>\n",
       "    </tr>\n",
       "  </tbody>\n",
       "</table>\n",
       "</div>"
      ],
      "text/plain": [
       "                       tweet_id     in_reply_to_status_id  \\\n",
       "count                2356.00000                  78.00000   \n",
       "mean   742771590321719808.00000  745507917855750656.00000   \n",
       "std     68567047444761032.00000   75824920044192880.00000   \n",
       "min    666020888022790144.00000  665814696700723200.00000   \n",
       "25%    678398938214475776.00000  675741911993464832.00000   \n",
       "50%    719627934716235776.00000  703870840226598912.00000   \n",
       "75%    799337304954252288.00000  825780371286566912.00000   \n",
       "max    892420643555336192.00000  886266357075128320.00000   \n",
       "\n",
       "            in_reply_to_user_id       retweeted_status_id  \\\n",
       "count                  78.00000                 181.00000   \n",
       "mean    20141706360873208.00000  772039961038007040.00000   \n",
       "std    125279666255236320.00000   62369278105055600.00000   \n",
       "min              11856342.00000  666104133288665088.00000   \n",
       "25%             308637448.75000  718631497683582976.00000   \n",
       "50%            4196983835.00000  780465709297995776.00000   \n",
       "75%            4196983835.00000  820314633777061888.00000   \n",
       "max    840547864354918400.00000  887473957103951872.00000   \n",
       "\n",
       "       retweeted_status_user_id rating_numerator rating_denominator  \n",
       "count                 181.00000       2356.00000         2356.00000  \n",
       "mean    12416983653017580.00000         13.12649           10.45543  \n",
       "std     95992535331517536.00000         45.87665            6.74524  \n",
       "min                783214.00000          0.00000            0.00000  \n",
       "25%            4196983835.00000         10.00000           10.00000  \n",
       "50%            4196983835.00000         11.00000           10.00000  \n",
       "75%            4196983835.00000         12.00000           10.00000  \n",
       "max    787461778435289088.00000       1776.00000          170.00000  "
      ]
     },
     "execution_count": 21,
     "metadata": {},
     "output_type": "execute_result"
    }
   ],
   "source": [
    "df_arch.describe().apply(lambda s: s.apply('{0:.5f}'.format))"
   ]
  },
  {
   "cell_type": "code",
   "execution_count": 22,
   "metadata": {},
   "outputs": [
    {
     "name": "stdout",
     "output_type": "stream",
     "text": [
      "The dataset has 0 duplicates as per the tweet ids\n"
     ]
    }
   ],
   "source": [
    "#To check if there are any remaining duplicates. We had however cleaned duplicate IDs earlier.\n",
    "print(\"The dataset has {} duplicates as per the tweet ids\" .format (sum(df_arch.duplicated())))"
   ]
  },
  {
   "cell_type": "markdown",
   "metadata": {},
   "source": [
    "##### N/B: `There are no duplicated tweets. However due to the retweets, there could be an occurence of duplicated data in the dataset and as such needs to be addressed`"
   ]
  },
  {
   "cell_type": "markdown",
   "metadata": {},
   "source": [
    "> ### ii) `ISSUES IDENTIFIED FROM ASSESSMENT OF THE TWITTER ARCHIVE DATA:`"
   ]
  },
  {
   "cell_type": "markdown",
   "metadata": {},
   "source": [
    "For this dataset we examined the data both Visually and Programatically. We deployed a heatmap to illustrate the distribution of the data and across the variables and identify columns with severe missing data issues. We then run a few functions to be able to see the distribution of the data.\n",
    "The functions used for this dataser included:\n",
    "* .head();\n",
    "* .value_counts();\n",
    "* .info();\n",
    "* .describe();\n",
    "* heatmap of the data\n"
   ]
  },
  {
   "cell_type": "markdown",
   "metadata": {},
   "source": [
    "> ### Breakdown of issues to be adressed:\n",
    "`We'll summarise the data in a table as shown below:`\n",
    "\n",
    "> i. Quality Issues\n",
    "<br>\n",
    "\n",
    "<left><strong>Table 1 Quality issues identified both programatically and visually in the twitter_archive_enhanced.csv.</strong></left>\n",
    "\n",
    "|Number|Issue|Method|Column|Description|\n",
    "|:-:|:-:|:-:|:-:|:-:|\n",
    "|1|Validity|Programmatic|timestamp|We neeed to convert the column to date.|\n",
    "|2|Validity|Programmatic|rating_numerator|We have values that could be invalid as values in this column vary from 0-1776.<br>Data Structure must be converted from `int` to `float`.|\n",
    "|3|Validity|Programmatic|rating_denominator|For denominators the expected was a fixed value(10 expected).<br>Data Structure must be converted from `int` to `float`.|\n",
    "|4|Validity|Programmatic|tweet_id|Tweeter IDs must be strings and not int64|\n",
    "|5|Accuracy|Programmatic|in_reply_to_status_id|sililar to retweets. cases of double recording.|\n",
    "|6|Accuracy|Programmatic|retweeted_status_id|Retweets could lead to one dog being recorded twice and this cant have been sorted since there's a different id for retweets|\n",
    "|7|Validity|Visual|name|Invalid names or non-standard names.|\n",
    "|8|Completeness|Programatic| in_reply_to_status_id, in_reply_to_user_id, retweeted_status_id, retweeted_status_user_id, retweeted_status_timestamp, expanded_urls|Missing data in the columns|\n"
   ]
  },
  {
   "cell_type": "markdown",
   "metadata": {},
   "source": [
    "> ii. Tidiness Issues\n",
    "<br>\n",
    "\n",
    "<left><strong>Table 2 Tidiness issues identified both programatically and visually in the twitter_archive_enhanced.csv.</strong></left>\n",
    "\n",
    "|Number|Method|Column|Description|\n",
    "|:-:|:-:|:-:|:-:|\n",
    "|1|Visual|source|HTML tags, URL, and content in a single column.|\n",
    "|2|Programmatic|puppo, floofer, pupper, and doggo|we should combine this data into one column as the data is just categorical|\n",
    "|3|Programmatic|text|We need to split the text from the url as the column has 2 sets of information|"
   ]
  },
  {
   "cell_type": "markdown",
   "metadata": {},
   "source": [
    "The `retweeted_status_id`, `retweeted_status_user_id`, `in_reply_to_status_id`, and `in_reply_to_user_id` could easily lead to duplicated data and should the associated ids should be removed to avoid such occurrences.\n"
   ]
  },
  {
   "cell_type": "markdown",
   "metadata": {},
   "source": [
    "> ### 3b. df_image (image_predictions.tsv)\n",
    "\n",
    "We will perform the same set of tests as in 3a above.\n",
    "we will look at Quality and tidiness issues."
   ]
  },
  {
   "cell_type": "markdown",
   "metadata": {},
   "source": [
    "### `.head()`"
   ]
  },
  {
   "cell_type": "code",
   "execution_count": 23,
   "metadata": {
    "scrolled": true
   },
   "outputs": [
    {
     "data": {
      "text/html": [
       "<div>\n",
       "<style scoped>\n",
       "    .dataframe tbody tr th:only-of-type {\n",
       "        vertical-align: middle;\n",
       "    }\n",
       "\n",
       "    .dataframe tbody tr th {\n",
       "        vertical-align: top;\n",
       "    }\n",
       "\n",
       "    .dataframe thead th {\n",
       "        text-align: right;\n",
       "    }\n",
       "</style>\n",
       "<table border=\"1\" class=\"dataframe\">\n",
       "  <thead>\n",
       "    <tr style=\"text-align: right;\">\n",
       "      <th></th>\n",
       "      <th>tweet_id</th>\n",
       "      <th>jpg_url</th>\n",
       "      <th>img_num</th>\n",
       "      <th>p1</th>\n",
       "      <th>p1_conf</th>\n",
       "      <th>p1_dog</th>\n",
       "      <th>p2</th>\n",
       "      <th>p2_conf</th>\n",
       "      <th>p2_dog</th>\n",
       "      <th>p3</th>\n",
       "      <th>p3_conf</th>\n",
       "      <th>p3_dog</th>\n",
       "    </tr>\n",
       "  </thead>\n",
       "  <tbody>\n",
       "    <tr>\n",
       "      <th>0</th>\n",
       "      <td>666020888022790149</td>\n",
       "      <td>https://pbs.twimg.com/media/CT4udn0WwAA0aMy.jpg</td>\n",
       "      <td>1</td>\n",
       "      <td>Welsh_springer_spaniel</td>\n",
       "      <td>0.465074</td>\n",
       "      <td>True</td>\n",
       "      <td>collie</td>\n",
       "      <td>0.156665</td>\n",
       "      <td>True</td>\n",
       "      <td>Shetland_sheepdog</td>\n",
       "      <td>0.061428</td>\n",
       "      <td>True</td>\n",
       "    </tr>\n",
       "    <tr>\n",
       "      <th>1</th>\n",
       "      <td>666029285002620928</td>\n",
       "      <td>https://pbs.twimg.com/media/CT42GRgUYAA5iDo.jpg</td>\n",
       "      <td>1</td>\n",
       "      <td>redbone</td>\n",
       "      <td>0.506826</td>\n",
       "      <td>True</td>\n",
       "      <td>miniature_pinscher</td>\n",
       "      <td>0.074192</td>\n",
       "      <td>True</td>\n",
       "      <td>Rhodesian_ridgeback</td>\n",
       "      <td>0.072010</td>\n",
       "      <td>True</td>\n",
       "    </tr>\n",
       "    <tr>\n",
       "      <th>2</th>\n",
       "      <td>666033412701032449</td>\n",
       "      <td>https://pbs.twimg.com/media/CT4521TWwAEvMyu.jpg</td>\n",
       "      <td>1</td>\n",
       "      <td>German_shepherd</td>\n",
       "      <td>0.596461</td>\n",
       "      <td>True</td>\n",
       "      <td>malinois</td>\n",
       "      <td>0.138584</td>\n",
       "      <td>True</td>\n",
       "      <td>bloodhound</td>\n",
       "      <td>0.116197</td>\n",
       "      <td>True</td>\n",
       "    </tr>\n",
       "    <tr>\n",
       "      <th>3</th>\n",
       "      <td>666044226329800704</td>\n",
       "      <td>https://pbs.twimg.com/media/CT5Dr8HUEAA-lEu.jpg</td>\n",
       "      <td>1</td>\n",
       "      <td>Rhodesian_ridgeback</td>\n",
       "      <td>0.408143</td>\n",
       "      <td>True</td>\n",
       "      <td>redbone</td>\n",
       "      <td>0.360687</td>\n",
       "      <td>True</td>\n",
       "      <td>miniature_pinscher</td>\n",
       "      <td>0.222752</td>\n",
       "      <td>True</td>\n",
       "    </tr>\n",
       "    <tr>\n",
       "      <th>4</th>\n",
       "      <td>666049248165822465</td>\n",
       "      <td>https://pbs.twimg.com/media/CT5IQmsXIAAKY4A.jpg</td>\n",
       "      <td>1</td>\n",
       "      <td>miniature_pinscher</td>\n",
       "      <td>0.560311</td>\n",
       "      <td>True</td>\n",
       "      <td>Rottweiler</td>\n",
       "      <td>0.243682</td>\n",
       "      <td>True</td>\n",
       "      <td>Doberman</td>\n",
       "      <td>0.154629</td>\n",
       "      <td>True</td>\n",
       "    </tr>\n",
       "  </tbody>\n",
       "</table>\n",
       "</div>"
      ],
      "text/plain": [
       "             tweet_id                                          jpg_url  \\\n",
       "0  666020888022790149  https://pbs.twimg.com/media/CT4udn0WwAA0aMy.jpg   \n",
       "1  666029285002620928  https://pbs.twimg.com/media/CT42GRgUYAA5iDo.jpg   \n",
       "2  666033412701032449  https://pbs.twimg.com/media/CT4521TWwAEvMyu.jpg   \n",
       "3  666044226329800704  https://pbs.twimg.com/media/CT5Dr8HUEAA-lEu.jpg   \n",
       "4  666049248165822465  https://pbs.twimg.com/media/CT5IQmsXIAAKY4A.jpg   \n",
       "\n",
       "   img_num                      p1   p1_conf  p1_dog                  p2  \\\n",
       "0        1  Welsh_springer_spaniel  0.465074    True              collie   \n",
       "1        1                 redbone  0.506826    True  miniature_pinscher   \n",
       "2        1         German_shepherd  0.596461    True            malinois   \n",
       "3        1     Rhodesian_ridgeback  0.408143    True             redbone   \n",
       "4        1      miniature_pinscher  0.560311    True          Rottweiler   \n",
       "\n",
       "    p2_conf  p2_dog                   p3   p3_conf  p3_dog  \n",
       "0  0.156665    True    Shetland_sheepdog  0.061428    True  \n",
       "1  0.074192    True  Rhodesian_ridgeback  0.072010    True  \n",
       "2  0.138584    True           bloodhound  0.116197    True  \n",
       "3  0.360687    True   miniature_pinscher  0.222752    True  \n",
       "4  0.243682    True             Doberman  0.154629    True  "
      ]
     },
     "execution_count": 23,
     "metadata": {},
     "output_type": "execute_result"
    }
   ],
   "source": [
    "# Printing the first 5 rows of the df_image dataset.\n",
    "df_image.head()"
   ]
  },
  {
   "cell_type": "markdown",
   "metadata": {},
   "source": [
    "### `.tail()`"
   ]
  },
  {
   "cell_type": "code",
   "execution_count": 24,
   "metadata": {},
   "outputs": [
    {
     "data": {
      "text/html": [
       "<div>\n",
       "<style scoped>\n",
       "    .dataframe tbody tr th:only-of-type {\n",
       "        vertical-align: middle;\n",
       "    }\n",
       "\n",
       "    .dataframe tbody tr th {\n",
       "        vertical-align: top;\n",
       "    }\n",
       "\n",
       "    .dataframe thead th {\n",
       "        text-align: right;\n",
       "    }\n",
       "</style>\n",
       "<table border=\"1\" class=\"dataframe\">\n",
       "  <thead>\n",
       "    <tr style=\"text-align: right;\">\n",
       "      <th></th>\n",
       "      <th>tweet_id</th>\n",
       "      <th>jpg_url</th>\n",
       "      <th>img_num</th>\n",
       "      <th>p1</th>\n",
       "      <th>p1_conf</th>\n",
       "      <th>p1_dog</th>\n",
       "      <th>p2</th>\n",
       "      <th>p2_conf</th>\n",
       "      <th>p2_dog</th>\n",
       "      <th>p3</th>\n",
       "      <th>p3_conf</th>\n",
       "      <th>p3_dog</th>\n",
       "    </tr>\n",
       "  </thead>\n",
       "  <tbody>\n",
       "    <tr>\n",
       "      <th>2070</th>\n",
       "      <td>891327558926688256</td>\n",
       "      <td>https://pbs.twimg.com/media/DF6hr6BUMAAzZgT.jpg</td>\n",
       "      <td>2</td>\n",
       "      <td>basset</td>\n",
       "      <td>0.555712</td>\n",
       "      <td>True</td>\n",
       "      <td>English_springer</td>\n",
       "      <td>0.225770</td>\n",
       "      <td>True</td>\n",
       "      <td>German_short-haired_pointer</td>\n",
       "      <td>0.175219</td>\n",
       "      <td>True</td>\n",
       "    </tr>\n",
       "    <tr>\n",
       "      <th>2071</th>\n",
       "      <td>891689557279858688</td>\n",
       "      <td>https://pbs.twimg.com/media/DF_q7IAWsAEuuN8.jpg</td>\n",
       "      <td>1</td>\n",
       "      <td>paper_towel</td>\n",
       "      <td>0.170278</td>\n",
       "      <td>False</td>\n",
       "      <td>Labrador_retriever</td>\n",
       "      <td>0.168086</td>\n",
       "      <td>True</td>\n",
       "      <td>spatula</td>\n",
       "      <td>0.040836</td>\n",
       "      <td>False</td>\n",
       "    </tr>\n",
       "    <tr>\n",
       "      <th>2072</th>\n",
       "      <td>891815181378084864</td>\n",
       "      <td>https://pbs.twimg.com/media/DGBdLU1WsAANxJ9.jpg</td>\n",
       "      <td>1</td>\n",
       "      <td>Chihuahua</td>\n",
       "      <td>0.716012</td>\n",
       "      <td>True</td>\n",
       "      <td>malamute</td>\n",
       "      <td>0.078253</td>\n",
       "      <td>True</td>\n",
       "      <td>kelpie</td>\n",
       "      <td>0.031379</td>\n",
       "      <td>True</td>\n",
       "    </tr>\n",
       "    <tr>\n",
       "      <th>2073</th>\n",
       "      <td>892177421306343426</td>\n",
       "      <td>https://pbs.twimg.com/media/DGGmoV4XsAAUL6n.jpg</td>\n",
       "      <td>1</td>\n",
       "      <td>Chihuahua</td>\n",
       "      <td>0.323581</td>\n",
       "      <td>True</td>\n",
       "      <td>Pekinese</td>\n",
       "      <td>0.090647</td>\n",
       "      <td>True</td>\n",
       "      <td>papillon</td>\n",
       "      <td>0.068957</td>\n",
       "      <td>True</td>\n",
       "    </tr>\n",
       "    <tr>\n",
       "      <th>2074</th>\n",
       "      <td>892420643555336193</td>\n",
       "      <td>https://pbs.twimg.com/media/DGKD1-bXoAAIAUK.jpg</td>\n",
       "      <td>1</td>\n",
       "      <td>orange</td>\n",
       "      <td>0.097049</td>\n",
       "      <td>False</td>\n",
       "      <td>bagel</td>\n",
       "      <td>0.085851</td>\n",
       "      <td>False</td>\n",
       "      <td>banana</td>\n",
       "      <td>0.076110</td>\n",
       "      <td>False</td>\n",
       "    </tr>\n",
       "  </tbody>\n",
       "</table>\n",
       "</div>"
      ],
      "text/plain": [
       "                tweet_id                                          jpg_url  \\\n",
       "2070  891327558926688256  https://pbs.twimg.com/media/DF6hr6BUMAAzZgT.jpg   \n",
       "2071  891689557279858688  https://pbs.twimg.com/media/DF_q7IAWsAEuuN8.jpg   \n",
       "2072  891815181378084864  https://pbs.twimg.com/media/DGBdLU1WsAANxJ9.jpg   \n",
       "2073  892177421306343426  https://pbs.twimg.com/media/DGGmoV4XsAAUL6n.jpg   \n",
       "2074  892420643555336193  https://pbs.twimg.com/media/DGKD1-bXoAAIAUK.jpg   \n",
       "\n",
       "      img_num           p1   p1_conf  p1_dog                  p2   p2_conf  \\\n",
       "2070        2       basset  0.555712    True    English_springer  0.225770   \n",
       "2071        1  paper_towel  0.170278   False  Labrador_retriever  0.168086   \n",
       "2072        1    Chihuahua  0.716012    True            malamute  0.078253   \n",
       "2073        1    Chihuahua  0.323581    True            Pekinese  0.090647   \n",
       "2074        1       orange  0.097049   False               bagel  0.085851   \n",
       "\n",
       "      p2_dog                           p3   p3_conf  p3_dog  \n",
       "2070    True  German_short-haired_pointer  0.175219    True  \n",
       "2071    True                      spatula  0.040836   False  \n",
       "2072    True                       kelpie  0.031379    True  \n",
       "2073    True                     papillon  0.068957    True  \n",
       "2074   False                       banana  0.076110   False  "
      ]
     },
     "execution_count": 24,
     "metadata": {},
     "output_type": "execute_result"
    }
   ],
   "source": [
    "# Printing the last 5 rows.\n",
    "df_image.tail()"
   ]
  },
  {
   "cell_type": "code",
   "execution_count": 25,
   "metadata": {},
   "outputs": [
    {
     "name": "stdout",
     "output_type": "stream",
     "text": [
      "<class 'pandas.core.frame.DataFrame'>\n",
      "RangeIndex: 2075 entries, 0 to 2074\n",
      "Data columns (total 12 columns):\n",
      " #   Column    Non-Null Count  Dtype  \n",
      "---  ------    --------------  -----  \n",
      " 0   tweet_id  2075 non-null   int64  \n",
      " 1   jpg_url   2075 non-null   object \n",
      " 2   img_num   2075 non-null   int64  \n",
      " 3   p1        2075 non-null   object \n",
      " 4   p1_conf   2075 non-null   float64\n",
      " 5   p1_dog    2075 non-null   bool   \n",
      " 6   p2        2075 non-null   object \n",
      " 7   p2_conf   2075 non-null   float64\n",
      " 8   p2_dog    2075 non-null   bool   \n",
      " 9   p3        2075 non-null   object \n",
      " 10  p3_conf   2075 non-null   float64\n",
      " 11  p3_dog    2075 non-null   bool   \n",
      "dtypes: bool(3), float64(3), int64(2), object(4)\n",
      "memory usage: 152.1+ KB\n"
     ]
    }
   ],
   "source": [
    "# An overview of the df_img.\n",
    "df_image.info()"
   ]
  },
  {
   "cell_type": "code",
   "execution_count": 26,
   "metadata": {},
   "outputs": [
    {
     "name": "stdout",
     "output_type": "stream",
     "text": [
      "There are 0 duplicates in the tweet_id column\n"
     ]
    }
   ],
   "source": [
    "# Duplicated tweet_id.\n",
    "print(\"There are {} duplicates in the tweet_id column\" .format(sum(df_image[\"tweet_id\"].duplicated())))"
   ]
  },
  {
   "cell_type": "code",
   "execution_count": 27,
   "metadata": {},
   "outputs": [
    {
     "name": "stdout",
     "output_type": "stream",
     "text": [
      "In the jpg_url column, there are 66 duplicates\n"
     ]
    }
   ],
   "source": [
    "# Duplicated jpg_url.\n",
    "print(\"In the jpg_url column, there are {} duplicates\" .format(sum(df_image[\"jpg_url\"].duplicated())))"
   ]
  },
  {
   "cell_type": "code",
   "execution_count": 28,
   "metadata": {},
   "outputs": [
    {
     "data": {
      "text/plain": [
       "tweet_id    0\n",
       "jpg_url     0\n",
       "img_num     0\n",
       "p1          0\n",
       "p1_conf     0\n",
       "p1_dog      0\n",
       "p2          0\n",
       "p2_conf     0\n",
       "p2_dog      0\n",
       "p3          0\n",
       "p3_conf     0\n",
       "p3_dog      0\n",
       "dtype: int64"
      ]
     },
     "execution_count": 28,
     "metadata": {},
     "output_type": "execute_result"
    }
   ],
   "source": [
    "# cheching for null values in the dataset\n",
    "df_image.isnull().sum()"
   ]
  },
  {
   "cell_type": "markdown",
   "metadata": {},
   "source": [
    "there are no null values in the dataset."
   ]
  },
  {
   "cell_type": "code",
   "execution_count": 29,
   "metadata": {},
   "outputs": [
    {
     "data": {
      "text/html": [
       "<div>\n",
       "<style scoped>\n",
       "    .dataframe tbody tr th:only-of-type {\n",
       "        vertical-align: middle;\n",
       "    }\n",
       "\n",
       "    .dataframe tbody tr th {\n",
       "        vertical-align: top;\n",
       "    }\n",
       "\n",
       "    .dataframe thead th {\n",
       "        text-align: right;\n",
       "    }\n",
       "</style>\n",
       "<table border=\"1\" class=\"dataframe\">\n",
       "  <thead>\n",
       "    <tr style=\"text-align: right;\">\n",
       "      <th></th>\n",
       "      <th>tweet_id</th>\n",
       "      <th>img_num</th>\n",
       "      <th>p1_conf</th>\n",
       "      <th>p2_conf</th>\n",
       "      <th>p3_conf</th>\n",
       "    </tr>\n",
       "  </thead>\n",
       "  <tbody>\n",
       "    <tr>\n",
       "      <th>count</th>\n",
       "      <td>2075.00000</td>\n",
       "      <td>2075.00000</td>\n",
       "      <td>2075.00000</td>\n",
       "      <td>2075.00000</td>\n",
       "      <td>2075.00000</td>\n",
       "    </tr>\n",
       "    <tr>\n",
       "      <th>mean</th>\n",
       "      <td>738451357852539008.00000</td>\n",
       "      <td>1.20386</td>\n",
       "      <td>0.59455</td>\n",
       "      <td>0.13459</td>\n",
       "      <td>0.06032</td>\n",
       "    </tr>\n",
       "    <tr>\n",
       "      <th>std</th>\n",
       "      <td>67852033330235656.00000</td>\n",
       "      <td>0.56188</td>\n",
       "      <td>0.27117</td>\n",
       "      <td>0.10067</td>\n",
       "      <td>0.05091</td>\n",
       "    </tr>\n",
       "    <tr>\n",
       "      <th>min</th>\n",
       "      <td>666020888022790144.00000</td>\n",
       "      <td>1.00000</td>\n",
       "      <td>0.04433</td>\n",
       "      <td>0.00000</td>\n",
       "      <td>0.00000</td>\n",
       "    </tr>\n",
       "    <tr>\n",
       "      <th>25%</th>\n",
       "      <td>676483507139540992.00000</td>\n",
       "      <td>1.00000</td>\n",
       "      <td>0.36441</td>\n",
       "      <td>0.05389</td>\n",
       "      <td>0.01622</td>\n",
       "    </tr>\n",
       "    <tr>\n",
       "      <th>50%</th>\n",
       "      <td>711998809858043904.00000</td>\n",
       "      <td>1.00000</td>\n",
       "      <td>0.58823</td>\n",
       "      <td>0.11818</td>\n",
       "      <td>0.04944</td>\n",
       "    </tr>\n",
       "    <tr>\n",
       "      <th>75%</th>\n",
       "      <td>793203448525178880.00000</td>\n",
       "      <td>1.00000</td>\n",
       "      <td>0.84386</td>\n",
       "      <td>0.19557</td>\n",
       "      <td>0.09181</td>\n",
       "    </tr>\n",
       "    <tr>\n",
       "      <th>max</th>\n",
       "      <td>892420643555336192.00000</td>\n",
       "      <td>4.00000</td>\n",
       "      <td>1.00000</td>\n",
       "      <td>0.48801</td>\n",
       "      <td>0.27342</td>\n",
       "    </tr>\n",
       "  </tbody>\n",
       "</table>\n",
       "</div>"
      ],
      "text/plain": [
       "                       tweet_id     img_num     p1_conf     p2_conf  \\\n",
       "count                2075.00000  2075.00000  2075.00000  2075.00000   \n",
       "mean   738451357852539008.00000     1.20386     0.59455     0.13459   \n",
       "std     67852033330235656.00000     0.56188     0.27117     0.10067   \n",
       "min    666020888022790144.00000     1.00000     0.04433     0.00000   \n",
       "25%    676483507139540992.00000     1.00000     0.36441     0.05389   \n",
       "50%    711998809858043904.00000     1.00000     0.58823     0.11818   \n",
       "75%    793203448525178880.00000     1.00000     0.84386     0.19557   \n",
       "max    892420643555336192.00000     4.00000     1.00000     0.48801   \n",
       "\n",
       "          p3_conf  \n",
       "count  2075.00000  \n",
       "mean      0.06032  \n",
       "std       0.05091  \n",
       "min       0.00000  \n",
       "25%       0.01622  \n",
       "50%       0.04944  \n",
       "75%       0.09181  \n",
       "max       0.27342  "
      ]
     },
     "execution_count": 29,
     "metadata": {},
     "output_type": "execute_result"
    }
   ],
   "source": [
    "df_image.describe().apply(lambda s: s.apply('{0:.5f}'.format))"
   ]
  },
  {
   "cell_type": "markdown",
   "metadata": {},
   "source": [
    "###### `The tweet_id is a unique identifier of the tweets and as such may represent no duplicates in terms of relation to the dog and as such its better to filter using the dog pictures for unique ones to get unique ones and also remove the duplicates in the process.` \n"
   ]
  },
  {
   "cell_type": "markdown",
   "metadata": {},
   "source": [
    "### `.value_counts`"
   ]
  },
  {
   "cell_type": "code",
   "execution_count": 30,
   "metadata": {},
   "outputs": [
    {
     "data": {
      "text/plain": [
       "golden_retriever      150\n",
       "Labrador_retriever    100\n",
       "Pembroke               89\n",
       "Chihuahua              83\n",
       "pug                    57\n",
       "                     ... \n",
       "pillow                  1\n",
       "carousel                1\n",
       "bald_eagle              1\n",
       "lorikeet                1\n",
       "orange                  1\n",
       "Name: p1, Length: 378, dtype: int64"
      ]
     },
     "execution_count": 30,
     "metadata": {},
     "output_type": "execute_result"
    }
   ],
   "source": [
    "df_image[\"p1\"].value_counts()"
   ]
  },
  {
   "cell_type": "code",
   "execution_count": 31,
   "metadata": {},
   "outputs": [
    {
     "data": {
      "text/plain": [
       "Labrador_retriever    104\n",
       "golden_retriever       92\n",
       "Cardigan               73\n",
       "Chihuahua              44\n",
       "Pomeranian             42\n",
       "                     ... \n",
       "medicine_chest          1\n",
       "quail                   1\n",
       "horse_cart              1\n",
       "waffle_iron             1\n",
       "bagel                   1\n",
       "Name: p2, Length: 405, dtype: int64"
      ]
     },
     "execution_count": 31,
     "metadata": {},
     "output_type": "execute_result"
    }
   ],
   "source": [
    "df_image[\"p2\"].value_counts()"
   ]
  },
  {
   "cell_type": "code",
   "execution_count": 32,
   "metadata": {},
   "outputs": [
    {
     "data": {
      "text/plain": [
       "Labrador_retriever    79\n",
       "Chihuahua             58\n",
       "golden_retriever      48\n",
       "Eskimo_dog            38\n",
       "kelpie                35\n",
       "                      ..\n",
       "ox                     1\n",
       "assault_rifle          1\n",
       "axolotl                1\n",
       "pot                    1\n",
       "banana                 1\n",
       "Name: p3, Length: 408, dtype: int64"
      ]
     },
     "execution_count": 32,
     "metadata": {},
     "output_type": "execute_result"
    }
   ],
   "source": [
    "df_image[\"p3\"].value_counts()"
   ]
  },
  {
   "cell_type": "markdown",
   "metadata": {},
   "source": [
    "The most common dog type is the Labrador retriever accordin to the .value_counts"
   ]
  },
  {
   "cell_type": "markdown",
   "metadata": {},
   "source": [
    "Table 3: \n",
    "\n",
    "<br>\n",
    "\n",
    "<left><strong>Table 7 - Issues identified with the df_image dataset.</strong></left>\n",
    "\n",
    "|Number|Issue Category|Issue Type|Method|Column|Description|\n",
    "|:-:|:-:|:-:|:-:|:-:|:-:|\n",
    "|1|Quality|Consistency|Visual|p1, p2, and p3|mix of upper and lowercase in the first letters of the name|\n",
    "|2|Quality|Validity|Programmatic|tweet_id|tweet id should be a string|\n",
    "|3|Quality|Validity|Programmatic|jpg_url|presence of 66 duplicated urls|\n",
    "|3|Quality|Validity|Programmatic|p1, p2, and p3|presence of invalid data e.g dog labelled as a srarfish|"
   ]
  },
  {
   "cell_type": "markdown",
   "metadata": {},
   "source": [
    "## 4. Cleaning of Data <a id='Cleaning of Data'></a>\n",
    "\n",
    "From table 1, 2 and 3 above we will attempt to sort out the issues identified\n",
    "\n",
    "`First, as standard practice, we will copy the dataframes in order to preserve the original datasets.`"
   ]
  },
  {
   "cell_type": "code",
   "execution_count": 33,
   "metadata": {},
   "outputs": [],
   "source": [
    "# Copying the df_img.\n",
    "image_clean = df_image.copy()\n",
    "\n",
    "# Copying the df_ach.\n",
    "arch_clean = df_arch.copy()\n",
    "\n",
    "# Copying the df_twt_raw. \n",
    "api_clean = df_api.copy()"
   ]
  },
  {
   "cell_type": "markdown",
   "metadata": {},
   "source": [
    "> Tring to checkout an image from the image dataset"
   ]
  },
  {
   "cell_type": "code",
   "execution_count": 34,
   "metadata": {},
   "outputs": [
    {
     "data": {
      "text/html": [
       "<div>\n",
       "<style scoped>\n",
       "    .dataframe tbody tr th:only-of-type {\n",
       "        vertical-align: middle;\n",
       "    }\n",
       "\n",
       "    .dataframe tbody tr th {\n",
       "        vertical-align: top;\n",
       "    }\n",
       "\n",
       "    .dataframe thead th {\n",
       "        text-align: right;\n",
       "    }\n",
       "</style>\n",
       "<table border=\"1\" class=\"dataframe\">\n",
       "  <thead>\n",
       "    <tr style=\"text-align: right;\">\n",
       "      <th></th>\n",
       "      <th>tweet_id</th>\n",
       "      <th>jpg_url</th>\n",
       "      <th>img_num</th>\n",
       "      <th>p1</th>\n",
       "      <th>p1_conf</th>\n",
       "      <th>p1_dog</th>\n",
       "      <th>p2</th>\n",
       "      <th>p2_conf</th>\n",
       "      <th>p2_dog</th>\n",
       "      <th>p3</th>\n",
       "      <th>p3_conf</th>\n",
       "      <th>p3_dog</th>\n",
       "    </tr>\n",
       "  </thead>\n",
       "  <tbody>\n",
       "    <tr>\n",
       "      <th>1694</th>\n",
       "      <td>816091915477250048</td>\n",
       "      <td>https://pbs.twimg.com/media/C1NXQ6NXUAEAxIQ.jpg</td>\n",
       "      <td>3</td>\n",
       "      <td>Pomeranian</td>\n",
       "      <td>0.967345</td>\n",
       "      <td>True</td>\n",
       "      <td>Samoyed</td>\n",
       "      <td>0.007397</td>\n",
       "      <td>True</td>\n",
       "      <td>papillon</td>\n",
       "      <td>0.006017</td>\n",
       "      <td>True</td>\n",
       "    </tr>\n",
       "    <tr>\n",
       "      <th>1287</th>\n",
       "      <td>751132876104687617</td>\n",
       "      <td>https://pbs.twimg.com/media/CmyPXNOW8AEtaJ-.jpg</td>\n",
       "      <td>1</td>\n",
       "      <td>Labrador_retriever</td>\n",
       "      <td>0.929390</td>\n",
       "      <td>True</td>\n",
       "      <td>Chesapeake_Bay_retriever</td>\n",
       "      <td>0.038254</td>\n",
       "      <td>True</td>\n",
       "      <td>golden_retriever</td>\n",
       "      <td>0.007610</td>\n",
       "      <td>True</td>\n",
       "    </tr>\n",
       "    <tr>\n",
       "      <th>648</th>\n",
       "      <td>681694085539872773</td>\n",
       "      <td>https://pbs.twimg.com/media/CXXdJ7CVAAALu23.jpg</td>\n",
       "      <td>1</td>\n",
       "      <td>toy_poodle</td>\n",
       "      <td>0.920992</td>\n",
       "      <td>True</td>\n",
       "      <td>miniature_poodle</td>\n",
       "      <td>0.060857</td>\n",
       "      <td>True</td>\n",
       "      <td>Maltese_dog</td>\n",
       "      <td>0.006064</td>\n",
       "      <td>True</td>\n",
       "    </tr>\n",
       "    <tr>\n",
       "      <th>1914</th>\n",
       "      <td>854120357044912130</td>\n",
       "      <td>https://pbs.twimg.com/media/C9px7jyVwAAnmwN.jpg</td>\n",
       "      <td>4</td>\n",
       "      <td>black-and-tan_coonhound</td>\n",
       "      <td>0.854861</td>\n",
       "      <td>True</td>\n",
       "      <td>Doberman</td>\n",
       "      <td>0.050792</td>\n",
       "      <td>True</td>\n",
       "      <td>bluetick</td>\n",
       "      <td>0.021762</td>\n",
       "      <td>True</td>\n",
       "    </tr>\n",
       "    <tr>\n",
       "      <th>1964</th>\n",
       "      <td>867072653475098625</td>\n",
       "      <td>https://pbs.twimg.com/media/DAElHfmUMAEH9lB.jpg</td>\n",
       "      <td>1</td>\n",
       "      <td>Blenheim_spaniel</td>\n",
       "      <td>0.352946</td>\n",
       "      <td>True</td>\n",
       "      <td>papillon</td>\n",
       "      <td>0.211766</td>\n",
       "      <td>True</td>\n",
       "      <td>Pekinese</td>\n",
       "      <td>0.112952</td>\n",
       "      <td>True</td>\n",
       "    </tr>\n",
       "  </tbody>\n",
       "</table>\n",
       "</div>"
      ],
      "text/plain": [
       "                tweet_id                                          jpg_url  \\\n",
       "1694  816091915477250048  https://pbs.twimg.com/media/C1NXQ6NXUAEAxIQ.jpg   \n",
       "1287  751132876104687617  https://pbs.twimg.com/media/CmyPXNOW8AEtaJ-.jpg   \n",
       "648   681694085539872773  https://pbs.twimg.com/media/CXXdJ7CVAAALu23.jpg   \n",
       "1914  854120357044912130  https://pbs.twimg.com/media/C9px7jyVwAAnmwN.jpg   \n",
       "1964  867072653475098625  https://pbs.twimg.com/media/DAElHfmUMAEH9lB.jpg   \n",
       "\n",
       "      img_num                       p1   p1_conf  p1_dog  \\\n",
       "1694        3               Pomeranian  0.967345    True   \n",
       "1287        1       Labrador_retriever  0.929390    True   \n",
       "648         1               toy_poodle  0.920992    True   \n",
       "1914        4  black-and-tan_coonhound  0.854861    True   \n",
       "1964        1         Blenheim_spaniel  0.352946    True   \n",
       "\n",
       "                            p2   p2_conf  p2_dog                p3   p3_conf  \\\n",
       "1694                   Samoyed  0.007397    True          papillon  0.006017   \n",
       "1287  Chesapeake_Bay_retriever  0.038254    True  golden_retriever  0.007610   \n",
       "648           miniature_poodle  0.060857    True       Maltese_dog  0.006064   \n",
       "1914                  Doberman  0.050792    True          bluetick  0.021762   \n",
       "1964                  papillon  0.211766    True          Pekinese  0.112952   \n",
       "\n",
       "      p3_dog  \n",
       "1694    True  \n",
       "1287    True  \n",
       "648     True  \n",
       "1914    True  \n",
       "1964    True  "
      ]
     },
     "execution_count": 34,
     "metadata": {},
     "output_type": "execute_result"
    }
   ],
   "source": [
    "image_clean.sample(5)"
   ]
  },
  {
   "cell_type": "code",
   "execution_count": 35,
   "metadata": {},
   "outputs": [
    {
     "data": {
      "text/html": [
       "<img src=\"https://pbs.twimg.com/media/DBP1asiUAAEKZI5.jpg\"/>"
      ],
      "text/plain": [
       "<IPython.core.display.Image object>"
      ]
     },
     "execution_count": 35,
     "metadata": {},
     "output_type": "execute_result"
    }
   ],
   "source": [
    "# Checking out an image from he df_image_clean dataset\n",
    "from IPython.display import Image \n",
    "Image(url = 'https://pbs.twimg.com/media/DBP1asiUAAEKZI5.jpg')\n",
    "# tweet_id 870308999962521604"
   ]
  },
  {
   "cell_type": "markdown",
   "metadata": {},
   "source": [
    "We'll merge the duplicated datasets and then go on to fix the issues identified in section 3 above.\n",
    "\n",
    "### 4a. Merge Datasets\n",
    "\n",
    "#### `Code`"
   ]
  },
  {
   "cell_type": "code",
   "execution_count": 36,
   "metadata": {},
   "outputs": [],
   "source": [
    "from functools import reduce\n",
    "dframes = [arch_clean, image_clean, api_clean]\n",
    "df_twt_dogs = reduce(lambda left, right:  pd.merge(left, right, on = 'tweet_id'), dframes)"
   ]
  },
  {
   "cell_type": "code",
   "execution_count": 37,
   "metadata": {},
   "outputs": [
    {
     "data": {
      "text/html": [
       "<div>\n",
       "<style scoped>\n",
       "    .dataframe tbody tr th:only-of-type {\n",
       "        vertical-align: middle;\n",
       "    }\n",
       "\n",
       "    .dataframe tbody tr th {\n",
       "        vertical-align: top;\n",
       "    }\n",
       "\n",
       "    .dataframe thead th {\n",
       "        text-align: right;\n",
       "    }\n",
       "</style>\n",
       "<table border=\"1\" class=\"dataframe\">\n",
       "  <thead>\n",
       "    <tr style=\"text-align: right;\">\n",
       "      <th></th>\n",
       "      <th>tweet_id</th>\n",
       "      <th>in_reply_to_status_id</th>\n",
       "      <th>in_reply_to_user_id</th>\n",
       "      <th>timestamp</th>\n",
       "      <th>source</th>\n",
       "      <th>text</th>\n",
       "      <th>retweeted_status_id</th>\n",
       "      <th>retweeted_status_user_id</th>\n",
       "      <th>retweeted_status_timestamp</th>\n",
       "      <th>expanded_urls</th>\n",
       "      <th>...</th>\n",
       "      <th>p2</th>\n",
       "      <th>p2_conf</th>\n",
       "      <th>p2_dog</th>\n",
       "      <th>p3</th>\n",
       "      <th>p3_conf</th>\n",
       "      <th>p3_dog</th>\n",
       "      <th>retweet_count</th>\n",
       "      <th>favorite_count</th>\n",
       "      <th>retweeted</th>\n",
       "      <th>display_text_range</th>\n",
       "    </tr>\n",
       "  </thead>\n",
       "  <tbody>\n",
       "    <tr>\n",
       "      <th>0</th>\n",
       "      <td>892420643555336193</td>\n",
       "      <td>NaN</td>\n",
       "      <td>NaN</td>\n",
       "      <td>2017-08-01 16:23:56 +0000</td>\n",
       "      <td>&lt;a href=\"http://twitter.com/download/iphone\" r...</td>\n",
       "      <td>This is Phineas. He's a mystical boy. Only eve...</td>\n",
       "      <td>NaN</td>\n",
       "      <td>NaN</td>\n",
       "      <td>NaN</td>\n",
       "      <td>https://twitter.com/dog_rates/status/892420643...</td>\n",
       "      <td>...</td>\n",
       "      <td>bagel</td>\n",
       "      <td>0.085851</td>\n",
       "      <td>False</td>\n",
       "      <td>banana</td>\n",
       "      <td>0.076110</td>\n",
       "      <td>False</td>\n",
       "      <td>8853</td>\n",
       "      <td>39467</td>\n",
       "      <td>False</td>\n",
       "      <td>[0, 85]</td>\n",
       "    </tr>\n",
       "    <tr>\n",
       "      <th>1</th>\n",
       "      <td>892177421306343426</td>\n",
       "      <td>NaN</td>\n",
       "      <td>NaN</td>\n",
       "      <td>2017-08-01 00:17:27 +0000</td>\n",
       "      <td>&lt;a href=\"http://twitter.com/download/iphone\" r...</td>\n",
       "      <td>This is Tilly. She's just checking pup on you....</td>\n",
       "      <td>NaN</td>\n",
       "      <td>NaN</td>\n",
       "      <td>NaN</td>\n",
       "      <td>https://twitter.com/dog_rates/status/892177421...</td>\n",
       "      <td>...</td>\n",
       "      <td>Pekinese</td>\n",
       "      <td>0.090647</td>\n",
       "      <td>True</td>\n",
       "      <td>papillon</td>\n",
       "      <td>0.068957</td>\n",
       "      <td>True</td>\n",
       "      <td>6514</td>\n",
       "      <td>33819</td>\n",
       "      <td>False</td>\n",
       "      <td>[0, 138]</td>\n",
       "    </tr>\n",
       "    <tr>\n",
       "      <th>2</th>\n",
       "      <td>891815181378084864</td>\n",
       "      <td>NaN</td>\n",
       "      <td>NaN</td>\n",
       "      <td>2017-07-31 00:18:03 +0000</td>\n",
       "      <td>&lt;a href=\"http://twitter.com/download/iphone\" r...</td>\n",
       "      <td>This is Archie. He is a rare Norwegian Pouncin...</td>\n",
       "      <td>NaN</td>\n",
       "      <td>NaN</td>\n",
       "      <td>NaN</td>\n",
       "      <td>https://twitter.com/dog_rates/status/891815181...</td>\n",
       "      <td>...</td>\n",
       "      <td>malamute</td>\n",
       "      <td>0.078253</td>\n",
       "      <td>True</td>\n",
       "      <td>kelpie</td>\n",
       "      <td>0.031379</td>\n",
       "      <td>True</td>\n",
       "      <td>4328</td>\n",
       "      <td>25461</td>\n",
       "      <td>False</td>\n",
       "      <td>[0, 121]</td>\n",
       "    </tr>\n",
       "  </tbody>\n",
       "</table>\n",
       "<p>3 rows × 32 columns</p>\n",
       "</div>"
      ],
      "text/plain": [
       "             tweet_id  in_reply_to_status_id  in_reply_to_user_id  \\\n",
       "0  892420643555336193                    NaN                  NaN   \n",
       "1  892177421306343426                    NaN                  NaN   \n",
       "2  891815181378084864                    NaN                  NaN   \n",
       "\n",
       "                   timestamp  \\\n",
       "0  2017-08-01 16:23:56 +0000   \n",
       "1  2017-08-01 00:17:27 +0000   \n",
       "2  2017-07-31 00:18:03 +0000   \n",
       "\n",
       "                                              source  \\\n",
       "0  <a href=\"http://twitter.com/download/iphone\" r...   \n",
       "1  <a href=\"http://twitter.com/download/iphone\" r...   \n",
       "2  <a href=\"http://twitter.com/download/iphone\" r...   \n",
       "\n",
       "                                                text  retweeted_status_id  \\\n",
       "0  This is Phineas. He's a mystical boy. Only eve...                  NaN   \n",
       "1  This is Tilly. She's just checking pup on you....                  NaN   \n",
       "2  This is Archie. He is a rare Norwegian Pouncin...                  NaN   \n",
       "\n",
       "   retweeted_status_user_id retweeted_status_timestamp  \\\n",
       "0                       NaN                        NaN   \n",
       "1                       NaN                        NaN   \n",
       "2                       NaN                        NaN   \n",
       "\n",
       "                                       expanded_urls  ...        p2   p2_conf  \\\n",
       "0  https://twitter.com/dog_rates/status/892420643...  ...     bagel  0.085851   \n",
       "1  https://twitter.com/dog_rates/status/892177421...  ...  Pekinese  0.090647   \n",
       "2  https://twitter.com/dog_rates/status/891815181...  ...  malamute  0.078253   \n",
       "\n",
       "  p2_dog        p3   p3_conf p3_dog retweet_count favorite_count  retweeted  \\\n",
       "0  False    banana  0.076110  False          8853          39467      False   \n",
       "1   True  papillon  0.068957   True          6514          33819      False   \n",
       "2   True    kelpie  0.031379   True          4328          25461      False   \n",
       "\n",
       "  display_text_range  \n",
       "0            [0, 85]  \n",
       "1           [0, 138]  \n",
       "2           [0, 121]  \n",
       "\n",
       "[3 rows x 32 columns]"
      ]
     },
     "execution_count": 37,
     "metadata": {},
     "output_type": "execute_result"
    }
   ],
   "source": [
    "# displaying the first 3 rows of the merged dataset\n",
    "df_twt_dogs.head(3)"
   ]
  },
  {
   "cell_type": "code",
   "execution_count": 38,
   "metadata": {},
   "outputs": [
    {
     "name": "stdout",
     "output_type": "stream",
     "text": [
      "<class 'pandas.core.frame.DataFrame'>\n",
      "Int64Index: 2073 entries, 0 to 2072\n",
      "Data columns (total 32 columns):\n",
      " #   Column                      Non-Null Count  Dtype  \n",
      "---  ------                      --------------  -----  \n",
      " 0   tweet_id                    2073 non-null   int64  \n",
      " 1   in_reply_to_status_id       23 non-null     float64\n",
      " 2   in_reply_to_user_id         23 non-null     float64\n",
      " 3   timestamp                   2073 non-null   object \n",
      " 4   source                      2073 non-null   object \n",
      " 5   text                        2073 non-null   object \n",
      " 6   retweeted_status_id         79 non-null     float64\n",
      " 7   retweeted_status_user_id    79 non-null     float64\n",
      " 8   retweeted_status_timestamp  79 non-null     object \n",
      " 9   expanded_urls               2073 non-null   object \n",
      " 10  rating_numerator            2073 non-null   int64  \n",
      " 11  rating_denominator          2073 non-null   int64  \n",
      " 12  name                        2073 non-null   object \n",
      " 13  doggo                       2073 non-null   object \n",
      " 14  floofer                     2073 non-null   object \n",
      " 15  pupper                      2073 non-null   object \n",
      " 16  puppo                       2073 non-null   object \n",
      " 17  jpg_url                     2073 non-null   object \n",
      " 18  img_num                     2073 non-null   int64  \n",
      " 19  p1                          2073 non-null   object \n",
      " 20  p1_conf                     2073 non-null   float64\n",
      " 21  p1_dog                      2073 non-null   bool   \n",
      " 22  p2                          2073 non-null   object \n",
      " 23  p2_conf                     2073 non-null   float64\n",
      " 24  p2_dog                      2073 non-null   bool   \n",
      " 25  p3                          2073 non-null   object \n",
      " 26  p3_conf                     2073 non-null   float64\n",
      " 27  p3_dog                      2073 non-null   bool   \n",
      " 28  retweet_count               2073 non-null   int64  \n",
      " 29  favorite_count              2073 non-null   int64  \n",
      " 30  retweeted                   2073 non-null   bool   \n",
      " 31  display_text_range          2073 non-null   object \n",
      "dtypes: bool(4), float64(7), int64(6), object(15)\n",
      "memory usage: 477.8+ KB\n"
     ]
    }
   ],
   "source": [
    "df_twt_dogs.info()"
   ]
  },
  {
   "cell_type": "markdown",
   "metadata": {},
   "source": [
    "### 1. Removing duplicate URLs:"
   ]
  },
  {
   "cell_type": "code",
   "execution_count": 39,
   "metadata": {},
   "outputs": [
    {
     "name": "stdout",
     "output_type": "stream",
     "text": [
      "Before url cleaning, there are 2073 rows\n",
      "After cleaning, there are 2008 rows.\n"
     ]
    }
   ],
   "source": [
    "print(\"Before url cleaning, there are {} rows\".format(df_twt_dogs.shape[0]))\n",
    "# Vector to indexing the duplicated jpg url.\n",
    "indexing = df_twt_dogs[\"jpg_url\"].duplicated()\n",
    "\n",
    "# I want the opposite. All observations except the duplicated.\n",
    "indexing = np.logical_not(indexing)\n",
    "\n",
    "# Subsetting and assigning to the df_img cleaned.\n",
    "df_twt_dogs = df_twt_dogs[indexing]\n",
    "\n",
    "# New dimensions of df_twt_dogs\n",
    "print(\"After cleaning, there are {} rows.\".format(df_twt_dogs.shape[0]))"
   ]
  },
  {
   "cell_type": "code",
   "execution_count": 40,
   "metadata": {},
   "outputs": [
    {
     "name": "stdout",
     "output_type": "stream",
     "text": [
      "There are 0 duplicate urls remaining.\n"
     ]
    }
   ],
   "source": [
    "#Checking if there are any remaining duplicate urls\n",
    "print(\"There are {} duplicate urls remaining.\".format(sum(df_twt_dogs.jpg_url.duplicated())))"
   ]
  },
  {
   "cell_type": "markdown",
   "metadata": {},
   "source": [
    "### 2. Converting columns into correct data types:\n",
    "* tweet_id > to string\n",
    "* Rating_denominator > to float \n",
    "* rating_numerator > to float"
   ]
  },
  {
   "cell_type": "code",
   "execution_count": 41,
   "metadata": {},
   "outputs": [],
   "source": [
    "#we'll run a code to convert the tweet_id column into string\n",
    "df_twt_dogs.tweet_id = df_twt_dogs.tweet_id.astype(str)"
   ]
  },
  {
   "cell_type": "code",
   "execution_count": 42,
   "metadata": {},
   "outputs": [],
   "source": [
    "#changing rating_denominator and numerator into float datatype\n",
    "df_twt_dogs.rating_numerator = df_twt_dogs.rating_numerator.astype(float)\n",
    "df_twt_dogs.rating_denominator = df_twt_dogs.rating_denominator.astype(float)"
   ]
  },
  {
   "cell_type": "markdown",
   "metadata": {},
   "source": [
    "#### Standardizing the Ratings"
   ]
  },
  {
   "cell_type": "code",
   "execution_count": 43,
   "metadata": {},
   "outputs": [
    {
     "data": {
      "text/plain": [
       "['This is Bella. She hopes her smile made you smile. If not, she is also offering you her favorite monkey. 13.5/10 https://t.co/qjrljjt948',\n",
       " \"This is Logan, the Chow who lived. He solemnly swears he's up to lots of good. H*ckin magical af 9.75/10 https://t.co/yBO5wuqaPS\",\n",
       " \"This is Sophie. She's a Jubilant Bush Pupper. Super h*ckin rare. Appears at random just to smile at the locals. 11.27/10 would smile back https://t.co/QFaUiIHxHq\",\n",
       " 'Here we have uncovered an entire battalion of holiday puppers. Average of 11.26/10 https://t.co/eNm2S6p9BD']"
      ]
     },
     "execution_count": 43,
     "metadata": {},
     "output_type": "execute_result"
    }
   ],
   "source": [
    "# For loop to gather all text, indices, and ratings for tweets that contain a decimal in the numerator of the rating\n",
    "decimal_rating_txt = []\n",
    "decimal_rating_indx = []\n",
    "decimal_rating = []\n",
    "\n",
    "for i, text in df_twt_dogs['text'].iteritems():\n",
    "    if bool(re.search('\\d+\\.\\d+\\/\\d+', text)):\n",
    "        decimal_rating_txt.append(text)\n",
    "        decimal_rating_indx.append(i)\n",
    "        decimal_rating.append(re.search('\\d+\\.\\d+', text).group())\n",
    "\n",
    "# Print ratings with decimals        \n",
    "decimal_rating_txt"
   ]
  },
  {
   "cell_type": "code",
   "execution_count": 44,
   "metadata": {},
   "outputs": [
    {
     "data": {
      "text/plain": [
       "[40, 558, 614, 1451]"
      ]
     },
     "execution_count": 44,
     "metadata": {},
     "output_type": "execute_result"
    }
   ],
   "source": [
    "# Print the indices of the ratings above (have decimal)\n",
    "decimal_rating_indx"
   ]
  },
  {
   "cell_type": "code",
   "execution_count": 45,
   "metadata": {},
   "outputs": [],
   "source": [
    "# 8 - Code (cont)\n",
    "#Correctly converting the above decimal ratings to float\n",
    "df_twt_dogs.loc[decimal_rating_indx[0],'rating_numerator'] = float(decimal_rating[0])\n",
    "df_twt_dogs.loc[decimal_rating_indx[1],'rating_numerator'] = float(decimal_rating[1])\n",
    "df_twt_dogs.loc[decimal_rating_indx[2],'rating_numerator'] = float(decimal_rating[2])\n",
    "df_twt_dogs.loc[decimal_rating_indx[3],'rating_numerator'] = float(decimal_rating[3])"
   ]
  },
  {
   "cell_type": "code",
   "execution_count": 46,
   "metadata": {},
   "outputs": [
    {
     "data": {
      "text/plain": [
       "tweet_id                                                     883482846933004288\n",
       "in_reply_to_status_id                                                       NaN\n",
       "in_reply_to_user_id                                                         NaN\n",
       "timestamp                                             2017-07-08 00:28:19 +0000\n",
       "source                        <a href=\"http://twitter.com/download/iphone\" r...\n",
       "text                          This is Bella. She hopes her smile made you sm...\n",
       "retweeted_status_id                                                         NaN\n",
       "retweeted_status_user_id                                                    NaN\n",
       "retweeted_status_timestamp                                                  NaN\n",
       "expanded_urls                 https://twitter.com/dog_rates/status/883482846...\n",
       "rating_numerator                                                           13.5\n",
       "rating_denominator                                                         10.0\n",
       "name                                                                      Bella\n",
       "doggo                                                                      None\n",
       "floofer                                                                    None\n",
       "pupper                                                                     None\n",
       "puppo                                                                      None\n",
       "jpg_url                         https://pbs.twimg.com/media/DELC9dZXUAADqUk.jpg\n",
       "img_num                                                                       1\n",
       "p1                                                             golden_retriever\n",
       "p1_conf                                                                0.943082\n",
       "p1_dog                                                                     True\n",
       "p2                                                           Labrador_retriever\n",
       "p2_conf                                                                0.032409\n",
       "p2_dog                                                                     True\n",
       "p3                                                                       kuvasz\n",
       "p3_conf                                                                0.005501\n",
       "p3_dog                                                                     True\n",
       "retweet_count                                                             10407\n",
       "favorite_count                                                            46860\n",
       "retweeted                                                                 False\n",
       "display_text_range                                                     [0, 112]\n",
       "Name: 40, dtype: object"
      ]
     },
     "execution_count": 46,
     "metadata": {},
     "output_type": "execute_result"
    }
   ],
   "source": [
    "df_twt_dogs.loc[40]"
   ]
  },
  {
   "cell_type": "markdown",
   "metadata": {},
   "source": [
    "To standardize the rating we are going to take the numerator divided by the demominator\n",
    "we'll create a new column called `rating`"
   ]
  },
  {
   "cell_type": "code",
   "execution_count": 47,
   "metadata": {},
   "outputs": [],
   "source": [
    "# Create a new column called rating, and calulate the value with new, standardized ratings\n",
    "df_twt_dogs['rating'] = df_twt_dogs['rating_numerator'] / df_twt_dogs['rating_denominator']"
   ]
  },
  {
   "cell_type": "code",
   "execution_count": 48,
   "metadata": {},
   "outputs": [],
   "source": [
    "df_twt_dogs.rating = df_twt_dogs.rating.astype(float)"
   ]
  },
  {
   "cell_type": "code",
   "execution_count": 49,
   "metadata": {},
   "outputs": [
    {
     "name": "stdout",
     "output_type": "stream",
     "text": [
      "<class 'pandas.core.series.Series'>\n",
      "Int64Index: 2008 entries, 0 to 2072\n",
      "Series name: rating\n",
      "Non-Null Count  Dtype  \n",
      "--------------  -----  \n",
      "2008 non-null   float64\n",
      "dtypes: float64(1)\n",
      "memory usage: 95.9 KB\n"
     ]
    }
   ],
   "source": [
    "df_twt_dogs.rating.info()"
   ]
  },
  {
   "cell_type": "code",
   "execution_count": 50,
   "metadata": {},
   "outputs": [
    {
     "data": {
      "text/html": [
       "<div>\n",
       "<style scoped>\n",
       "    .dataframe tbody tr th:only-of-type {\n",
       "        vertical-align: middle;\n",
       "    }\n",
       "\n",
       "    .dataframe tbody tr th {\n",
       "        vertical-align: top;\n",
       "    }\n",
       "\n",
       "    .dataframe thead th {\n",
       "        text-align: right;\n",
       "    }\n",
       "</style>\n",
       "<table border=\"1\" class=\"dataframe\">\n",
       "  <thead>\n",
       "    <tr style=\"text-align: right;\">\n",
       "      <th></th>\n",
       "      <th>tweet_id</th>\n",
       "      <th>in_reply_to_status_id</th>\n",
       "      <th>in_reply_to_user_id</th>\n",
       "      <th>timestamp</th>\n",
       "      <th>source</th>\n",
       "      <th>text</th>\n",
       "      <th>retweeted_status_id</th>\n",
       "      <th>retweeted_status_user_id</th>\n",
       "      <th>retweeted_status_timestamp</th>\n",
       "      <th>expanded_urls</th>\n",
       "      <th>...</th>\n",
       "      <th>p2_conf</th>\n",
       "      <th>p2_dog</th>\n",
       "      <th>p3</th>\n",
       "      <th>p3_conf</th>\n",
       "      <th>p3_dog</th>\n",
       "      <th>retweet_count</th>\n",
       "      <th>favorite_count</th>\n",
       "      <th>retweeted</th>\n",
       "      <th>display_text_range</th>\n",
       "      <th>rating</th>\n",
       "    </tr>\n",
       "  </thead>\n",
       "  <tbody>\n",
       "    <tr>\n",
       "      <th>1477</th>\n",
       "      <td>679511351870550016</td>\n",
       "      <td>NaN</td>\n",
       "      <td>NaN</td>\n",
       "      <td>2015-12-23 03:58:25 +0000</td>\n",
       "      <td>&lt;a href=\"http://twitter.com/download/iphone\" r...</td>\n",
       "      <td>Say hello to William. He makes fun of others b...</td>\n",
       "      <td>NaN</td>\n",
       "      <td>NaN</td>\n",
       "      <td>NaN</td>\n",
       "      <td>https://twitter.com/dog_rates/status/679511351...</td>\n",
       "      <td>...</td>\n",
       "      <td>0.150605</td>\n",
       "      <td>False</td>\n",
       "      <td>squirrel_monkey</td>\n",
       "      <td>0.028148</td>\n",
       "      <td>False</td>\n",
       "      <td>1461</td>\n",
       "      <td>3711</td>\n",
       "      <td>False</td>\n",
       "      <td>[0, 133]</td>\n",
       "      <td>0.7</td>\n",
       "    </tr>\n",
       "    <tr>\n",
       "      <th>80</th>\n",
       "      <td>874012996292530176</td>\n",
       "      <td>NaN</td>\n",
       "      <td>NaN</td>\n",
       "      <td>2017-06-11 21:18:31 +0000</td>\n",
       "      <td>&lt;a href=\"http://twitter.com/download/iphone\" r...</td>\n",
       "      <td>This is Sebastian. He can't see all the colors...</td>\n",
       "      <td>NaN</td>\n",
       "      <td>NaN</td>\n",
       "      <td>NaN</td>\n",
       "      <td>https://twitter.com/dog_rates/status/874012996...</td>\n",
       "      <td>...</td>\n",
       "      <td>0.116622</td>\n",
       "      <td>True</td>\n",
       "      <td>kelpie</td>\n",
       "      <td>0.049182</td>\n",
       "      <td>True</td>\n",
       "      <td>11007</td>\n",
       "      <td>35501</td>\n",
       "      <td>False</td>\n",
       "      <td>[0, 139]</td>\n",
       "      <td>1.3</td>\n",
       "    </tr>\n",
       "    <tr>\n",
       "      <th>1734</th>\n",
       "      <td>672239279297454080</td>\n",
       "      <td>NaN</td>\n",
       "      <td>NaN</td>\n",
       "      <td>2015-12-03 02:21:48 +0000</td>\n",
       "      <td>&lt;a href=\"http://twitter.com/download/iphone\" r...</td>\n",
       "      <td>This is Ridley. He doesn't know how to couch. ...</td>\n",
       "      <td>NaN</td>\n",
       "      <td>NaN</td>\n",
       "      <td>NaN</td>\n",
       "      <td>https://twitter.com/dog_rates/status/672239279...</td>\n",
       "      <td>...</td>\n",
       "      <td>0.258124</td>\n",
       "      <td>True</td>\n",
       "      <td>bull_mastiff</td>\n",
       "      <td>0.120873</td>\n",
       "      <td>True</td>\n",
       "      <td>347</td>\n",
       "      <td>953</td>\n",
       "      <td>False</td>\n",
       "      <td>[0, 74]</td>\n",
       "      <td>0.7</td>\n",
       "    </tr>\n",
       "  </tbody>\n",
       "</table>\n",
       "<p>3 rows × 33 columns</p>\n",
       "</div>"
      ],
      "text/plain": [
       "                tweet_id  in_reply_to_status_id  in_reply_to_user_id  \\\n",
       "1477  679511351870550016                    NaN                  NaN   \n",
       "80    874012996292530176                    NaN                  NaN   \n",
       "1734  672239279297454080                    NaN                  NaN   \n",
       "\n",
       "                      timestamp  \\\n",
       "1477  2015-12-23 03:58:25 +0000   \n",
       "80    2017-06-11 21:18:31 +0000   \n",
       "1734  2015-12-03 02:21:48 +0000   \n",
       "\n",
       "                                                 source  \\\n",
       "1477  <a href=\"http://twitter.com/download/iphone\" r...   \n",
       "80    <a href=\"http://twitter.com/download/iphone\" r...   \n",
       "1734  <a href=\"http://twitter.com/download/iphone\" r...   \n",
       "\n",
       "                                                   text  retweeted_status_id  \\\n",
       "1477  Say hello to William. He makes fun of others b...                  NaN   \n",
       "80    This is Sebastian. He can't see all the colors...                  NaN   \n",
       "1734  This is Ridley. He doesn't know how to couch. ...                  NaN   \n",
       "\n",
       "      retweeted_status_user_id retweeted_status_timestamp  \\\n",
       "1477                       NaN                        NaN   \n",
       "80                         NaN                        NaN   \n",
       "1734                       NaN                        NaN   \n",
       "\n",
       "                                          expanded_urls  ...   p2_conf  \\\n",
       "1477  https://twitter.com/dog_rates/status/679511351...  ...  0.150605   \n",
       "80    https://twitter.com/dog_rates/status/874012996...  ...  0.116622   \n",
       "1734  https://twitter.com/dog_rates/status/672239279...  ...  0.258124   \n",
       "\n",
       "      p2_dog               p3   p3_conf p3_dog retweet_count favorite_count  \\\n",
       "1477   False  squirrel_monkey  0.028148  False          1461           3711   \n",
       "80      True           kelpie  0.049182   True         11007          35501   \n",
       "1734    True     bull_mastiff  0.120873   True           347            953   \n",
       "\n",
       "     retweeted  display_text_range rating  \n",
       "1477     False            [0, 133]    0.7  \n",
       "80       False            [0, 139]    1.3  \n",
       "1734     False             [0, 74]    0.7  \n",
       "\n",
       "[3 rows x 33 columns]"
      ]
     },
     "execution_count": 50,
     "metadata": {},
     "output_type": "execute_result"
    }
   ],
   "source": [
    "df_twt_dogs.sample(3)"
   ]
  },
  {
   "cell_type": "markdown",
   "metadata": {},
   "source": [
    "#### `Timestamps to datetime format`"
   ]
  },
  {
   "cell_type": "code",
   "execution_count": 51,
   "metadata": {},
   "outputs": [],
   "source": [
    "#Remove the time zone from the 'timestamp' column\n",
    "df_twt_dogs['timestamp'] = df_twt_dogs['timestamp'].str.slice(start=0, stop=-6)"
   ]
  },
  {
   "cell_type": "code",
   "execution_count": 52,
   "metadata": {},
   "outputs": [],
   "source": [
    "# Change the 'timestamp' column to a datetime object\n",
    "df_twt_dogs['timestamp'] = pd.to_datetime(df_twt_dogs['timestamp'], format = \"%Y-%m-%d %H:%M:%S\")"
   ]
  },
  {
   "cell_type": "code",
   "execution_count": 53,
   "metadata": {},
   "outputs": [
    {
     "data": {
      "text/html": [
       "<div>\n",
       "<style scoped>\n",
       "    .dataframe tbody tr th:only-of-type {\n",
       "        vertical-align: middle;\n",
       "    }\n",
       "\n",
       "    .dataframe tbody tr th {\n",
       "        vertical-align: top;\n",
       "    }\n",
       "\n",
       "    .dataframe thead th {\n",
       "        text-align: right;\n",
       "    }\n",
       "</style>\n",
       "<table border=\"1\" class=\"dataframe\">\n",
       "  <thead>\n",
       "    <tr style=\"text-align: right;\">\n",
       "      <th></th>\n",
       "      <th>tweet_id</th>\n",
       "      <th>in_reply_to_status_id</th>\n",
       "      <th>in_reply_to_user_id</th>\n",
       "      <th>timestamp</th>\n",
       "      <th>source</th>\n",
       "      <th>text</th>\n",
       "      <th>retweeted_status_id</th>\n",
       "      <th>retweeted_status_user_id</th>\n",
       "      <th>retweeted_status_timestamp</th>\n",
       "      <th>expanded_urls</th>\n",
       "      <th>...</th>\n",
       "      <th>p2_conf</th>\n",
       "      <th>p2_dog</th>\n",
       "      <th>p3</th>\n",
       "      <th>p3_conf</th>\n",
       "      <th>p3_dog</th>\n",
       "      <th>retweet_count</th>\n",
       "      <th>favorite_count</th>\n",
       "      <th>retweeted</th>\n",
       "      <th>display_text_range</th>\n",
       "      <th>rating</th>\n",
       "    </tr>\n",
       "  </thead>\n",
       "  <tbody>\n",
       "    <tr>\n",
       "      <th>0</th>\n",
       "      <td>892420643555336193</td>\n",
       "      <td>NaN</td>\n",
       "      <td>NaN</td>\n",
       "      <td>2017-08-01 16:23:56</td>\n",
       "      <td>&lt;a href=\"http://twitter.com/download/iphone\" r...</td>\n",
       "      <td>This is Phineas. He's a mystical boy. Only eve...</td>\n",
       "      <td>NaN</td>\n",
       "      <td>NaN</td>\n",
       "      <td>NaN</td>\n",
       "      <td>https://twitter.com/dog_rates/status/892420643...</td>\n",
       "      <td>...</td>\n",
       "      <td>0.085851</td>\n",
       "      <td>False</td>\n",
       "      <td>banana</td>\n",
       "      <td>0.076110</td>\n",
       "      <td>False</td>\n",
       "      <td>8853</td>\n",
       "      <td>39467</td>\n",
       "      <td>False</td>\n",
       "      <td>[0, 85]</td>\n",
       "      <td>1.3</td>\n",
       "    </tr>\n",
       "    <tr>\n",
       "      <th>1</th>\n",
       "      <td>892177421306343426</td>\n",
       "      <td>NaN</td>\n",
       "      <td>NaN</td>\n",
       "      <td>2017-08-01 00:17:27</td>\n",
       "      <td>&lt;a href=\"http://twitter.com/download/iphone\" r...</td>\n",
       "      <td>This is Tilly. She's just checking pup on you....</td>\n",
       "      <td>NaN</td>\n",
       "      <td>NaN</td>\n",
       "      <td>NaN</td>\n",
       "      <td>https://twitter.com/dog_rates/status/892177421...</td>\n",
       "      <td>...</td>\n",
       "      <td>0.090647</td>\n",
       "      <td>True</td>\n",
       "      <td>papillon</td>\n",
       "      <td>0.068957</td>\n",
       "      <td>True</td>\n",
       "      <td>6514</td>\n",
       "      <td>33819</td>\n",
       "      <td>False</td>\n",
       "      <td>[0, 138]</td>\n",
       "      <td>1.3</td>\n",
       "    </tr>\n",
       "    <tr>\n",
       "      <th>2</th>\n",
       "      <td>891815181378084864</td>\n",
       "      <td>NaN</td>\n",
       "      <td>NaN</td>\n",
       "      <td>2017-07-31 00:18:03</td>\n",
       "      <td>&lt;a href=\"http://twitter.com/download/iphone\" r...</td>\n",
       "      <td>This is Archie. He is a rare Norwegian Pouncin...</td>\n",
       "      <td>NaN</td>\n",
       "      <td>NaN</td>\n",
       "      <td>NaN</td>\n",
       "      <td>https://twitter.com/dog_rates/status/891815181...</td>\n",
       "      <td>...</td>\n",
       "      <td>0.078253</td>\n",
       "      <td>True</td>\n",
       "      <td>kelpie</td>\n",
       "      <td>0.031379</td>\n",
       "      <td>True</td>\n",
       "      <td>4328</td>\n",
       "      <td>25461</td>\n",
       "      <td>False</td>\n",
       "      <td>[0, 121]</td>\n",
       "      <td>1.2</td>\n",
       "    </tr>\n",
       "    <tr>\n",
       "      <th>3</th>\n",
       "      <td>891689557279858688</td>\n",
       "      <td>NaN</td>\n",
       "      <td>NaN</td>\n",
       "      <td>2017-07-30 15:58:51</td>\n",
       "      <td>&lt;a href=\"http://twitter.com/download/iphone\" r...</td>\n",
       "      <td>This is Darla. She commenced a snooze mid meal...</td>\n",
       "      <td>NaN</td>\n",
       "      <td>NaN</td>\n",
       "      <td>NaN</td>\n",
       "      <td>https://twitter.com/dog_rates/status/891689557...</td>\n",
       "      <td>...</td>\n",
       "      <td>0.168086</td>\n",
       "      <td>True</td>\n",
       "      <td>spatula</td>\n",
       "      <td>0.040836</td>\n",
       "      <td>False</td>\n",
       "      <td>8964</td>\n",
       "      <td>42908</td>\n",
       "      <td>False</td>\n",
       "      <td>[0, 79]</td>\n",
       "      <td>1.3</td>\n",
       "    </tr>\n",
       "    <tr>\n",
       "      <th>4</th>\n",
       "      <td>891327558926688256</td>\n",
       "      <td>NaN</td>\n",
       "      <td>NaN</td>\n",
       "      <td>2017-07-29 16:00:24</td>\n",
       "      <td>&lt;a href=\"http://twitter.com/download/iphone\" r...</td>\n",
       "      <td>This is Franklin. He would like you to stop ca...</td>\n",
       "      <td>NaN</td>\n",
       "      <td>NaN</td>\n",
       "      <td>NaN</td>\n",
       "      <td>https://twitter.com/dog_rates/status/891327558...</td>\n",
       "      <td>...</td>\n",
       "      <td>0.225770</td>\n",
       "      <td>True</td>\n",
       "      <td>German_short-haired_pointer</td>\n",
       "      <td>0.175219</td>\n",
       "      <td>True</td>\n",
       "      <td>9774</td>\n",
       "      <td>41048</td>\n",
       "      <td>False</td>\n",
       "      <td>[0, 138]</td>\n",
       "      <td>1.2</td>\n",
       "    </tr>\n",
       "  </tbody>\n",
       "</table>\n",
       "<p>5 rows × 33 columns</p>\n",
       "</div>"
      ],
      "text/plain": [
       "             tweet_id  in_reply_to_status_id  in_reply_to_user_id  \\\n",
       "0  892420643555336193                    NaN                  NaN   \n",
       "1  892177421306343426                    NaN                  NaN   \n",
       "2  891815181378084864                    NaN                  NaN   \n",
       "3  891689557279858688                    NaN                  NaN   \n",
       "4  891327558926688256                    NaN                  NaN   \n",
       "\n",
       "            timestamp                                             source  \\\n",
       "0 2017-08-01 16:23:56  <a href=\"http://twitter.com/download/iphone\" r...   \n",
       "1 2017-08-01 00:17:27  <a href=\"http://twitter.com/download/iphone\" r...   \n",
       "2 2017-07-31 00:18:03  <a href=\"http://twitter.com/download/iphone\" r...   \n",
       "3 2017-07-30 15:58:51  <a href=\"http://twitter.com/download/iphone\" r...   \n",
       "4 2017-07-29 16:00:24  <a href=\"http://twitter.com/download/iphone\" r...   \n",
       "\n",
       "                                                text  retweeted_status_id  \\\n",
       "0  This is Phineas. He's a mystical boy. Only eve...                  NaN   \n",
       "1  This is Tilly. She's just checking pup on you....                  NaN   \n",
       "2  This is Archie. He is a rare Norwegian Pouncin...                  NaN   \n",
       "3  This is Darla. She commenced a snooze mid meal...                  NaN   \n",
       "4  This is Franklin. He would like you to stop ca...                  NaN   \n",
       "\n",
       "   retweeted_status_user_id retweeted_status_timestamp  \\\n",
       "0                       NaN                        NaN   \n",
       "1                       NaN                        NaN   \n",
       "2                       NaN                        NaN   \n",
       "3                       NaN                        NaN   \n",
       "4                       NaN                        NaN   \n",
       "\n",
       "                                       expanded_urls  ...   p2_conf  p2_dog  \\\n",
       "0  https://twitter.com/dog_rates/status/892420643...  ...  0.085851   False   \n",
       "1  https://twitter.com/dog_rates/status/892177421...  ...  0.090647    True   \n",
       "2  https://twitter.com/dog_rates/status/891815181...  ...  0.078253    True   \n",
       "3  https://twitter.com/dog_rates/status/891689557...  ...  0.168086    True   \n",
       "4  https://twitter.com/dog_rates/status/891327558...  ...  0.225770    True   \n",
       "\n",
       "                            p3   p3_conf p3_dog retweet_count favorite_count  \\\n",
       "0                       banana  0.076110  False          8853          39467   \n",
       "1                     papillon  0.068957   True          6514          33819   \n",
       "2                       kelpie  0.031379   True          4328          25461   \n",
       "3                      spatula  0.040836  False          8964          42908   \n",
       "4  German_short-haired_pointer  0.175219   True          9774          41048   \n",
       "\n",
       "  retweeted  display_text_range rating  \n",
       "0     False             [0, 85]    1.3  \n",
       "1     False            [0, 138]    1.3  \n",
       "2     False            [0, 121]    1.2  \n",
       "3     False             [0, 79]    1.3  \n",
       "4     False            [0, 138]    1.2  \n",
       "\n",
       "[5 rows x 33 columns]"
      ]
     },
     "execution_count": 53,
     "metadata": {},
     "output_type": "execute_result"
    }
   ],
   "source": [
    "df_twt_dogs.head()"
   ]
  },
  {
   "cell_type": "code",
   "execution_count": 54,
   "metadata": {},
   "outputs": [
    {
     "name": "stdout",
     "output_type": "stream",
     "text": [
      "<class 'pandas.core.frame.DataFrame'>\n",
      "Int64Index: 2008 entries, 0 to 2072\n",
      "Data columns (total 33 columns):\n",
      " #   Column                      Non-Null Count  Dtype         \n",
      "---  ------                      --------------  -----         \n",
      " 0   tweet_id                    2008 non-null   object        \n",
      " 1   in_reply_to_status_id       23 non-null     float64       \n",
      " 2   in_reply_to_user_id         23 non-null     float64       \n",
      " 3   timestamp                   2008 non-null   datetime64[ns]\n",
      " 4   source                      2008 non-null   object        \n",
      " 5   text                        2008 non-null   object        \n",
      " 6   retweeted_status_id         79 non-null     float64       \n",
      " 7   retweeted_status_user_id    79 non-null     float64       \n",
      " 8   retweeted_status_timestamp  79 non-null     object        \n",
      " 9   expanded_urls               2008 non-null   object        \n",
      " 10  rating_numerator            2008 non-null   float64       \n",
      " 11  rating_denominator          2008 non-null   float64       \n",
      " 12  name                        2008 non-null   object        \n",
      " 13  doggo                       2008 non-null   object        \n",
      " 14  floofer                     2008 non-null   object        \n",
      " 15  pupper                      2008 non-null   object        \n",
      " 16  puppo                       2008 non-null   object        \n",
      " 17  jpg_url                     2008 non-null   object        \n",
      " 18  img_num                     2008 non-null   int64         \n",
      " 19  p1                          2008 non-null   object        \n",
      " 20  p1_conf                     2008 non-null   float64       \n",
      " 21  p1_dog                      2008 non-null   bool          \n",
      " 22  p2                          2008 non-null   object        \n",
      " 23  p2_conf                     2008 non-null   float64       \n",
      " 24  p2_dog                      2008 non-null   bool          \n",
      " 25  p3                          2008 non-null   object        \n",
      " 26  p3_conf                     2008 non-null   float64       \n",
      " 27  p3_dog                      2008 non-null   bool          \n",
      " 28  retweet_count               2008 non-null   int64         \n",
      " 29  favorite_count              2008 non-null   int64         \n",
      " 30  retweeted                   2008 non-null   bool          \n",
      " 31  display_text_range          2008 non-null   object        \n",
      " 32  rating                      2008 non-null   float64       \n",
      "dtypes: bool(4), datetime64[ns](1), float64(10), int64(3), object(15)\n",
      "memory usage: 543.0+ KB\n"
     ]
    }
   ],
   "source": [
    "# checking for the outcome of the code\n",
    "df_twt_dogs.info()"
   ]
  },
  {
   "cell_type": "markdown",
   "metadata": {},
   "source": [
    "### 2. Deleting Retweets:"
   ]
  },
  {
   "cell_type": "code",
   "execution_count": 55,
   "metadata": {},
   "outputs": [],
   "source": [
    "#Removing null values in the retweeted_status_id column\n",
    "df_twt_dogs = df_twt_dogs[np.isnan(df_twt_dogs.retweeted_status_id)]"
   ]
  },
  {
   "cell_type": "code",
   "execution_count": 56,
   "metadata": {},
   "outputs": [
    {
     "name": "stdout",
     "output_type": "stream",
     "text": [
      "<class 'pandas.core.frame.DataFrame'>\n",
      "Int64Index: 1929 entries, 0 to 2072\n",
      "Data columns (total 33 columns):\n",
      " #   Column                      Non-Null Count  Dtype         \n",
      "---  ------                      --------------  -----         \n",
      " 0   tweet_id                    1929 non-null   object        \n",
      " 1   in_reply_to_status_id       23 non-null     float64       \n",
      " 2   in_reply_to_user_id         23 non-null     float64       \n",
      " 3   timestamp                   1929 non-null   datetime64[ns]\n",
      " 4   source                      1929 non-null   object        \n",
      " 5   text                        1929 non-null   object        \n",
      " 6   retweeted_status_id         0 non-null      float64       \n",
      " 7   retweeted_status_user_id    0 non-null      float64       \n",
      " 8   retweeted_status_timestamp  0 non-null      object        \n",
      " 9   expanded_urls               1929 non-null   object        \n",
      " 10  rating_numerator            1929 non-null   float64       \n",
      " 11  rating_denominator          1929 non-null   float64       \n",
      " 12  name                        1929 non-null   object        \n",
      " 13  doggo                       1929 non-null   object        \n",
      " 14  floofer                     1929 non-null   object        \n",
      " 15  pupper                      1929 non-null   object        \n",
      " 16  puppo                       1929 non-null   object        \n",
      " 17  jpg_url                     1929 non-null   object        \n",
      " 18  img_num                     1929 non-null   int64         \n",
      " 19  p1                          1929 non-null   object        \n",
      " 20  p1_conf                     1929 non-null   float64       \n",
      " 21  p1_dog                      1929 non-null   bool          \n",
      " 22  p2                          1929 non-null   object        \n",
      " 23  p2_conf                     1929 non-null   float64       \n",
      " 24  p2_dog                      1929 non-null   bool          \n",
      " 25  p3                          1929 non-null   object        \n",
      " 26  p3_conf                     1929 non-null   float64       \n",
      " 27  p3_dog                      1929 non-null   bool          \n",
      " 28  retweet_count               1929 non-null   int64         \n",
      " 29  favorite_count              1929 non-null   int64         \n",
      " 30  retweeted                   1929 non-null   bool          \n",
      " 31  display_text_range          1929 non-null   object        \n",
      " 32  rating                      1929 non-null   float64       \n",
      "dtypes: bool(4), datetime64[ns](1), float64(10), int64(3), object(15)\n",
      "memory usage: 459.6+ KB\n"
     ]
    }
   ],
   "source": [
    "#checking for outcome\n",
    "df_twt_dogs.info()"
   ]
  },
  {
   "cell_type": "code",
   "execution_count": 57,
   "metadata": {},
   "outputs": [],
   "source": [
    "#Dropping the retweet columns:\n",
    "df_twt_dogs = df_twt_dogs.drop(['retweeted_status_id', \\\n",
    "                                  'retweeted_status_user_id', 'retweeted_status_timestamp','retweeted'], axis=1)"
   ]
  },
  {
   "cell_type": "code",
   "execution_count": 58,
   "metadata": {},
   "outputs": [
    {
     "name": "stdout",
     "output_type": "stream",
     "text": [
      "<class 'pandas.core.frame.DataFrame'>\n",
      "Int64Index: 1929 entries, 0 to 2072\n",
      "Data columns (total 29 columns):\n",
      " #   Column                 Non-Null Count  Dtype         \n",
      "---  ------                 --------------  -----         \n",
      " 0   tweet_id               1929 non-null   object        \n",
      " 1   in_reply_to_status_id  23 non-null     float64       \n",
      " 2   in_reply_to_user_id    23 non-null     float64       \n",
      " 3   timestamp              1929 non-null   datetime64[ns]\n",
      " 4   source                 1929 non-null   object        \n",
      " 5   text                   1929 non-null   object        \n",
      " 6   expanded_urls          1929 non-null   object        \n",
      " 7   rating_numerator       1929 non-null   float64       \n",
      " 8   rating_denominator     1929 non-null   float64       \n",
      " 9   name                   1929 non-null   object        \n",
      " 10  doggo                  1929 non-null   object        \n",
      " 11  floofer                1929 non-null   object        \n",
      " 12  pupper                 1929 non-null   object        \n",
      " 13  puppo                  1929 non-null   object        \n",
      " 14  jpg_url                1929 non-null   object        \n",
      " 15  img_num                1929 non-null   int64         \n",
      " 16  p1                     1929 non-null   object        \n",
      " 17  p1_conf                1929 non-null   float64       \n",
      " 18  p1_dog                 1929 non-null   bool          \n",
      " 19  p2                     1929 non-null   object        \n",
      " 20  p2_conf                1929 non-null   float64       \n",
      " 21  p2_dog                 1929 non-null   bool          \n",
      " 22  p3                     1929 non-null   object        \n",
      " 23  p3_conf                1929 non-null   float64       \n",
      " 24  p3_dog                 1929 non-null   bool          \n",
      " 25  retweet_count          1929 non-null   int64         \n",
      " 26  favorite_count         1929 non-null   int64         \n",
      " 27  display_text_range     1929 non-null   object        \n",
      " 28  rating                 1929 non-null   float64       \n",
      "dtypes: bool(3), datetime64[ns](1), float64(8), int64(3), object(14)\n",
      "memory usage: 412.5+ KB\n"
     ]
    }
   ],
   "source": [
    "df_twt_dogs.info()"
   ]
  },
  {
   "cell_type": "markdown",
   "metadata": {},
   "source": [
    "### 3. Dropping more unneeded columns :"
   ]
  },
  {
   "cell_type": "code",
   "execution_count": 59,
   "metadata": {},
   "outputs": [],
   "source": [
    "#drop the unneeded columns\n",
    "df_twt_dogs.drop([\"in_reply_to_user_id\",\"in_reply_to_status_id\"], inplace=True, axis = 1)"
   ]
  },
  {
   "cell_type": "code",
   "execution_count": 60,
   "metadata": {},
   "outputs": [
    {
     "name": "stdout",
     "output_type": "stream",
     "text": [
      "<class 'pandas.core.frame.DataFrame'>\n",
      "Int64Index: 1929 entries, 0 to 2072\n",
      "Data columns (total 27 columns):\n",
      " #   Column              Non-Null Count  Dtype         \n",
      "---  ------              --------------  -----         \n",
      " 0   tweet_id            1929 non-null   object        \n",
      " 1   timestamp           1929 non-null   datetime64[ns]\n",
      " 2   source              1929 non-null   object        \n",
      " 3   text                1929 non-null   object        \n",
      " 4   expanded_urls       1929 non-null   object        \n",
      " 5   rating_numerator    1929 non-null   float64       \n",
      " 6   rating_denominator  1929 non-null   float64       \n",
      " 7   name                1929 non-null   object        \n",
      " 8   doggo               1929 non-null   object        \n",
      " 9   floofer             1929 non-null   object        \n",
      " 10  pupper              1929 non-null   object        \n",
      " 11  puppo               1929 non-null   object        \n",
      " 12  jpg_url             1929 non-null   object        \n",
      " 13  img_num             1929 non-null   int64         \n",
      " 14  p1                  1929 non-null   object        \n",
      " 15  p1_conf             1929 non-null   float64       \n",
      " 16  p1_dog              1929 non-null   bool          \n",
      " 17  p2                  1929 non-null   object        \n",
      " 18  p2_conf             1929 non-null   float64       \n",
      " 19  p2_dog              1929 non-null   bool          \n",
      " 20  p3                  1929 non-null   object        \n",
      " 21  p3_conf             1929 non-null   float64       \n",
      " 22  p3_dog              1929 non-null   bool          \n",
      " 23  retweet_count       1929 non-null   int64         \n",
      " 24  favorite_count      1929 non-null   int64         \n",
      " 25  display_text_range  1929 non-null   object        \n",
      " 26  rating              1929 non-null   float64       \n",
      "dtypes: bool(3), datetime64[ns](1), float64(6), int64(3), object(14)\n",
      "memory usage: 382.4+ KB\n"
     ]
    }
   ],
   "source": [
    "df_twt_dogs.info()"
   ]
  },
  {
   "cell_type": "markdown",
   "metadata": {},
   "source": [
    "#### 4. Extracting the source from HTML code:"
   ]
  },
  {
   "cell_type": "markdown",
   "metadata": {},
   "source": [
    "For this we referenced [extract a part of a url][extract]:\n",
    "\n",
    "[extract]: https://stackoverflow.com/questions/17695662/extract-a-part-of-url-python"
   ]
  },
  {
   "cell_type": "code",
   "execution_count": 61,
   "metadata": {},
   "outputs": [],
   "source": [
    "#Extracting the tweet source from the source column\n",
    "# we notice hat the url and source are bound between >< signs so we then extact the same Ref (extract part of a url shown above):\n",
    "\n",
    "df_twt_dogs.source = df_twt_dogs.source.str.extract(\"\\>(.*?)\\<\", expand = True)"
   ]
  },
  {
   "cell_type": "code",
   "execution_count": 62,
   "metadata": {},
   "outputs": [
    {
     "data": {
      "text/html": [
       "<div>\n",
       "<style scoped>\n",
       "    .dataframe tbody tr th:only-of-type {\n",
       "        vertical-align: middle;\n",
       "    }\n",
       "\n",
       "    .dataframe tbody tr th {\n",
       "        vertical-align: top;\n",
       "    }\n",
       "\n",
       "    .dataframe thead th {\n",
       "        text-align: right;\n",
       "    }\n",
       "</style>\n",
       "<table border=\"1\" class=\"dataframe\">\n",
       "  <thead>\n",
       "    <tr style=\"text-align: right;\">\n",
       "      <th></th>\n",
       "      <th>tweet_id</th>\n",
       "      <th>timestamp</th>\n",
       "      <th>source</th>\n",
       "      <th>text</th>\n",
       "      <th>expanded_urls</th>\n",
       "      <th>rating_numerator</th>\n",
       "      <th>rating_denominator</th>\n",
       "      <th>name</th>\n",
       "      <th>doggo</th>\n",
       "      <th>floofer</th>\n",
       "      <th>...</th>\n",
       "      <th>p2</th>\n",
       "      <th>p2_conf</th>\n",
       "      <th>p2_dog</th>\n",
       "      <th>p3</th>\n",
       "      <th>p3_conf</th>\n",
       "      <th>p3_dog</th>\n",
       "      <th>retweet_count</th>\n",
       "      <th>favorite_count</th>\n",
       "      <th>display_text_range</th>\n",
       "      <th>rating</th>\n",
       "    </tr>\n",
       "  </thead>\n",
       "  <tbody>\n",
       "    <tr>\n",
       "      <th>0</th>\n",
       "      <td>892420643555336193</td>\n",
       "      <td>2017-08-01 16:23:56</td>\n",
       "      <td>Twitter for iPhone</td>\n",
       "      <td>This is Phineas. He's a mystical boy. Only eve...</td>\n",
       "      <td>https://twitter.com/dog_rates/status/892420643...</td>\n",
       "      <td>13.0</td>\n",
       "      <td>10.0</td>\n",
       "      <td>Phineas</td>\n",
       "      <td>None</td>\n",
       "      <td>None</td>\n",
       "      <td>...</td>\n",
       "      <td>bagel</td>\n",
       "      <td>0.085851</td>\n",
       "      <td>False</td>\n",
       "      <td>banana</td>\n",
       "      <td>0.076110</td>\n",
       "      <td>False</td>\n",
       "      <td>8853</td>\n",
       "      <td>39467</td>\n",
       "      <td>[0, 85]</td>\n",
       "      <td>1.3</td>\n",
       "    </tr>\n",
       "    <tr>\n",
       "      <th>1</th>\n",
       "      <td>892177421306343426</td>\n",
       "      <td>2017-08-01 00:17:27</td>\n",
       "      <td>Twitter for iPhone</td>\n",
       "      <td>This is Tilly. She's just checking pup on you....</td>\n",
       "      <td>https://twitter.com/dog_rates/status/892177421...</td>\n",
       "      <td>13.0</td>\n",
       "      <td>10.0</td>\n",
       "      <td>Tilly</td>\n",
       "      <td>None</td>\n",
       "      <td>None</td>\n",
       "      <td>...</td>\n",
       "      <td>Pekinese</td>\n",
       "      <td>0.090647</td>\n",
       "      <td>True</td>\n",
       "      <td>papillon</td>\n",
       "      <td>0.068957</td>\n",
       "      <td>True</td>\n",
       "      <td>6514</td>\n",
       "      <td>33819</td>\n",
       "      <td>[0, 138]</td>\n",
       "      <td>1.3</td>\n",
       "    </tr>\n",
       "  </tbody>\n",
       "</table>\n",
       "<p>2 rows × 27 columns</p>\n",
       "</div>"
      ],
      "text/plain": [
       "             tweet_id           timestamp              source  \\\n",
       "0  892420643555336193 2017-08-01 16:23:56  Twitter for iPhone   \n",
       "1  892177421306343426 2017-08-01 00:17:27  Twitter for iPhone   \n",
       "\n",
       "                                                text  \\\n",
       "0  This is Phineas. He's a mystical boy. Only eve...   \n",
       "1  This is Tilly. She's just checking pup on you....   \n",
       "\n",
       "                                       expanded_urls  rating_numerator  \\\n",
       "0  https://twitter.com/dog_rates/status/892420643...              13.0   \n",
       "1  https://twitter.com/dog_rates/status/892177421...              13.0   \n",
       "\n",
       "   rating_denominator     name doggo floofer  ...        p2   p2_conf p2_dog  \\\n",
       "0                10.0  Phineas  None    None  ...     bagel  0.085851  False   \n",
       "1                10.0    Tilly  None    None  ...  Pekinese  0.090647   True   \n",
       "\n",
       "         p3   p3_conf  p3_dog  retweet_count favorite_count  \\\n",
       "0    banana  0.076110   False           8853          39467   \n",
       "1  papillon  0.068957    True           6514          33819   \n",
       "\n",
       "   display_text_range  rating  \n",
       "0             [0, 85]     1.3  \n",
       "1            [0, 138]     1.3  \n",
       "\n",
       "[2 rows x 27 columns]"
      ]
     },
     "execution_count": 62,
     "metadata": {},
     "output_type": "execute_result"
    }
   ],
   "source": [
    "# checking if the changes have been effected\n",
    "df_twt_dogs.head(2)"
   ]
  },
  {
   "cell_type": "markdown",
   "metadata": {},
   "source": [
    "#### 5. Combining the various dog types i.e (doggo,floofer.pupper,puppo)"
   ]
  },
  {
   "cell_type": "code",
   "execution_count": 63,
   "metadata": {},
   "outputs": [],
   "source": [
    "# Extract the text from the columns into the new dog_type colunn\n",
    "df_twt_dogs['dog_type'] = df_twt_dogs['text'].str.extract('(doggo|floofer|pupper|puppo)')"
   ]
  },
  {
   "cell_type": "code",
   "execution_count": 64,
   "metadata": {},
   "outputs": [
    {
     "data": {
      "text/html": [
       "<div>\n",
       "<style scoped>\n",
       "    .dataframe tbody tr th:only-of-type {\n",
       "        vertical-align: middle;\n",
       "    }\n",
       "\n",
       "    .dataframe tbody tr th {\n",
       "        vertical-align: top;\n",
       "    }\n",
       "\n",
       "    .dataframe thead th {\n",
       "        text-align: right;\n",
       "    }\n",
       "</style>\n",
       "<table border=\"1\" class=\"dataframe\">\n",
       "  <thead>\n",
       "    <tr style=\"text-align: right;\">\n",
       "      <th></th>\n",
       "      <th>dog_type</th>\n",
       "      <th>floofer</th>\n",
       "      <th>doggo</th>\n",
       "      <th>puppo</th>\n",
       "      <th>pupper</th>\n",
       "    </tr>\n",
       "  </thead>\n",
       "  <tbody>\n",
       "    <tr>\n",
       "      <th>516</th>\n",
       "      <td>NaN</td>\n",
       "      <td>None</td>\n",
       "      <td>None</td>\n",
       "      <td>None</td>\n",
       "      <td>None</td>\n",
       "    </tr>\n",
       "    <tr>\n",
       "      <th>308</th>\n",
       "      <td>NaN</td>\n",
       "      <td>None</td>\n",
       "      <td>None</td>\n",
       "      <td>None</td>\n",
       "      <td>None</td>\n",
       "    </tr>\n",
       "    <tr>\n",
       "      <th>2065</th>\n",
       "      <td>NaN</td>\n",
       "      <td>None</td>\n",
       "      <td>None</td>\n",
       "      <td>None</td>\n",
       "      <td>None</td>\n",
       "    </tr>\n",
       "    <tr>\n",
       "      <th>77</th>\n",
       "      <td>NaN</td>\n",
       "      <td>None</td>\n",
       "      <td>None</td>\n",
       "      <td>None</td>\n",
       "      <td>None</td>\n",
       "    </tr>\n",
       "    <tr>\n",
       "      <th>849</th>\n",
       "      <td>NaN</td>\n",
       "      <td>None</td>\n",
       "      <td>None</td>\n",
       "      <td>None</td>\n",
       "      <td>None</td>\n",
       "    </tr>\n",
       "  </tbody>\n",
       "</table>\n",
       "</div>"
      ],
      "text/plain": [
       "     dog_type floofer doggo puppo pupper\n",
       "516       NaN    None  None  None   None\n",
       "308       NaN    None  None  None   None\n",
       "2065      NaN    None  None  None   None\n",
       "77        NaN    None  None  None   None\n",
       "849       NaN    None  None  None   None"
      ]
     },
     "execution_count": 64,
     "metadata": {},
     "output_type": "execute_result"
    }
   ],
   "source": [
    "df_twt_dogs[['dog_type', 'floofer','doggo', 'puppo','pupper' ]].sample(5)"
   ]
  },
  {
   "cell_type": "code",
   "execution_count": 65,
   "metadata": {},
   "outputs": [
    {
     "data": {
      "text/plain": [
       "pupper     218\n",
       "doggo       69\n",
       "puppo       27\n",
       "floofer      3\n",
       "Name: dog_type, dtype: int64"
      ]
     },
     "execution_count": 65,
     "metadata": {},
     "output_type": "execute_result"
    }
   ],
   "source": [
    "df_twt_dogs.dog_type.value_counts()"
   ]
  },
  {
   "cell_type": "code",
   "execution_count": 66,
   "metadata": {},
   "outputs": [
    {
     "name": "stdout",
     "output_type": "stream",
     "text": [
      "<class 'pandas.core.frame.DataFrame'>\n",
      "Int64Index: 1929 entries, 0 to 2072\n",
      "Data columns (total 28 columns):\n",
      " #   Column              Non-Null Count  Dtype         \n",
      "---  ------              --------------  -----         \n",
      " 0   tweet_id            1929 non-null   object        \n",
      " 1   timestamp           1929 non-null   datetime64[ns]\n",
      " 2   source              1929 non-null   object        \n",
      " 3   text                1929 non-null   object        \n",
      " 4   expanded_urls       1929 non-null   object        \n",
      " 5   rating_numerator    1929 non-null   float64       \n",
      " 6   rating_denominator  1929 non-null   float64       \n",
      " 7   name                1929 non-null   object        \n",
      " 8   doggo               1929 non-null   object        \n",
      " 9   floofer             1929 non-null   object        \n",
      " 10  pupper              1929 non-null   object        \n",
      " 11  puppo               1929 non-null   object        \n",
      " 12  jpg_url             1929 non-null   object        \n",
      " 13  img_num             1929 non-null   int64         \n",
      " 14  p1                  1929 non-null   object        \n",
      " 15  p1_conf             1929 non-null   float64       \n",
      " 16  p1_dog              1929 non-null   bool          \n",
      " 17  p2                  1929 non-null   object        \n",
      " 18  p2_conf             1929 non-null   float64       \n",
      " 19  p2_dog              1929 non-null   bool          \n",
      " 20  p3                  1929 non-null   object        \n",
      " 21  p3_conf             1929 non-null   float64       \n",
      " 22  p3_dog              1929 non-null   bool          \n",
      " 23  retweet_count       1929 non-null   int64         \n",
      " 24  favorite_count      1929 non-null   int64         \n",
      " 25  display_text_range  1929 non-null   object        \n",
      " 26  rating              1929 non-null   float64       \n",
      " 27  dog_type            317 non-null    object        \n",
      "dtypes: bool(3), datetime64[ns](1), float64(6), int64(3), object(15)\n",
      "memory usage: 397.5+ KB\n"
     ]
    }
   ],
   "source": [
    "df_twt_dogs.info()"
   ]
  },
  {
   "cell_type": "code",
   "execution_count": 67,
   "metadata": {},
   "outputs": [],
   "source": [
    "# Dropping more unneeded columns\n",
    "df_twt_dogs.drop(['img_num'], axis = 1, inplace=True)"
   ]
  },
  {
   "cell_type": "code",
   "execution_count": 68,
   "metadata": {},
   "outputs": [],
   "source": [
    "df_twt_dogs.drop(['doggo', 'floofer', 'pupper', 'puppo',],axis = 1, inplace=True)"
   ]
  },
  {
   "cell_type": "code",
   "execution_count": 69,
   "metadata": {},
   "outputs": [
    {
     "name": "stdout",
     "output_type": "stream",
     "text": [
      "<class 'pandas.core.frame.DataFrame'>\n",
      "Int64Index: 1929 entries, 0 to 2072\n",
      "Data columns (total 23 columns):\n",
      " #   Column              Non-Null Count  Dtype         \n",
      "---  ------              --------------  -----         \n",
      " 0   tweet_id            1929 non-null   object        \n",
      " 1   timestamp           1929 non-null   datetime64[ns]\n",
      " 2   source              1929 non-null   object        \n",
      " 3   text                1929 non-null   object        \n",
      " 4   expanded_urls       1929 non-null   object        \n",
      " 5   rating_numerator    1929 non-null   float64       \n",
      " 6   rating_denominator  1929 non-null   float64       \n",
      " 7   name                1929 non-null   object        \n",
      " 8   jpg_url             1929 non-null   object        \n",
      " 9   p1                  1929 non-null   object        \n",
      " 10  p1_conf             1929 non-null   float64       \n",
      " 11  p1_dog              1929 non-null   bool          \n",
      " 12  p2                  1929 non-null   object        \n",
      " 13  p2_conf             1929 non-null   float64       \n",
      " 14  p2_dog              1929 non-null   bool          \n",
      " 15  p3                  1929 non-null   object        \n",
      " 16  p3_conf             1929 non-null   float64       \n",
      " 17  p3_dog              1929 non-null   bool          \n",
      " 18  retweet_count       1929 non-null   int64         \n",
      " 19  favorite_count      1929 non-null   int64         \n",
      " 20  display_text_range  1929 non-null   object        \n",
      " 21  rating              1929 non-null   float64       \n",
      " 22  dog_type            317 non-null    object        \n",
      "dtypes: bool(3), datetime64[ns](1), float64(6), int64(2), object(11)\n",
      "memory usage: 322.1+ KB\n"
     ]
    }
   ],
   "source": [
    "df_twt_dogs.info()"
   ]
  },
  {
   "cell_type": "code",
   "execution_count": 70,
   "metadata": {},
   "outputs": [
    {
     "data": {
      "text/plain": [
       "Index(['tweet_id', 'timestamp', 'source', 'text', 'expanded_urls',\n",
       "       'rating_numerator', 'rating_denominator', 'name', 'jpg_url', 'p1',\n",
       "       'p1_conf', 'p1_dog', 'p2', 'p2_conf', 'p2_dog', 'p3', 'p3_conf',\n",
       "       'p3_dog', 'retweet_count', 'favorite_count', 'display_text_range',\n",
       "       'rating', 'dog_type'],\n",
       "      dtype='object')"
      ]
     },
     "execution_count": 70,
     "metadata": {},
     "output_type": "execute_result"
    }
   ],
   "source": [
    "#checking column distribution\n",
    "df_twt_dogs.columns"
   ]
  },
  {
   "cell_type": "markdown",
   "metadata": {},
   "source": [
    "#### 6. Fixing issues with the Dog names column:\n"
   ]
  },
  {
   "cell_type": "code",
   "execution_count": 71,
   "metadata": {},
   "outputs": [
    {
     "name": "stderr",
     "output_type": "stream",
     "text": [
      "C:\\Users\\calvi\\AppData\\Local\\Temp\\ipykernel_14044\\3414159103.py:2: FutureWarning: The default value of regex will change from True to False in a future version.\n",
      "  df_twt_dogs.name = df_twt_dogs.name.str.replace('^[a-z]+', 'None')\n"
     ]
    }
   ],
   "source": [
    "#Correcting naming issues in the data\n",
    "df_twt_dogs.name = df_twt_dogs.name.str.replace('^[a-z]+', 'None')"
   ]
  },
  {
   "cell_type": "code",
   "execution_count": 72,
   "metadata": {},
   "outputs": [
    {
     "data": {
      "text/plain": [
       "None          625\n",
       "Charlie        11\n",
       "Oliver         10\n",
       "Cooper         10\n",
       "Lucy           10\n",
       "             ... \n",
       "Theo            1\n",
       "Rocco           1\n",
       "Fido            1\n",
       "Emma            1\n",
       "Christoper      1\n",
       "Name: name, Length: 891, dtype: int64"
      ]
     },
     "execution_count": 72,
     "metadata": {},
     "output_type": "execute_result"
    }
   ],
   "source": [
    "df_twt_dogs['name'].value_counts()"
   ]
  },
  {
   "cell_type": "code",
   "execution_count": 73,
   "metadata": {},
   "outputs": [
    {
     "data": {
      "text/plain": [
       "184        Odin\n",
       "1528    Juckson\n",
       "1186       None\n",
       "1531       None\n",
       "994        None\n",
       "1872     Shawwn\n",
       "2016       None\n",
       "571     Frankie\n",
       "950      Sprout\n",
       "510       Dobby\n",
       "Name: name, dtype: object"
      ]
     },
     "execution_count": 73,
     "metadata": {},
     "output_type": "execute_result"
    }
   ],
   "source": [
    "df_twt_dogs['name'].sample(10)"
   ]
  },
  {
   "cell_type": "markdown",
   "metadata": {},
   "source": [
    "`We'll now replace the invalid names with Nan`"
   ]
  },
  {
   "cell_type": "code",
   "execution_count": 74,
   "metadata": {},
   "outputs": [],
   "source": [
    "for x in [\"None\", \"a\", \"by\", \"the\"]:\n",
    "    df_twt_dogs[\"name\"].replace(x, np.nan, inplace = True)"
   ]
  },
  {
   "cell_type": "markdown",
   "metadata": {},
   "source": [
    "#### 7. We need to fix the Dog Breed naming inconsistencies by:\n",
    "> * Dog's breed is not standardized, some are capitalized and other lowercase.\n",
    "> * Standardization of the dogs' breeds names in `P1`, `P2` and `P3` columns.\n",
    "* converting uppercase to lowercase\n",
    "* replacing - with _\n",
    "* replacing spaces with _"
   ]
  },
  {
   "cell_type": "code",
   "execution_count": 75,
   "metadata": {},
   "outputs": [],
   "source": [
    "def standard_fix(fix_names):\n",
    "\n",
    "    # Change - to _\n",
    "    fix_names = list(map(lambda x : x.replace('-','_'), fix_names ))\n",
    "    # Convert any uppercase to lowercase.\n",
    "    fix_names = list(map(lambda x : x.lower(), fix_names ))\n",
    "    # Change spaces to _\n",
    "    fix_names = list(map(lambda x : x.replace(' ','_'), fix_names ))\n",
    "\n",
    "    \n",
    "    return fix_names # Return the \"fixed\" names."
   ]
  },
  {
   "cell_type": "code",
   "execution_count": 76,
   "metadata": {},
   "outputs": [],
   "source": [
    "df_twt_dogs.p1 = standard_fix(df_twt_dogs.p1)\n",
    "df_twt_dogs.p2 = standard_fix(df_twt_dogs.p2)\n",
    "df_twt_dogs.p3 = standard_fix(df_twt_dogs.p3)"
   ]
  },
  {
   "cell_type": "code",
   "execution_count": 77,
   "metadata": {},
   "outputs": [
    {
     "data": {
      "text/html": [
       "<div>\n",
       "<style scoped>\n",
       "    .dataframe tbody tr th:only-of-type {\n",
       "        vertical-align: middle;\n",
       "    }\n",
       "\n",
       "    .dataframe tbody tr th {\n",
       "        vertical-align: top;\n",
       "    }\n",
       "\n",
       "    .dataframe thead th {\n",
       "        text-align: right;\n",
       "    }\n",
       "</style>\n",
       "<table border=\"1\" class=\"dataframe\">\n",
       "  <thead>\n",
       "    <tr style=\"text-align: right;\">\n",
       "      <th></th>\n",
       "      <th>tweet_id</th>\n",
       "      <th>p1</th>\n",
       "      <th>p2</th>\n",
       "      <th>p3</th>\n",
       "    </tr>\n",
       "  </thead>\n",
       "  <tbody>\n",
       "    <tr>\n",
       "      <th>0</th>\n",
       "      <td>892420643555336193</td>\n",
       "      <td>orange</td>\n",
       "      <td>bagel</td>\n",
       "      <td>banana</td>\n",
       "    </tr>\n",
       "    <tr>\n",
       "      <th>1</th>\n",
       "      <td>892177421306343426</td>\n",
       "      <td>chihuahua</td>\n",
       "      <td>pekinese</td>\n",
       "      <td>papillon</td>\n",
       "    </tr>\n",
       "    <tr>\n",
       "      <th>2</th>\n",
       "      <td>891815181378084864</td>\n",
       "      <td>chihuahua</td>\n",
       "      <td>malamute</td>\n",
       "      <td>kelpie</td>\n",
       "    </tr>\n",
       "    <tr>\n",
       "      <th>3</th>\n",
       "      <td>891689557279858688</td>\n",
       "      <td>paper_towel</td>\n",
       "      <td>labrador_retriever</td>\n",
       "      <td>spatula</td>\n",
       "    </tr>\n",
       "    <tr>\n",
       "      <th>4</th>\n",
       "      <td>891327558926688256</td>\n",
       "      <td>basset</td>\n",
       "      <td>english_springer</td>\n",
       "      <td>german_short_haired_pointer</td>\n",
       "    </tr>\n",
       "  </tbody>\n",
       "</table>\n",
       "</div>"
      ],
      "text/plain": [
       "             tweet_id           p1                  p2  \\\n",
       "0  892420643555336193       orange               bagel   \n",
       "1  892177421306343426    chihuahua            pekinese   \n",
       "2  891815181378084864    chihuahua            malamute   \n",
       "3  891689557279858688  paper_towel  labrador_retriever   \n",
       "4  891327558926688256       basset    english_springer   \n",
       "\n",
       "                            p3  \n",
       "0                       banana  \n",
       "1                     papillon  \n",
       "2                       kelpie  \n",
       "3                      spatula  \n",
       "4  german_short_haired_pointer  "
      ]
     },
     "execution_count": 77,
     "metadata": {},
     "output_type": "execute_result"
    }
   ],
   "source": [
    "\n",
    "# Subsetting the twt_ach_mstr to show only p1, p2, p3, and tweet_id.\n",
    "df_twt_dogs[['tweet_id','p1','p2','p3']].head(5)"
   ]
  },
  {
   "cell_type": "markdown",
   "metadata": {},
   "source": [
    "Creating a new dog_breed column from the database"
   ]
  },
  {
   "cell_type": "code",
   "execution_count": 78,
   "metadata": {},
   "outputs": [
    {
     "data": {
      "text/html": [
       "<div>\n",
       "<style scoped>\n",
       "    .dataframe tbody tr th:only-of-type {\n",
       "        vertical-align: middle;\n",
       "    }\n",
       "\n",
       "    .dataframe tbody tr th {\n",
       "        vertical-align: top;\n",
       "    }\n",
       "\n",
       "    .dataframe thead th {\n",
       "        text-align: right;\n",
       "    }\n",
       "</style>\n",
       "<table border=\"1\" class=\"dataframe\">\n",
       "  <thead>\n",
       "    <tr style=\"text-align: right;\">\n",
       "      <th></th>\n",
       "      <th>tweet_id</th>\n",
       "      <th>timestamp</th>\n",
       "      <th>source</th>\n",
       "      <th>text</th>\n",
       "      <th>expanded_urls</th>\n",
       "      <th>rating_numerator</th>\n",
       "      <th>rating_denominator</th>\n",
       "      <th>name</th>\n",
       "      <th>jpg_url</th>\n",
       "      <th>p1</th>\n",
       "      <th>...</th>\n",
       "      <th>p2_conf</th>\n",
       "      <th>p2_dog</th>\n",
       "      <th>p3</th>\n",
       "      <th>p3_conf</th>\n",
       "      <th>p3_dog</th>\n",
       "      <th>retweet_count</th>\n",
       "      <th>favorite_count</th>\n",
       "      <th>display_text_range</th>\n",
       "      <th>rating</th>\n",
       "      <th>dog_type</th>\n",
       "    </tr>\n",
       "  </thead>\n",
       "  <tbody>\n",
       "  </tbody>\n",
       "</table>\n",
       "<p>0 rows × 23 columns</p>\n",
       "</div>"
      ],
      "text/plain": [
       "Empty DataFrame\n",
       "Columns: [tweet_id, timestamp, source, text, expanded_urls, rating_numerator, rating_denominator, name, jpg_url, p1, p1_conf, p1_dog, p2, p2_conf, p2_dog, p3, p3_conf, p3_dog, retweet_count, favorite_count, display_text_range, rating, dog_type]\n",
       "Index: []\n",
       "\n",
       "[0 rows x 23 columns]"
      ]
     },
     "execution_count": 78,
     "metadata": {},
     "output_type": "execute_result"
    }
   ],
   "source": [
    "df_twt_dogs.query(\"p2_conf > p1_conf\")"
   ]
  },
  {
   "cell_type": "code",
   "execution_count": 79,
   "metadata": {},
   "outputs": [
    {
     "data": {
      "text/html": [
       "<div>\n",
       "<style scoped>\n",
       "    .dataframe tbody tr th:only-of-type {\n",
       "        vertical-align: middle;\n",
       "    }\n",
       "\n",
       "    .dataframe tbody tr th {\n",
       "        vertical-align: top;\n",
       "    }\n",
       "\n",
       "    .dataframe thead th {\n",
       "        text-align: right;\n",
       "    }\n",
       "</style>\n",
       "<table border=\"1\" class=\"dataframe\">\n",
       "  <thead>\n",
       "    <tr style=\"text-align: right;\">\n",
       "      <th></th>\n",
       "      <th>tweet_id</th>\n",
       "      <th>timestamp</th>\n",
       "      <th>source</th>\n",
       "      <th>text</th>\n",
       "      <th>expanded_urls</th>\n",
       "      <th>rating_numerator</th>\n",
       "      <th>rating_denominator</th>\n",
       "      <th>name</th>\n",
       "      <th>jpg_url</th>\n",
       "      <th>p1</th>\n",
       "      <th>...</th>\n",
       "      <th>p2_conf</th>\n",
       "      <th>p2_dog</th>\n",
       "      <th>p3</th>\n",
       "      <th>p3_conf</th>\n",
       "      <th>p3_dog</th>\n",
       "      <th>retweet_count</th>\n",
       "      <th>favorite_count</th>\n",
       "      <th>display_text_range</th>\n",
       "      <th>rating</th>\n",
       "      <th>dog_type</th>\n",
       "    </tr>\n",
       "  </thead>\n",
       "  <tbody>\n",
       "  </tbody>\n",
       "</table>\n",
       "<p>0 rows × 23 columns</p>\n",
       "</div>"
      ],
      "text/plain": [
       "Empty DataFrame\n",
       "Columns: [tweet_id, timestamp, source, text, expanded_urls, rating_numerator, rating_denominator, name, jpg_url, p1, p1_conf, p1_dog, p2, p2_conf, p2_dog, p3, p3_conf, p3_dog, retweet_count, favorite_count, display_text_range, rating, dog_type]\n",
       "Index: []\n",
       "\n",
       "[0 rows x 23 columns]"
      ]
     },
     "execution_count": 79,
     "metadata": {},
     "output_type": "execute_result"
    }
   ],
   "source": [
    "df_twt_dogs.query(\"p3_conf > p1_conf\")"
   ]
  },
  {
   "cell_type": "code",
   "execution_count": 80,
   "metadata": {},
   "outputs": [
    {
     "data": {
      "text/html": [
       "<div>\n",
       "<style scoped>\n",
       "    .dataframe tbody tr th:only-of-type {\n",
       "        vertical-align: middle;\n",
       "    }\n",
       "\n",
       "    .dataframe tbody tr th {\n",
       "        vertical-align: top;\n",
       "    }\n",
       "\n",
       "    .dataframe thead th {\n",
       "        text-align: right;\n",
       "    }\n",
       "</style>\n",
       "<table border=\"1\" class=\"dataframe\">\n",
       "  <thead>\n",
       "    <tr style=\"text-align: right;\">\n",
       "      <th></th>\n",
       "      <th>tweet_id</th>\n",
       "      <th>timestamp</th>\n",
       "      <th>source</th>\n",
       "      <th>text</th>\n",
       "      <th>expanded_urls</th>\n",
       "      <th>rating_numerator</th>\n",
       "      <th>rating_denominator</th>\n",
       "      <th>name</th>\n",
       "      <th>jpg_url</th>\n",
       "      <th>p1</th>\n",
       "      <th>...</th>\n",
       "      <th>p2_conf</th>\n",
       "      <th>p2_dog</th>\n",
       "      <th>p3</th>\n",
       "      <th>p3_conf</th>\n",
       "      <th>p3_dog</th>\n",
       "      <th>retweet_count</th>\n",
       "      <th>favorite_count</th>\n",
       "      <th>display_text_range</th>\n",
       "      <th>rating</th>\n",
       "      <th>dog_type</th>\n",
       "    </tr>\n",
       "  </thead>\n",
       "  <tbody>\n",
       "  </tbody>\n",
       "</table>\n",
       "<p>0 rows × 23 columns</p>\n",
       "</div>"
      ],
      "text/plain": [
       "Empty DataFrame\n",
       "Columns: [tweet_id, timestamp, source, text, expanded_urls, rating_numerator, rating_denominator, name, jpg_url, p1, p1_conf, p1_dog, p2, p2_conf, p2_dog, p3, p3_conf, p3_dog, retweet_count, favorite_count, display_text_range, rating, dog_type]\n",
       "Index: []\n",
       "\n",
       "[0 rows x 23 columns]"
      ]
     },
     "execution_count": 80,
     "metadata": {},
     "output_type": "execute_result"
    }
   ],
   "source": [
    "df_twt_dogs.query(\"p2_conf>p1_conf\")"
   ]
  },
  {
   "cell_type": "code",
   "execution_count": 81,
   "metadata": {},
   "outputs": [],
   "source": [
    "#extract the most likely prediction which is a dog\n",
    "def get_attr(x):\n",
    "    \"\"\"\n",
    "    INPUT: \n",
    "        Columns in this order: Check1, Result1, Check2, Result2, Result3\n",
    "    OUTPUT:\n",
    "        Results based on the check in this columns\n",
    "    \"\"\"\n",
    "    if x[0] == True:\n",
    "        return x[1]\n",
    "    elif x[2] == True:\n",
    "        return x[3]\n",
    "    else:\n",
    "        return x[4]\n",
    "    \n",
    "df_twt_dogs[\"breed\"] = df_twt_dogs[[\"p1_dog\", \"p1\", \"p2_dog\", \"p2\", \"p3\"]].apply(get_attr, axis = 1)\n",
    "df_twt_dogs[\"conf\"] = df_twt_dogs[[\"p1_dog\", \"p1_conf\", \"p2_dog\", \"p2_conf\", \"p3_conf\"]].apply(get_attr, axis = 1)"
   ]
  },
  {
   "cell_type": "code",
   "execution_count": 82,
   "metadata": {},
   "outputs": [
    {
     "data": {
      "text/plain": [
       "Index(['tweet_id', 'timestamp', 'source', 'text', 'expanded_urls',\n",
       "       'rating_numerator', 'rating_denominator', 'name', 'jpg_url', 'p1',\n",
       "       'p1_conf', 'p1_dog', 'p2', 'p2_conf', 'p2_dog', 'p3', 'p3_conf',\n",
       "       'p3_dog', 'retweet_count', 'favorite_count', 'display_text_range',\n",
       "       'rating', 'dog_type', 'breed', 'conf'],\n",
       "      dtype='object')"
      ]
     },
     "execution_count": 82,
     "metadata": {},
     "output_type": "execute_result"
    }
   ],
   "source": [
    "df_twt_dogs.columns"
   ]
  },
  {
   "cell_type": "code",
   "execution_count": 83,
   "metadata": {},
   "outputs": [],
   "source": [
    "df_twt_dogs.drop(['p1_conf','p2_conf','p3_conf'], inplace = True, axis = 1)"
   ]
  },
  {
   "cell_type": "code",
   "execution_count": 84,
   "metadata": {},
   "outputs": [
    {
     "name": "stdout",
     "output_type": "stream",
     "text": [
      "<class 'pandas.core.frame.DataFrame'>\n",
      "Int64Index: 1929 entries, 0 to 2072\n",
      "Data columns (total 22 columns):\n",
      " #   Column              Non-Null Count  Dtype         \n",
      "---  ------              --------------  -----         \n",
      " 0   tweet_id            1929 non-null   object        \n",
      " 1   timestamp           1929 non-null   datetime64[ns]\n",
      " 2   source              1929 non-null   object        \n",
      " 3   text                1929 non-null   object        \n",
      " 4   expanded_urls       1929 non-null   object        \n",
      " 5   rating_numerator    1929 non-null   float64       \n",
      " 6   rating_denominator  1929 non-null   float64       \n",
      " 7   name                1304 non-null   object        \n",
      " 8   jpg_url             1929 non-null   object        \n",
      " 9   p1                  1929 non-null   object        \n",
      " 10  p1_dog              1929 non-null   bool          \n",
      " 11  p2                  1929 non-null   object        \n",
      " 12  p2_dog              1929 non-null   bool          \n",
      " 13  p3                  1929 non-null   object        \n",
      " 14  p3_dog              1929 non-null   bool          \n",
      " 15  retweet_count       1929 non-null   int64         \n",
      " 16  favorite_count      1929 non-null   int64         \n",
      " 17  display_text_range  1929 non-null   object        \n",
      " 18  rating              1929 non-null   float64       \n",
      " 19  dog_type            317 non-null    object        \n",
      " 20  breed               1929 non-null   object        \n",
      " 21  conf                1929 non-null   float64       \n",
      "dtypes: bool(3), datetime64[ns](1), float64(4), int64(2), object(12)\n",
      "memory usage: 307.1+ KB\n"
     ]
    }
   ],
   "source": [
    "df_twt_dogs.info()"
   ]
  },
  {
   "cell_type": "code",
   "execution_count": 85,
   "metadata": {},
   "outputs": [],
   "source": [
    "# storing the cleaned data into csv\n",
    "df_twt_dogs.to_csv('twitter_archive_master.csv', encoding='utf-8', index=False)"
   ]
  },
  {
   "cell_type": "markdown",
   "metadata": {},
   "source": [
    "> ## 4. Analysis and Visualizaton of Data <a id='Analysis and Visualizaton of Data'></a>\n",
    "\n",
    "Here in this session we will try to answer questions that arise from the data provided to us.\n",
    "we will also visualize the results for ease of understanding.\n",
    "\n",
    "* Analyzing and visualizing the total number of tweets over time to see whether there was an influx of tweets over time\n",
    "* Comparison of favourite and retweet counts wrt time.\n",
    "* Determining the most popular dog breed\n",
    "* Determining the most popular dog names\n",
    "* Based on the predicted algorithms(`p1,p2,p3`), Which breed gets retweeted and favorited the most overall?"
   ]
  },
  {
   "cell_type": "code",
   "execution_count": 86,
   "metadata": {},
   "outputs": [],
   "source": [
    "# We'll first read the cleaned dataset i.e the master csv\n",
    "df = pd.read_csv(\"twitter_archive_master.csv\")"
   ]
  },
  {
   "cell_type": "code",
   "execution_count": 87,
   "metadata": {},
   "outputs": [
    {
     "data": {
      "text/plain": [
       "Index(['tweet_id', 'timestamp', 'source', 'text', 'expanded_urls',\n",
       "       'rating_numerator', 'rating_denominator', 'name', 'jpg_url', 'p1',\n",
       "       'p1_dog', 'p2', 'p2_dog', 'p3', 'p3_dog', 'retweet_count',\n",
       "       'favorite_count', 'display_text_range', 'rating', 'dog_type', 'breed',\n",
       "       'conf'],\n",
       "      dtype='object')"
      ]
     },
     "execution_count": 87,
     "metadata": {},
     "output_type": "execute_result"
    }
   ],
   "source": [
    "df.columns"
   ]
  },
  {
   "cell_type": "code",
   "execution_count": 88,
   "metadata": {},
   "outputs": [
    {
     "name": "stdout",
     "output_type": "stream",
     "text": [
      "<class 'pandas.core.frame.DataFrame'>\n",
      "RangeIndex: 1929 entries, 0 to 1928\n",
      "Data columns (total 22 columns):\n",
      " #   Column              Non-Null Count  Dtype  \n",
      "---  ------              --------------  -----  \n",
      " 0   tweet_id            1929 non-null   int64  \n",
      " 1   timestamp           1929 non-null   object \n",
      " 2   source              1929 non-null   object \n",
      " 3   text                1929 non-null   object \n",
      " 4   expanded_urls       1929 non-null   object \n",
      " 5   rating_numerator    1929 non-null   float64\n",
      " 6   rating_denominator  1929 non-null   float64\n",
      " 7   name                1304 non-null   object \n",
      " 8   jpg_url             1929 non-null   object \n",
      " 9   p1                  1929 non-null   object \n",
      " 10  p1_dog              1929 non-null   bool   \n",
      " 11  p2                  1929 non-null   object \n",
      " 12  p2_dog              1929 non-null   bool   \n",
      " 13  p3                  1929 non-null   object \n",
      " 14  p3_dog              1929 non-null   bool   \n",
      " 15  retweet_count       1929 non-null   int64  \n",
      " 16  favorite_count      1929 non-null   int64  \n",
      " 17  display_text_range  1929 non-null   object \n",
      " 18  rating              1929 non-null   float64\n",
      " 19  dog_type            317 non-null    object \n",
      " 20  breed               1929 non-null   object \n",
      " 21  conf                1929 non-null   float64\n",
      "dtypes: bool(3), float64(4), int64(3), object(12)\n",
      "memory usage: 292.1+ KB\n"
     ]
    }
   ],
   "source": [
    "df.info()"
   ]
  },
  {
   "cell_type": "markdown",
   "metadata": {},
   "source": [
    "> `during exporting, the timestamp was converted into a string. we therefore have to convert it into the correct format again`"
   ]
  },
  {
   "cell_type": "code",
   "execution_count": 89,
   "metadata": {},
   "outputs": [],
   "source": [
    "# Converting using the numpy datetime, and assigning to the twt_ach_mstr.\n",
    "df.timestamp = df.timestamp.apply(np.datetime64)"
   ]
  },
  {
   "cell_type": "code",
   "execution_count": 90,
   "metadata": {},
   "outputs": [
    {
     "name": "stdout",
     "output_type": "stream",
     "text": [
      "<class 'pandas.core.frame.DataFrame'>\n",
      "RangeIndex: 1929 entries, 0 to 1928\n",
      "Data columns (total 22 columns):\n",
      " #   Column              Non-Null Count  Dtype         \n",
      "---  ------              --------------  -----         \n",
      " 0   tweet_id            1929 non-null   int64         \n",
      " 1   timestamp           1929 non-null   datetime64[ns]\n",
      " 2   source              1929 non-null   object        \n",
      " 3   text                1929 non-null   object        \n",
      " 4   expanded_urls       1929 non-null   object        \n",
      " 5   rating_numerator    1929 non-null   float64       \n",
      " 6   rating_denominator  1929 non-null   float64       \n",
      " 7   name                1304 non-null   object        \n",
      " 8   jpg_url             1929 non-null   object        \n",
      " 9   p1                  1929 non-null   object        \n",
      " 10  p1_dog              1929 non-null   bool          \n",
      " 11  p2                  1929 non-null   object        \n",
      " 12  p2_dog              1929 non-null   bool          \n",
      " 13  p3                  1929 non-null   object        \n",
      " 14  p3_dog              1929 non-null   bool          \n",
      " 15  retweet_count       1929 non-null   int64         \n",
      " 16  favorite_count      1929 non-null   int64         \n",
      " 17  display_text_range  1929 non-null   object        \n",
      " 18  rating              1929 non-null   float64       \n",
      " 19  dog_type            317 non-null    object        \n",
      " 20  breed               1929 non-null   object        \n",
      " 21  conf                1929 non-null   float64       \n",
      "dtypes: bool(3), datetime64[ns](1), float64(4), int64(3), object(11)\n",
      "memory usage: 292.1+ KB\n"
     ]
    }
   ],
   "source": [
    "df.info()"
   ]
  },
  {
   "cell_type": "markdown",
   "metadata": {},
   "source": [
    "#### 1. Most Used Twitter Source"
   ]
  },
  {
   "cell_type": "code",
   "execution_count": 91,
   "metadata": {},
   "outputs": [
    {
     "data": {
      "text/plain": [
       "Twitter for iPhone    1892\n",
       "Twitter Web Client      26\n",
       "TweetDeck               11\n",
       "Name: source, dtype: int64"
      ]
     },
     "execution_count": 91,
     "metadata": {},
     "output_type": "execute_result"
    }
   ],
   "source": [
    "df.source.value_counts()"
   ]
  },
  {
   "cell_type": "code",
   "execution_count": 92,
   "metadata": {},
   "outputs": [
    {
     "data": {
      "image/png": "[encoded data removed]",
      "text/plain": [
       "<Figure size 648x360 with 1 Axes>"
      ]
     },
     "metadata": {
      "needs_background": "light"
     },
     "output_type": "display_data"
    }
   ],
   "source": [
    "#here we want to have aplot of twitter sources used in order to establish the most popular\n",
    "fig, ax = plt.subplots(figsize = (9,5))\n",
    "ax = sns.countplot(x = \"source\", data = df, order=df.source.value_counts().iloc[:10].index, palette = \"viridis\",)\n",
    "ax.set_title(\"Count of Tweet Sources\");\n",
    "\n",
    "ax.set_ylim(0, 2100)\n",
    "for p in ax.patches:\n",
    "    ax.annotate('{:.0f}'.format(p.get_height()), (p.get_x()+0.3, p.get_height()+2))"
   ]
  },
  {
   "cell_type": "markdown",
   "metadata": {},
   "source": [
    "#### 2. Tweets and Re-tweets over time:\n",
    "> This section will aim to look at the overall frequency of tweets and re-tweets over time:"
   ]
  },
  {
   "cell_type": "code",
   "execution_count": 93,
   "metadata": {},
   "outputs": [
    {
     "name": "stderr",
     "output_type": "stream",
     "text": [
      "C:\\Users\\calvi\\AppData\\Local\\Temp\\ipykernel_14044\\788664054.py:6: FutureWarning: Dropping of nuisance columns in DataFrame reductions (with 'numeric_only=None') is deprecated; in a future version this will raise TypeError.  Select only valid columns before calling the reduction.\n",
      "  monthly_tweets.sum()\n"
     ]
    },
    {
     "data": {
      "text/plain": [
       "tweet_id    1929\n",
       "dtype: int64"
      ]
     },
     "execution_count": 93,
     "metadata": {},
     "output_type": "execute_result"
    }
   ],
   "source": [
    "df.timestamp = pd.to_datetime(df['timestamp'], format='%Y-%m-%d %H:%M:%S.%f')\n",
    "\n",
    "monthly_tweets = df.groupby(pd.Grouper(key = 'timestamp', freq = \"M\")).count().reset_index()\n",
    "monthly_tweets = monthly_tweets[['timestamp', 'tweet_id']]\n",
    "monthly_tweets.head()\n",
    "monthly_tweets.sum()"
   ]
  },
  {
   "cell_type": "code",
   "execution_count": 94,
   "metadata": {},
   "outputs": [
    {
     "data": {
      "image/png": "[encoded data removed]",
      "text/plain": [
       "<Figure size 1080x720 with 1 Axes>"
      ]
     },
     "metadata": {
      "needs_background": "light"
     },
     "output_type": "display_data"
    }
   ],
   "source": [
    "# Plotting time vs. tweets\n",
    "\n",
    "import datetime\n",
    "\n",
    "\n",
    "plt.figure(figsize=(15, 10));\n",
    "plt.xlim([datetime.date(2015, 11, 30), datetime.date(2017, 7, 30)]);\n",
    "\n",
    "plt.xlabel('Year and Month')\n",
    "plt.ylabel('Tweets Count')\n",
    "\n",
    "plt.plot(monthly_tweets.timestamp, monthly_tweets.tweet_id);\n",
    "plt.title('We Rate Dogs Tweets over Time');"
   ]
  },
  {
   "cell_type": "markdown",
   "metadata": {},
   "source": [
    "#### `From the above line chart we can clearly see that the number of tweets generally reduced over time with spikes at certain times i.e in 2016 and afterwards a generally flatter curve onwards.` \n",
    "These spikes will be further illustrated in the figure below."
   ]
  },
  {
   "cell_type": "markdown",
   "metadata": {},
   "source": [
    "Retweets in my opinion show generally the overall interaction with a tweet. Therefore a plot of the retweets over time would generally show the overall interaction with the tweet across the years."
   ]
  },
  {
   "cell_type": "code",
   "execution_count": 95,
   "metadata": {},
   "outputs": [
    {
     "data": {
      "image/png": "[encoded data removed]",
      "text/plain": [
       "<Figure size 1080x648 with 1 Axes>"
      ]
     },
     "metadata": {
      "needs_background": "light"
     },
     "output_type": "display_data"
    }
   ],
   "source": [
    "#Plotting retweets over time\n",
    "sns.set_context()\n",
    "plt.subplots(figsize=(15, 9))\n",
    "plt.plot(df.timestamp, df.retweet_count)\n",
    "plt.title('Re-tweets over time', color = 'black', fontsize = '13')\n",
    "plt.xlabel('Year and month', color = 'black', fontsize = '13')\n",
    "plt.ylabel('Number of re-tweets', color = 'black', fontsize = '13');"
   ]
  },
  {
   "cell_type": "markdown",
   "metadata": {},
   "source": [
    "`The retweet activity has mainly been categorized by spikes across different times the reasons for which are beyond the scope of this study. These spikes were particularly of higher magnitude in the earlier dats of the tweet that is in 2016.`"
   ]
  },
  {
   "cell_type": "markdown",
   "metadata": {},
   "source": [
    "#### 3. Retweets against Favourite Counts\n"
   ]
  },
  {
   "cell_type": "code",
   "execution_count": 96,
   "metadata": {},
   "outputs": [
    {
     "data": {
      "image/png": "[encoded data removed]",
      "text/plain": [
       "<Figure size 468x360 with 1 Axes>"
      ]
     },
     "metadata": {
      "needs_background": "light"
     },
     "output_type": "display_data"
    }
   ],
   "source": [
    "# Scatterplot of retweets vs favorite count\n",
    "\n",
    "sns.lmplot(x=\"retweet_count\", \n",
    "           y=\"favorite_count\", \n",
    "           data=df,\n",
    "           height = 5,\n",
    "           aspect=1.3,\n",
    "           scatter_kws={'alpha':1/5});\n",
    "\n",
    "plt.title('Favorite Count vs. Retweet Count');\n",
    "plt.xlabel('Retweet Count');\n",
    "plt.ylabel('Favorite Count');"
   ]
  },
  {
   "cell_type": "markdown",
   "metadata": {},
   "source": [
    "`As can be seen, there is a generally positive correlation between the Favourite count and the Retweet count.`"
   ]
  },
  {
   "cell_type": "markdown",
   "metadata": {},
   "source": [
    "#### 4. Most Popular Dog Breed:"
   ]
  },
  {
   "cell_type": "code",
   "execution_count": 97,
   "metadata": {},
   "outputs": [
    {
     "data": {
      "text/plain": [
       "pupper     218\n",
       "doggo       69\n",
       "puppo       27\n",
       "floofer      3\n",
       "Name: dog_type, dtype: int64"
      ]
     },
     "execution_count": 97,
     "metadata": {},
     "output_type": "execute_result"
    }
   ],
   "source": [
    "df['dog_type'].value_counts() # getting the  value counts for the dog breeds"
   ]
  },
  {
   "cell_type": "code",
   "execution_count": 98,
   "metadata": {},
   "outputs": [
    {
     "data": {
      "image/png": "[encoded data removed]",
      "text/plain": [
       "<Figure size 432x288 with 1 Axes>"
      ]
     },
     "metadata": {
      "needs_background": "light"
     },
     "output_type": "display_data"
    }
   ],
   "source": [
    "# Histogram to visualize dog breeeds\n",
    "dog_breed = df.groupby('breed').filter(lambda x: len(x) >= 25)\n",
    "\n",
    "dog_breed['breed'].value_counts().plot(kind = 'barh')\n",
    "plt.title('Most Rated Dog Breed')\n",
    "plt.xlabel('Count')\n",
    "plt.ylabel('Breed of dog');"
   ]
  },
  {
   "cell_type": "markdown",
   "metadata": {},
   "source": [
    "#### 5. Most Popular Dog Name:\n",
    "In this section we seek to find the top 10 most popular dog names from the dataset and consequently plot a bar chat for the same:"
   ]
  },
  {
   "cell_type": "code",
   "execution_count": 99,
   "metadata": {},
   "outputs": [
    {
     "data": {
      "text/plain": [
       "Charlie    11\n",
       "Oliver     10\n",
       "Cooper     10\n",
       "Lucy       10\n",
       "Tucker      8\n",
       "Penny       8\n",
       "Winston     8\n",
       "Sadie       8\n",
       "Daisy       7\n",
       "Toby        7\n",
       "Name: name, dtype: int64"
      ]
     },
     "execution_count": 99,
     "metadata": {},
     "output_type": "execute_result"
    }
   ],
   "source": [
    "# sorting a list of the top 10 most popular dog names:\n",
    "popular_name=df.name.value_counts()[0:10]\n",
    "popular_name"
   ]
  },
  {
   "cell_type": "code",
   "execution_count": 100,
   "metadata": {},
   "outputs": [
    {
     "data": {
      "image/png": "[encoded data removed]",
      "text/plain": [
       "<Figure size 720x504 with 1 Axes>"
      ]
     },
     "metadata": {
      "needs_background": "light"
     },
     "output_type": "display_data"
    }
   ],
   "source": [
    "#plotting a bar graph to vizualize the \n",
    "g_bar = popular_name.plot.barh(color = 'blue', fontsize = 13)\n",
    "\n",
    "#figure size(width, height)\n",
    "g_bar.figure.set_size_inches(10, 7);\n",
    "\n",
    "#Add labels\n",
    "plt.title('Most popular Dog name', color = 'black', fontsize = '13')\n",
    "plt.xlabel('Name', color = 'black', fontsize = '13')\n",
    "plt.ylabel('Number of occurrence', color = 'black', fontsize = '13');"
   ]
  },
  {
   "cell_type": "markdown",
   "metadata": {},
   "source": [
    "#### 6. Comparison of the 3 algorithms"
   ]
  },
  {
   "cell_type": "code",
   "execution_count": 103,
   "metadata": {},
   "outputs": [],
   "source": [
    "# Function to plot a barchart.\n",
    "def pop_dog(df_popular, gp_title, xlabel, ylabel,font = 14, font_title = 18):\n",
    "\n",
    "    # Plotting only the breed's dog with more than 20 occurencies.\n",
    "    df_popular[df_popular > 20].plot(kind = 'barh',      # Set the kind of graphic.\n",
    "                                 figsize = [14, 6]); # Graphic size.\n",
    "    plt.title(label = gp_title,         # Graphic Title.\n",
    "              fontsize = 18);   # Graphic title fontsize.\n",
    "    plt.xlabel(xlabel = xlabel,         # X axis label\n",
    "               fontsize = 14);        # X axis fontsize\n",
    "    plt.ylabel(ylabel = ylabel,         # Y axis label\n",
    "               fontsize = 14);        # Y axis fontsize\n",
    "    plt.xlim(0, 140)                    # X axis limit - set default as 140."
   ]
  },
  {
   "cell_type": "markdown",
   "metadata": {},
   "source": [
    "P1 Algorithm"
   ]
  },
  {
   "cell_type": "code",
   "execution_count": null,
   "metadata": {},
   "outputs": [
    {
     "data": {
      "image/png": "[encoded data removed]",
      "text/plain": [
       "<Figure size 1008x432 with 1 Axes>"
      ]
     },
     "metadata": {
      "needs_background": "light"
     },
     "output_type": "display_data"
    }
   ],
   "source": [
    "# Value counts to build a histogram.\n",
    "dog_pref = df[df.p1_dog].p1.value_counts()\n",
    "\n",
    "# Plotting the graphic.\n",
    "pop_dog(dog_pref,\n",
    "           gp_title ='Algorithm 1 - Dog\\'s Breed with more than 20 appearances.',\n",
    "           xlabel = 'Occurrences',\n",
    "           ylabel = 'Dog\\'s Breed')"
   ]
  },
  {
   "cell_type": "markdown",
   "metadata": {},
   "source": [
    "P2 Algorithm Visualization"
   ]
  },
  {
   "cell_type": "code",
   "execution_count": null,
   "metadata": {},
   "outputs": [
    {
     "data": {
      "image/png": "[encoded data removed]",
      "text/plain": [
       "<Figure size 1008x432 with 1 Axes>"
      ]
     },
     "metadata": {
      "needs_background": "light"
     },
     "output_type": "display_data"
    }
   ],
   "source": [
    "# Value counts to build a histogram.\n",
    "dog_pref = df[df.p2_dog].p2.value_counts()\n",
    "\n",
    "# Plotting the graphic.\n",
    "pop_dog(dog_pref,\n",
    "           gp_title ='Algorithm 2 - Dog\\'s Breed with more than 20 appearances.',\n",
    "           xlabel = 'Occurrences',\n",
    "           ylabel = 'Dog\\'s Breed')"
   ]
  },
  {
   "cell_type": "markdown",
   "metadata": {},
   "source": [
    "Algorithm 3 Visualizations:"
   ]
  },
  {
   "cell_type": "code",
   "execution_count": null,
   "metadata": {},
   "outputs": [
    {
     "data": {
      "image/png": "[encoded data removed]",
      "text/plain": [
       "<Figure size 1008x432 with 1 Axes>"
      ]
     },
     "metadata": {
      "needs_background": "light"
     },
     "output_type": "display_data"
    }
   ],
   "source": [
    "# Value counts to build a histogram.\n",
    "dog_pref = df[df.p3_dog].p3.value_counts()\n",
    "\n",
    "# Plotting the graphic.\n",
    "pop_dog(dog_pref,\n",
    "           gp_title = 'Algorithm 3 - Dog\\'s Breed with more than 20 appearances.',\n",
    "           xlabel = 'Occurrences',\n",
    "           ylabel = 'Dog\\'s Breed')"
   ]
  },
  {
   "cell_type": "markdown",
   "metadata": {},
   "source": [
    "## 6. Conclusions Drawn <a id='Conclusions Drawn'></a>\n",
    "This project aims to perform the Data Wrangling and the Exploratory Data Analysis in the WeRateDogs™ Twitter account.\n",
    "\n",
    "TThe write up offers a straight look at the data wrangling process. There is so much more that can be done with this data set. The analysis aimed to look majorly at the popularity of the various dog breeds and types.\n",
    "he Data Gathering process involved three different tasks:\n",
    " * Download file from URL and Loading to the Jupyter Notebook\n",
    " * Downloading a file programmatically\n",
    " * Gathering data from the Twitter API.\n",
    "\n",
    "Based on the data gathered, I have assessed the most evident issues and documented it to create a record of modifications. I then fixed all the issues identified and moved on to answering a few analysis questions. Befor that though I made a copy of the clean datasets and merged into a master csv file (twitter_archive_master.csv).\n",
    "\n",
    "\n",
    "\n",
    "\n",
    "\n",
    "#### Additional Information\n",
    "\n",
    "The Project also has other deliverables, which could be accessed by the following links:\n",
    "\n",
    "[dog_rate]: https://twitter.com/dog_rates\n",
    "Within the project folder there is a .txt file that contains references for this project.\n",
    "The folder also contains the :\n",
    "Act_report.pdf\n",
    "Wrangle_report.pdf\n",
    "wrangle_act.ipynb\n"
   ]
  },
  {
   "cell_type": "markdown",
   "metadata": {},
   "source": [
    "## 7. References <a id='References'></a>"
   ]
  },
  {
   "cell_type": "markdown",
   "metadata": {},
   "source": [
    "* https://www.geeksforgeeks.org/downloading-files-web-using-python/\n",
    "* https://stackoverflow.com/questions/57270165/how-to-download-multiple-files-using-python-3-7\n",
    "* https://stackoverflow.com/questions/28384588/twitter-api-get-tweets-with-specific-id\n",
    "* https://docs.tweepy.org/en/stable/authentication.html#twitter-api-v2\n",
    "* https://stackoverflow.com/questions/38111125/typeerror-init-got-an-unexpected-keyword-argument-wait-on-rate-limit\n",
    "* https://towardsdatascience.com/twitter-json-data-processing-3f353a5deac4\n",
    "* https://stackoverflow.com/questions/54942467/loop-when-scraping-with-python\n",
    "* https://stackoverflow.com/questions/12309269/how-do-i-write-json-data-to-a-file/12309296#12309296\n",
    "* To print the length of a list: https://stackabuse.com/python-get-number-of-elements-in-a-list/\n",
    "* String formatting: https://realpython.com/python-f-strings/ \n",
    "* Merging Datasets: https://pandas.pydata.org/docs/user_guide/merging.html\n",
    "* https://stackoverflow.com/questions/44327999/python-pandas-merge-multiple-dataframes\n",
    "* Extracting strings from urls:https://stackoverflow.com/questions/3075130/what-is-the-difference-between-and-regular-expressions\n",
    "* https://stackoverflow.com/questions/17695662/extract-a-part-of-url-python \n",
    "* https://stackoverflow.com/questions/20602947/append-column-to-pandas-dataframe\n",
    "* https://stackoverflow.com/questions/22245171/how-to-lowercase-a-python-dataframe-string-column-if-it-has-missing-values\n",
    "* https://stackoverflow.com/questions/33179122/seaborn-countplot-with-frequencies\n",
    "* https://stackoverflow.com/questions/32891211/limit-the-number-of-groups-shown-in-seaborn-countplot\n",
    "* https://stackoverflow.com/questions/28931224/how-to-add-value-labels-on-a-bar-chart\n",
    "* https://stackoverflow.com/questions/28931224/how-to-add-value-labels-on-a-bar-chart"
   ]
  },
  {
   "cell_type": "markdown",
   "metadata": {},
   "source": []
  }
 ],
 "metadata": {
  "kernelspec": {
   "display_name": "Python 3.9.12 ('base')",
   "language": "python",
   "name": "python3"
  },
  "language_info": {
   "codemirror_mode": {
    "name": "ipython",
    "version": 3
   },
   "file_extension": ".py",
   "mimetype": "text/x-python",
   "name": "python",
   "nbconvert_exporter": "python",
   "pygments_lexer": "ipython3",
   "version": "3.9.12"
  },
  "vscode": {
   "interpreter": {
    "hash": "0dd454f01e0f58b24956230a51a1e79232a4adb67b3582e73a26f5908b9be084"
   }
  }
 },
 "nbformat": 4,
 "nbformat_minor": 2
}
